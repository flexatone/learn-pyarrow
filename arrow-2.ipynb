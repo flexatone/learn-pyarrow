{
 "cells": [
  {
   "cell_type": "markdown",
   "id": "008014fa",
   "metadata": {
    "slideshow": {
     "slide_type": "slide"
    }
   },
   "source": [
    "# A Tour of Apache Arrow"
   ]
  },
  {
   "cell_type": "markdown",
   "id": "5399e5eb",
   "metadata": {
    "slideshow": {
     "slide_type": "slide"
    }
   },
   "source": [
    "# Apache Arrow (History)\n",
    "\n",
    "- Wes McKinney - \"10 things I hate about pandas\"\n",
    "- Started around 2017\n",
    "- Supported by Apache Software Foundation\n",
    "     "
   ]
  },
  {
   "cell_type": "markdown",
   "id": "9161f94e",
   "metadata": {
    "slideshow": {
     "slide_type": "slide"
    }
   },
   "source": [
    "# Apache Arrow (History)\n",
    "\n",
    "The 10 (actually 11) things that are identified by Wec McKinney\n",
    "\n",
    "\n",
    "    Internals too far from \"the metal\"\n",
    "    No support for memory-mapped datasets\n",
    "    Poor performance in database and file ingest / export\n",
    "    Warty missing data support\n",
    "    Lack of transparency into memory use, RAM management\n",
    "    Weak support for categorical data\n",
    "    Complex groupby operations awkward and slow\n",
    "    Appending data to a DataFrame tedious and very costly\n",
    "    Limited, non-extensible type metadata\n",
    "    Eager evaluation model, no query planning\n",
    "    \"Slow\", limited multicore algorithms for large datasets\n",
    "\n",
    "\n"
   ]
  },
  {
   "cell_type": "markdown",
   "id": "3728c7b0",
   "metadata": {
    "slideshow": {
     "slide_type": "slide"
    }
   },
   "source": [
    "\n",
    "# Apache Arrow (History)\n",
    "\n",
    "The 10(actually 11) things that are identified by Wec McKinney\n",
    "\n",
    "\n",
    "1. Internals too far from \"the metal\"\n",
    "2. No support for memory-mapped datasets\n",
    "3. ~~Poor performance in database and file ingest / export ~~\n",
    "4. Warty missing data support\n",
    "5. Lack of transparency into memory use, RAM management \n",
    "6. Weak support for categorical data\n",
    "7. ~~Complex groupby operations awkward and slow ~~\n",
    "8. ~~Appending data to a DataFrame tedious and very costly ~~\n",
    "9. Limited, non-extensible type metadata\n",
    "10. ~~Eager evaluation model, no query planning ~~\n",
    "11. ~~\"Slow\", limited multicore algorithms for large datasets ~~\n",
    "\n",
    "\n",
    "\n",
    "\n",
    "\n"
   ]
  },
  {
   "cell_type": "markdown",
   "id": "a169df2e",
   "metadata": {
    "slideshow": {
     "slide_type": "slide"
    }
   },
   "source": [
    "# Apache Arrow (Goals)\n",
    "\n",
    "From: https://arrow.apache.org/docs/index.html\n",
    "\n",
    "-  Development platform for in-memory analytics\n",
    "-  Process and move data faster\n",
    "-  Standardized language indepedent columnar format for flat and hierarchical data\n",
    "-  Zero-copy shared memory and RPC-based data movement"
   ]
  },
  {
   "cell_type": "markdown",
   "id": "ffda3526",
   "metadata": {
    "slideshow": {
     "slide_type": "slide"
    }
   },
   "source": [
    "# Apache Arrow (Goals)\n",
    "\n",
    "\n",
    " \n",
    "![arrow](https://www.tutorialandexample.com/wp-content/uploads/2019/06/Introduction-to-Apache-Arrow.png)\n",
    "     \n",
    "Source: https://www.tutorialandexample.com/wp-content/uploads/2019/06/Introduction-to-Apache-Arrow.png"
   ]
  },
  {
   "cell_type": "markdown",
   "id": "bda033f8",
   "metadata": {
    "slideshow": {
     "slide_type": "slide"
    }
   },
   "source": [
    "# Arrow Columnar Format\n",
    "\n",
    "- Language agnostic in-memory data structure\n",
    "\n",
    "- Data adjacency for sequential access\n",
    "- Constant Random Access\n",
    "- SIMD and vectorization friendly\n",
    "- 'Pointer-Swizling' avoided resulting in zero-copy access in share memory\n",
    "\n",
    "Source:\n",
    "    https://arrow.apache.org/docs/format/Columnar.html"
   ]
  },
  {
   "cell_type": "markdown",
   "id": "5bf93f2e",
   "metadata": {
    "slideshow": {
     "slide_type": "slide"
    }
   },
   "source": [
    "# PyArrow - Python Interface to Apache Arrow\n",
    "\n",
    "- Memory Management\n",
    "- Data Types \n",
    "- Compute Functions\n",
    "- Numpy Integration\n",
    "- Pandas Integration\n"
   ]
  },
  {
   "cell_type": "markdown",
   "id": "25a2531a",
   "metadata": {
    "slideshow": {
     "slide_type": "slide"
    }
   },
   "source": [
    "# Memory management\n",
    "\n",
    "-  Buffer \n",
    "-  Memory Pools\n",
    "-  Input/Output Streams\n",
    "-  On-Disk and Memory mapping Files"
   ]
  },
  {
   "cell_type": "markdown",
   "id": "db14f326",
   "metadata": {
    "slideshow": {
     "slide_type": "slide"
    }
   },
   "source": [
    "# Memory View and Buffer protocol\n",
    "\n",
    "- Buffer protocol provides access to internal representation of memory\n",
    "- MemoryView is a mechanism to access this internal mechanism from Python land.\n",
    "- Let's look at some examples\n",
    "\n"
   ]
  },
  {
   "cell_type": "code",
   "execution_count": 1,
   "id": "741d8617",
   "metadata": {
    "slideshow": {
     "slide_type": "fragment"
    }
   },
   "outputs": [
    {
     "data": {
      "text/plain": [
       "b'hello world'"
      ]
     },
     "execution_count": 1,
     "metadata": {},
     "output_type": "execute_result"
    }
   ],
   "source": [
    "# Example memory view\n",
    "\n",
    "data = b'hello world'\n",
    "m = memoryview(data)\n",
    "m.obj\n"
   ]
  },
  {
   "cell_type": "code",
   "execution_count": 2,
   "id": "e7441864",
   "metadata": {
    "slideshow": {
     "slide_type": "fragment"
    }
   },
   "outputs": [
    {
     "name": "stdout",
     "output_type": "stream",
     "text": [
      "m[0]=104, bytes(m[0:1])=b'h'\n"
     ]
    }
   ],
   "source": [
    "print(f'{m[0]=}, {bytes(m[0:1])=}')"
   ]
  },
  {
   "cell_type": "markdown",
   "id": "07919022",
   "metadata": {
    "slideshow": {
     "slide_type": "slide"
    }
   },
   "source": [
    "# Memory View and Buffer protocol"
   ]
  },
  {
   "cell_type": "code",
   "execution_count": 3,
   "id": "c2d440dc",
   "metadata": {
    "slideshow": {
     "slide_type": "fragment"
    }
   },
   "outputs": [
    {
     "name": "stdout",
     "output_type": "stream",
     "text": [
      "m[-1]=104\n",
      "data after update = bytearray(b'abcefgH')\n",
      "b'fgH'\n"
     ]
    }
   ],
   "source": [
    "# mutate memory view\n",
    "data = bytearray('abcefgh', encoding='utf-8')\n",
    "m = memoryview(data)\n",
    "print(f'{m[-1]=}')\n",
    "\n",
    "# some assignments\n",
    "k = m[-3:]  # a slice of memory view is not new allocation\n",
    "m[-1] = 72 # capital H\n",
    "\n",
    "print(f'data after update = {data}')\n",
    "\n",
    "print(bytes(k)) \n"
   ]
  },
  {
   "cell_type": "markdown",
   "id": "094194e0",
   "metadata": {
    "slideshow": {
     "slide_type": "slide"
    }
   },
   "source": [
    "# Arrow Buffers"
   ]
  },
  {
   "cell_type": "code",
   "execution_count": 4,
   "id": "68d8fc88",
   "metadata": {
    "slideshow": {
     "slide_type": "fragment"
    }
   },
   "outputs": [
    {
     "data": {
      "text/plain": [
       "b'fgh'"
      ]
     },
     "execution_count": 4,
     "metadata": {},
     "output_type": "execute_result"
    }
   ],
   "source": [
    "# Pyarrow.buffer\n",
    "\n",
    "import pyarrow as pa\n",
    "\n",
    "data = b'abcdefgh'\n",
    "data_buffer = pa.py_buffer(data)\n",
    "\n",
    "z = data_buffer[-3:]\n",
    "z.to_pybytes()"
   ]
  },
  {
   "cell_type": "markdown",
   "id": "33b138d6",
   "metadata": {
    "slideshow": {
     "slide_type": "slide"
    }
   },
   "source": [
    "# Controlling Memory Allocation"
   ]
  },
  {
   "cell_type": "code",
   "execution_count": 5,
   "id": "3c74226a",
   "metadata": {
    "slideshow": {
     "slide_type": "fragment"
    }
   },
   "outputs": [
    {
     "name": "stdout",
     "output_type": "stream",
     "text": [
      "4032\n"
     ]
    },
    {
     "data": {
      "text/plain": [
       "<pyarrow.lib.Buffer at 0x7ff9e40b0470>"
      ]
     },
     "execution_count": 5,
     "metadata": {},
     "output_type": "execute_result"
    }
   ],
   "source": [
    "# Memory managed in Memory Pools\n",
    "\n",
    "new_buffer = pa.allocate_buffer(4000)\n",
    "print(pa.total_allocated_bytes())\n",
    "\n",
    "new_buffer\n",
    "\n",
    "#new_buffer[0] = None # Does not support assignment"
   ]
  },
  {
   "cell_type": "markdown",
   "id": "654c5fd0",
   "metadata": {
    "slideshow": {
     "slide_type": "slide"
    }
   },
   "source": [
    "# Writing/Reading To/From Buffers"
   ]
  },
  {
   "cell_type": "code",
   "execution_count": 6,
   "id": "03354527",
   "metadata": {
    "slideshow": {
     "slide_type": "fragment"
    }
   },
   "outputs": [
    {
     "name": "stdout",
     "output_type": "stream",
     "text": [
      "Type of buffer= <class 'pyarrow.lib.Buffer'>\n"
     ]
    },
    {
     "data": {
      "text/plain": [
       "b' world'"
      ]
     },
     "execution_count": 6,
     "metadata": {},
     "output_type": "execute_result"
    }
   ],
   "source": [
    "# Reading/Writing To/From In-Memory Buffer\n",
    "\n",
    "write = pa.BufferOutputStream()\n",
    "write.write(b'hello world')\n",
    "\n",
    "# write.getvalue # Finalize output stream and return stream as buffer\n",
    "buffer = write.getvalue()\n",
    "\n",
    "print('Type of buffer=', type(buffer))\n",
    "\n",
    "reader = pa.BufferReader(buffer)\n",
    "reader.read_at(6, 5)\n",
    "\n",
    "# write.write(b'hello world, again') # not writing possible once read\n"
   ]
  },
  {
   "cell_type": "markdown",
   "id": "003ece81",
   "metadata": {
    "slideshow": {
     "slide_type": "slide"
    }
   },
   "source": [
    "# Stream - Buffer Relationship\n",
    "\n",
    "    Write action ===> OutputStream ===> Buffer\n",
    "\n",
    "\n",
    "    Read action <==== InputStream <==== Buffer\n",
    "\n",
    "The `streams` can be specialized (for example reading/writing custom data structure)\n"
   ]
  },
  {
   "cell_type": "markdown",
   "id": "e56d3c0d",
   "metadata": {
    "slideshow": {
     "slide_type": "slide"
    }
   },
   "source": [
    "# Data Types and In-Memory Data Model\n",
    "\n",
    "-  Columnar data structures = type meta-data + memory buffers\n",
    "-  pyarrow.DataType\n",
    "-  pyarrow.Schema - collections of pyarrow.DataType\n",
    "-  pyarrow.Arrays - atomic, contiguous columnar data structures composed from arrow buffer objects\n",
    "-  pyarrow.RecordBatch - collection of ArrayObjects of a particular schema\n",
    "-  pyarrow.Table  - Each column consists of pyarrow.Array\n",
    "\n",
    "\n"
   ]
  },
  {
   "cell_type": "markdown",
   "id": "ed51c14e",
   "metadata": {
    "slideshow": {
     "slide_type": "slide"
    }
   },
   "source": [
    "# Supported Types (Richer than what you store in Pandas/Numpy)\n",
    "\n",
    "-  Fixed-length primitives - number, floats, timestamp etc\n",
    "-  Variable-lenght primitives (strings)\n",
    "-  Nested-Types (list, struct, union)\n",
    "-  Dictionary types ( we wont cover this)\n",
    "  \n",
    " "
   ]
  },
  {
   "cell_type": "markdown",
   "id": "29340b63",
   "metadata": {
    "slideshow": {
     "slide_type": "slide"
    }
   },
   "source": [
    "# Primitive Types"
   ]
  },
  {
   "cell_type": "code",
   "execution_count": 7,
   "id": "dfa79d86",
   "metadata": {
    "slideshow": {
     "slide_type": "fragment"
    }
   },
   "outputs": [
    {
     "name": "stdout",
     "output_type": "stream",
     "text": [
      "int32\n",
      "double\n",
      "sample_float=<pyarrow.DoubleScalar: 100.0>, \n",
      "sample_str=<pyarrow.StringScalar: 'hello world'>\n"
     ]
    }
   ],
   "source": [
    "# Primitive Types\n",
    "\n",
    "print(pa.int32())\n",
    "print(pa.float64())\n",
    "\n",
    "sample_float = pa.scalar(100.0, type=pa.float64())\n",
    "sample_str = pa.scalar(\"hello world\", type=pa.string())\n",
    "\n",
    "print(f'{sample_float=}, \\n{sample_str=}')"
   ]
  },
  {
   "cell_type": "markdown",
   "id": "8ad1d9ed",
   "metadata": {
    "slideshow": {
     "slide_type": "slide"
    }
   },
   "source": [
    "# Composing Primitive Types to Define Fields"
   ]
  },
  {
   "cell_type": "code",
   "execution_count": 8,
   "id": "357da165",
   "metadata": {
    "slideshow": {
     "slide_type": "fragment"
    }
   },
   "outputs": [
    {
     "name": "stdout",
     "output_type": "stream",
     "text": [
      "f1=pyarrow.Field<country_count: int32>, \n",
      "f2=pyarrow.Field<price: double>\n"
     ]
    }
   ],
   "source": [
    "### Types used to define schema (metadata)\n",
    "\n",
    "f1 = pa.field('country_count', pa.int32())\n",
    "f2 = pa.field('price', pa.float64())\n",
    "\n",
    "print(f'{f1=}, \\n{f2=}')\n"
   ]
  },
  {
   "cell_type": "markdown",
   "id": "cd9abe67",
   "metadata": {
    "slideshow": {
     "slide_type": "slide"
    }
   },
   "source": [
    "# Compose collection of fields into structs"
   ]
  },
  {
   "cell_type": "code",
   "execution_count": 9,
   "id": "d0b93d47",
   "metadata": {
    "slideshow": {
     "slide_type": "fragment"
    }
   },
   "outputs": [
    {
     "data": {
      "text/plain": [
       "StructType(struct<security_id: int32, price: double, data_date: date64[ms]>)"
      ]
     },
     "execution_count": 9,
     "metadata": {},
     "output_type": "execute_result"
    }
   ],
   "source": [
    "\n",
    "f1 = pa.field('security_id', pa.int32())\n",
    "f2 = pa.field('price', pa.float64())\n",
    "f3 = pa.field('data_date', pa.date64())\n",
    "\n",
    "new_struct =  pa.struct([f1, f2, f3])\n",
    "\n",
    "new_struct\n"
   ]
  },
  {
   "cell_type": "markdown",
   "id": "151fc064",
   "metadata": {
    "slideshow": {
     "slide_type": "slide"
    }
   },
   "source": [
    "# Arrays of Primitives/Structs"
   ]
  },
  {
   "cell_type": "code",
   "execution_count": 10,
   "id": "84418bca",
   "metadata": {
    "slideshow": {
     "slide_type": "fragment"
    }
   },
   "outputs": [
    {
     "name": "stdout",
     "output_type": "stream",
     "text": [
      "x=<pyarrow.lib.DoubleArray object at 0x7ff9a4039d60>\n",
      "[\n",
      "  1,\n",
      "  2,\n",
      "  3,\n",
      "  4\n",
      "] \n",
      "y=<pyarrow.lib.StringArray object at 0x7ff9a4039e20>\n",
      "[\n",
      "  \"sec1\",\n",
      "  \"sec2\",\n",
      "  \"sec3\",\n",
      "  \"sec4\"\n",
      "]\n"
     ]
    }
   ],
   "source": [
    "\n",
    "x = pa.array([1.0, 2.0, 3.0, 4.0], type=pa.float64())\n",
    "y = pa.array(['sec1', 'sec2', 'sec3', 'sec4'], type=pa.string())\n",
    "\n",
    "print(f'{x=} \\n{y=}')"
   ]
  },
  {
   "cell_type": "markdown",
   "id": "38510a18",
   "metadata": {
    "slideshow": {
     "slide_type": "slide"
    }
   },
   "source": [
    "# More examples of Arrays"
   ]
  },
  {
   "cell_type": "code",
   "execution_count": 11,
   "id": "086ffa1a",
   "metadata": {
    "slideshow": {
     "slide_type": "fragment"
    }
   },
   "outputs": [
    {
     "name": "stdout",
     "output_type": "stream",
     "text": [
      "int_arr=<pyarrow.lib.UInt32Array object at 0x7ff9a4050400>\n",
      "[\n",
      "  100,\n",
      "  200,\n",
      "  300,\n",
      "  null\n",
      "]\n",
      "float_arr=<pyarrow.lib.DoubleArray object at 0x7ff9a4050100>\n",
      "[\n",
      "  100.1,\n",
      "  200,\n",
      "  300,\n",
      "  nan,\n",
      "  null\n",
      "]\n",
      "float_arr[-1]=<pyarrow.DoubleScalar: None>\n"
     ]
    },
    {
     "data": {
      "text/plain": [
       "1"
      ]
     },
     "execution_count": 11,
     "metadata": {},
     "output_type": "execute_result"
    }
   ],
   "source": [
    "\n",
    "int_arr = pa.array([100, 200, 300, None], type=pa.uint32())\n",
    "print(f'{int_arr=}')\n",
    "\n",
    "float_arr = pa.array([100.1, 200.0, 300.0, float('nan'), None])\n",
    "print(f'{float_arr=}')\n",
    "\n",
    "# check out the NULLs\n",
    "print(f'{float_arr[-1]=}')\n",
    "\n",
    "float_arr.null_count "
   ]
  },
  {
   "cell_type": "code",
   "execution_count": 12,
   "id": "7b33c3c7",
   "metadata": {
    "slideshow": {
     "slide_type": "fragment"
    }
   },
   "outputs": [
    {
     "data": {
      "text/plain": [
       "<pyarrow.lib.DoubleArray object at 0x7ff9a4050700>\n",
       "[\n",
       "  200,\n",
       "  300\n",
       "]"
      ]
     },
     "execution_count": 12,
     "metadata": {},
     "output_type": "execute_result"
    }
   ],
   "source": [
    "# Slicing is zero-copy operation, since Array's are readonly\n",
    "float_arr[1:3]"
   ]
  },
  {
   "cell_type": "markdown",
   "id": "cb350c68",
   "metadata": {
    "slideshow": {
     "slide_type": "slide"
    }
   },
   "source": [
    "# Missing Values (None)"
   ]
  },
  {
   "cell_type": "code",
   "execution_count": 13,
   "id": "ef0da57b",
   "metadata": {
    "slideshow": {
     "slide_type": "fragment"
    }
   },
   "outputs": [
    {
     "data": {
      "text/plain": [
       "False"
      ]
     },
     "execution_count": 13,
     "metadata": {},
     "output_type": "execute_result"
    }
   ],
   "source": [
    "# Dealings with Nones\n",
    "\n",
    "x = int_arr[-1]\n",
    "\n",
    "x.is_valid\n"
   ]
  },
  {
   "cell_type": "markdown",
   "id": "7109dc26",
   "metadata": {
    "slideshow": {
     "slide_type": "slide"
    }
   },
   "source": [
    "# Composing Arrays into RecordBatch (like a Frame)\n",
    "\n",
    "1. Define schema\n",
    "2. Define arrays for each field in schema\n",
    "3. Create a RecordBatch"
   ]
  },
  {
   "cell_type": "code",
   "execution_count": 14,
   "id": "5860dd14",
   "metadata": {
    "slideshow": {
     "slide_type": "fragment"
    }
   },
   "outputs": [
    {
     "data": {
      "text/plain": [
       "security_id: int32\n",
       "price: double\n",
       "data_data: date64[ms]"
      ]
     },
     "execution_count": 14,
     "metadata": {},
     "output_type": "execute_result"
    }
   ],
   "source": [
    "# One can also define Schemas (to be used with Table/Record Batch)\n",
    "\n",
    "schema = pa.schema([('security_id', pa.int32()), \n",
    "                    ('price', pa.float64()), \n",
    "                    ('data_data', pa.date64())])\n",
    "schema\n",
    "\n",
    "# schema's can also have nested structures\n",
    "\n"
   ]
  },
  {
   "cell_type": "markdown",
   "id": "614be5a7",
   "metadata": {
    "slideshow": {
     "slide_type": "slide"
    }
   },
   "source": [
    "# Record Batches\n",
    "\n",
    "- Collection of equal length array instances\n",
    "- Remember (arrays are just contiguous elements of primitives, structs, unions)\n"
   ]
  },
  {
   "cell_type": "code",
   "execution_count": 15,
   "id": "4d74a804",
   "metadata": {
    "slideshow": {
     "slide_type": "fragment"
    }
   },
   "outputs": [
    {
     "name": "stdout",
     "output_type": "stream",
     "text": [
      "batch.num_columns=3, \n",
      "batch.num_rows=4, \n",
      "batch.schema=f0: int64\n",
      "f1: string\n",
      "f2: bool, \n",
      "\n",
      "batch[1]=<pyarrow.lib.StringArray object at 0x7ff9a4050940>\n",
      "[\n",
      "  \"foo\",\n",
      "  \"bar\",\n",
      "  \"baz\",\n",
      "  null\n",
      "]\n"
     ]
    }
   ],
   "source": [
    "# all elements should be of same length\n",
    "data = [\n",
    "    pa.array([1,2,3,4]),\n",
    "    pa.array(['foo', 'bar','baz', None]),\n",
    "    pa.array([True, None, False, True])\n",
    "]\n",
    "batch = pa.RecordBatch.from_arrays(data, ['f0', 'f1', 'f2'])\n",
    "\n",
    "print(f'{batch.num_columns=}, \\n{batch.num_rows=}, \\n{batch.schema=}, \\n\\n{batch[1]=}')\n"
   ]
  },
  {
   "cell_type": "markdown",
   "id": "feb7b753",
   "metadata": {
    "slideshow": {
     "slide_type": "slide"
    }
   },
   "source": [
    "# Slicing into Record Batches\n",
    "\n",
    "-  Zero-copy!"
   ]
  },
  {
   "cell_type": "code",
   "execution_count": 16,
   "id": "ece6b3c7",
   "metadata": {
    "slideshow": {
     "slide_type": "fragment"
    }
   },
   "outputs": [
    {
     "name": "stdout",
     "output_type": "stream",
     "text": [
      "batch[0:2][1] = <pyarrow.lib.StringArray object at 0x7ff9a4050be0>\n",
      "[\n",
      "  \"foo\",\n",
      "  \"bar\"\n",
      "], batch[0:2][0] = <pyarrow.lib.Int64Array object at 0x7ff9a4050be0>\n",
      "[\n",
      "  1,\n",
      "  2\n",
      "]\n"
     ]
    }
   ],
   "source": [
    "print(f'{batch[0:2][1] = }, {batch[0:2][0] = }')"
   ]
  },
  {
   "cell_type": "markdown",
   "id": "da775bfe",
   "metadata": {
    "slideshow": {
     "slide_type": "slide"
    }
   },
   "source": [
    "# Tables\n",
    "\n",
    "- Grouping RecordBatches into one logical unit\n",
    "- Needed so that record-batches arriving from different processes need not be copied/reorganized again\n",
    "- Tables can also be concatenated"
   ]
  },
  {
   "cell_type": "code",
   "execution_count": 17,
   "id": "3197614c",
   "metadata": {
    "slideshow": {
     "slide_type": "fragment"
    }
   },
   "outputs": [
    {
     "data": {
      "text/plain": [
       "<pyarrow.lib.ChunkedArray object at 0x7ff9a405eb80>\n",
       "[\n",
       "  [\n",
       "    1,\n",
       "    2,\n",
       "    3,\n",
       "    4\n",
       "  ],\n",
       "  [\n",
       "    1,\n",
       "    2,\n",
       "    3,\n",
       "    4\n",
       "  ]\n",
       "]"
      ]
     },
     "execution_count": 17,
     "metadata": {},
     "output_type": "execute_result"
    }
   ],
   "source": [
    "batches = [batch] * 2\n",
    "table = pa.Table.from_batches(batches)\n",
    "\n",
    "table[0]"
   ]
  },
  {
   "cell_type": "markdown",
   "id": "d01f1a9c",
   "metadata": {
    "slideshow": {
     "slide_type": "slide"
    }
   },
   "source": [
    "# Things we did not cover\n",
    "\n",
    "1. Categorical Types\n",
    "2. Union/Structs/Nested Data structures"
   ]
  },
  {
   "cell_type": "markdown",
   "id": "7d4bbd47",
   "metadata": {
    "slideshow": {
     "slide_type": "slide"
    }
   },
   "source": [
    "# What does Zero-Copy mean?\n",
    "\n",
    "### Typical Transfer of Data (between boundaries)\n",
    "\n",
    "Object -> Serialize (to Bytes) -> Network/Process/DataStructure boundary -> Deserialize(from Bytes) -> Object\n",
    "\n",
    "### With Zero-Copy\n",
    "\n",
    "Bytes -> Serialize (no-op) -> Network/Process/DataStructure boundary -> Deserialize -> Bytes (no-op)"
   ]
  },
  {
   "cell_type": "markdown",
   "id": "495eba2d",
   "metadata": {
    "slideshow": {
     "slide_type": "slide"
    }
   },
   "source": [
    "# Numpy Integration - Numpy -> Arrow\n",
    "\n",
    "- Conversion support limited to primitive types"
   ]
  },
  {
   "cell_type": "code",
   "execution_count": 20,
   "id": "a2789cd8",
   "metadata": {
    "slideshow": {
     "slide_type": "fragment"
    }
   },
   "outputs": [
    {
     "data": {
      "text/plain": [
       "<pyarrow.lib.Int64Array object at 0x7ff9a402e4c0>\n",
       "[\n",
       "  0,\n",
       "  1,\n",
       "  2,\n",
       "  3,\n",
       "  4,\n",
       "  5,\n",
       "  6,\n",
       "  7,\n",
       "  8,\n",
       "  100\n",
       "]"
      ]
     },
     "execution_count": 20,
     "metadata": {},
     "output_type": "execute_result"
    }
   ],
   "source": [
    "import numpy as np\n",
    "a = np.arange(10)\n",
    "a\n",
    "\n",
    "arrow = pa.Array.from_pandas(a)\n",
    "arrow\n",
    "\n",
    "# zero-copy (a view is returned)\n",
    "a[-1] = 100\n",
    "arrow\n"
   ]
  },
  {
   "cell_type": "markdown",
   "id": "a1b48522",
   "metadata": {
    "slideshow": {
     "slide_type": "slide"
    }
   },
   "source": [
    "# Numpy Integration - Numpy -> Arrow\n",
    "\n",
    "- Not always a zero-copy"
   ]
  },
  {
   "cell_type": "code",
   "execution_count": 25,
   "id": "acee3d3c",
   "metadata": {
    "slideshow": {
     "slide_type": "fragment"
    }
   },
   "outputs": [
    {
     "data": {
      "text/plain": [
       "<pyarrow.lib.ListArray object at 0x7ff9a3fede80>\n",
       "[\n",
       "  [\n",
       "    [\n",
       "      0,\n",
       "      1,\n",
       "      2,\n",
       "      3,\n",
       "      4,\n",
       "      5,\n",
       "      6,\n",
       "      7,\n",
       "      8,\n",
       "      9\n",
       "    ]\n",
       "  ]\n",
       "]"
      ]
     },
     "execution_count": 25,
     "metadata": {},
     "output_type": "execute_result"
    }
   ],
   "source": [
    "a = np.arange(10)\n",
    "a\n",
    "\n",
    "arrow = pa.Array.from_pandas([[a]])\n",
    "arrow\n",
    "a[-1]=100\n",
    "arrow\n"
   ]
  },
  {
   "cell_type": "markdown",
   "id": "b2e64c9d",
   "metadata": {
    "slideshow": {
     "slide_type": "slide"
    }
   },
   "source": [
    "# Numpy Integration - Arrow -> Numpy\n",
    "\n",
    "- Conversion support limited to primitive types (better to just use from_pandas)"
   ]
  },
  {
   "cell_type": "code",
   "execution_count": 29,
   "id": "8a443c9c",
   "metadata": {
    "slideshow": {
     "slide_type": "fragment"
    }
   },
   "outputs": [
    {
     "data": {
      "text/plain": [
       "False"
      ]
     },
     "execution_count": 29,
     "metadata": {},
     "output_type": "execute_result"
    }
   ],
   "source": [
    "arrow = pa.Array.from_pandas(a)\n",
    "a = arrow.to_numpy()\n",
    "a\n",
    "a.flags.writeable\n",
    "#a[-1]=200  # not possible, since arrow sets num"
   ]
  },
  {
   "cell_type": "markdown",
   "id": "f3285e92",
   "metadata": {
    "slideshow": {
     "slide_type": "slide"
    }
   },
   "source": [
    "# Pandas Integration\n",
    "\n",
    "- Lots of conditions around zero-copy conversion\n",
    "- More information of datatype mapping (https://arrow.apache.org/docs/python/pandas.html)"
   ]
  },
  {
   "cell_type": "code",
   "execution_count": 33,
   "id": "10b2485c",
   "metadata": {
    "slideshow": {
     "slide_type": "fragment"
    }
   },
   "outputs": [
    {
     "data": {
      "text/plain": [
       "<pyarrow.lib.DoubleArray object at 0x7ff9a3fedee0>\n",
       "[\n",
       "  0.1,\n",
       "  0.2,\n",
       "  0.3\n",
       "]"
      ]
     },
     "execution_count": 33,
     "metadata": {},
     "output_type": "execute_result"
    }
   ],
   "source": [
    "import pandas as pd\n",
    "df = pd.DataFrame(\n",
    "    data=dict(a=[0.1, 0.2, 0.3], \n",
    "              b=[\"test\", None, \"test\"],\n",
    "              c=[\"foo\", \"bar\", \"baz\"],\n",
    "))\n",
    "\n",
    "arrow = pa.RecordBatch.from_pandas(df)\n",
    "arrow[0]"
   ]
  },
  {
   "cell_type": "markdown",
   "id": "2819f3a6",
   "metadata": {
    "slideshow": {
     "slide_type": "slide"
    }
   },
   "source": [
    "# Zero-Copy Gotchas"
   ]
  },
  {
   "cell_type": "code",
   "execution_count": 34,
   "id": "9b1c7be5",
   "metadata": {
    "slideshow": {
     "slide_type": "fragment"
    }
   },
   "outputs": [
    {
     "name": "stdout",
     "output_type": "stream",
     "text": [
      "x[0]=<pyarrow.lib.DoubleArray object at 0x7ff9a3f96b80>\n",
      "[\n",
      "  0.1,\n",
      "  0.2,\n",
      "  100\n",
      "], x[1]=<pyarrow.lib.StringArray object at 0x7ff9a3f96b80>\n",
      "[\n",
      "  \"test\",\n",
      "  null,\n",
      "  \"test\"\n",
      "], x[2]=<pyarrow.lib.StringArray object at 0x7ff9a3f96b80>\n",
      "[\n",
      "  \"foo\",\n",
      "  \"bar\",\n",
      "  \"baz\"\n",
      "]\n"
     ]
    }
   ],
   "source": [
    "df = pd.DataFrame(data=dict(a=[0.1, 0.2, 0.3], \n",
    "                            b=[\"test\", None, \"test\"],\n",
    "                            c=[\"foo\", \"bar\", \"baz\"]))\n",
    "\n",
    "x = pa.RecordBatch.from_pandas(df)\n",
    "df.iloc[-1]=[100, 'change', \"foo\"]\n",
    "print(f'{x[0]=}, {x[1]=}, {x[2]=}')\n"
   ]
  },
  {
   "cell_type": "markdown",
   "id": "62774ebf",
   "metadata": {
    "slideshow": {
     "slide_type": "slide"
    }
   },
   "source": [
    "# Frames(SF/Pandas) Vs Arrow Table\n",
    "\n",
    "- Both needs columns to be of same length\n",
    "- Columns (arrays in Arrow) can have nested types like struct etc (first class objects)\n",
    "- Tables are read-only \n",
    "- Compact storage and other benefits when using Arrows\n",
    "- Pandas has more support for analytical functions"
   ]
  },
  {
   "cell_type": "markdown",
   "id": "be5242b2",
   "metadata": {
    "slideshow": {
     "slide_type": "slide"
    }
   },
   "source": [
    "# Compute Functions"
   ]
  },
  {
   "cell_type": "code",
   "execution_count": 35,
   "id": "292db8a6",
   "metadata": {
    "slideshow": {
     "slide_type": "fragment"
    }
   },
   "outputs": [
    {
     "name": "stdout",
     "output_type": "stream",
     "text": [
      " batch[0] = <pyarrow.lib.Int64Array object at 0x7ff9a3f96400>\n",
      "[\n",
      "  1,\n",
      "  2,\n",
      "  3,\n",
      "  4\n",
      "]\n",
      "\n",
      "a = <pyarrow.Int64Scalar: 10>\n",
      "b = <pyarrow.lib.Int64Array object at 0x7ff9a3f96be0>\n",
      "[\n",
      "  1,\n",
      "  4,\n",
      "  9,\n",
      "  16\n",
      "]\n",
      "pc.add(batch[0], batch[0])=<pyarrow.lib.Int64Array object at 0x7ff9a3f96c40>\n",
      "[\n",
      "  2,\n",
      "  4,\n",
      "  6,\n",
      "  8\n",
      "]\n"
     ]
    }
   ],
   "source": [
    "import pyarrow.compute as pc\n",
    "print(f'{ batch[0] = }\\n')\n",
    "a = pc.sum(batch[0])\n",
    "print(f'{a = }')\n",
    "\n",
    "b = pc.multiply(batch[0], batch[0])\n",
    "print(f'{b = }')\n",
    "\n",
    "print(f'{pc.add(batch[0], batch[0])=}')\n"
   ]
  },
  {
   "cell_type": "markdown",
   "id": "929e82c6",
   "metadata": {
    "slideshow": {
     "slide_type": "slide"
    }
   },
   "source": [
    "# Compute Functions - Containment"
   ]
  },
  {
   "cell_type": "code",
   "execution_count": 36,
   "id": "ca196542",
   "metadata": {
    "slideshow": {
     "slide_type": "fragment"
    }
   },
   "outputs": [
    {
     "name": "stdout",
     "output_type": "stream",
     "text": [
      "batch[0] = <pyarrow.lib.Int64Array object at 0x7ff9a3f96d60>\n",
      "[\n",
      "  1,\n",
      "  2,\n",
      "  3,\n",
      "  4\n",
      "]\n",
      "\n",
      "pc.equal(batch[0], 101)=<pyarrow.lib.BooleanArray object at 0x7ff9a3f96400>\n",
      "[\n",
      "  false,\n",
      "  false,\n",
      "  false,\n",
      "  false\n",
      "]\n",
      "pc.is_in(batch[0], options=l) = <pyarrow.lib.BooleanArray object at 0x7ff9a3f96d60>\n",
      "[\n",
      "  false,\n",
      "  false,\n",
      "  false,\n",
      "  false\n",
      "]\n"
     ]
    }
   ],
   "source": [
    "print(f'{batch[0] = }\\n')\n",
    "print(f'{pc.equal(batch[0], 101)=}')\n",
    "\n",
    "l = pc.SetLookupOptions(value_set=pa.array([101]))\n",
    "print(f'{pc.is_in(batch[0], options=l) = }')"
   ]
  },
  {
   "cell_type": "markdown",
   "id": "741d0fe7",
   "metadata": {
    "slideshow": {
     "slide_type": "slide"
    }
   },
   "source": [
    "# Example Compute Function"
   ]
  },
  {
   "cell_type": "code",
   "execution_count": 37,
   "id": "42c1c74d",
   "metadata": {
    "slideshow": {
     "slide_type": "fragment"
    }
   },
   "outputs": [
    {
     "data": {
      "text/html": [
       "<div>\n",
       "<style scoped>\n",
       "    .dataframe tbody tr th:only-of-type {\n",
       "        vertical-align: middle;\n",
       "    }\n",
       "\n",
       "    .dataframe tbody tr th {\n",
       "        vertical-align: top;\n",
       "    }\n",
       "\n",
       "    .dataframe thead th {\n",
       "        text-align: right;\n",
       "    }\n",
       "</style>\n",
       "<table border=\"1\" class=\"dataframe\">\n",
       "  <thead>\n",
       "    <tr style=\"text-align: right;\">\n",
       "      <th></th>\n",
       "      <th>sec1</th>\n",
       "      <th>sec2</th>\n",
       "      <th>sec3</th>\n",
       "    </tr>\n",
       "  </thead>\n",
       "  <tbody>\n",
       "    <tr>\n",
       "      <th>0</th>\n",
       "      <td>0.009901</td>\n",
       "      <td>0.009901</td>\n",
       "      <td>0.009901</td>\n",
       "    </tr>\n",
       "    <tr>\n",
       "      <th>1</th>\n",
       "      <td>-0.029412</td>\n",
       "      <td>-0.029412</td>\n",
       "      <td>-0.029412</td>\n",
       "    </tr>\n",
       "  </tbody>\n",
       "</table>\n",
       "</div>"
      ],
      "text/plain": [
       "       sec1      sec2      sec3\n",
       "0  0.009901  0.009901  0.009901\n",
       "1 -0.029412 -0.029412 -0.029412"
      ]
     },
     "execution_count": 37,
     "metadata": {},
     "output_type": "execute_result"
    }
   ],
   "source": [
    "# Example Calculating Returns\n",
    "\n",
    "schema = pa.schema([('sec1', pa.float64()),\n",
    "                    ('sec2', pa.float64()),\n",
    "                    ('sec3', pa.float64())])\n",
    "\n",
    "data = [pa.array([101, 102, 99]),\n",
    "        pa.array([201, 200, 195]),\n",
    "        pa.array([10, 20, 15])\n",
    "       ]\n",
    "\n",
    "batch = pa.RecordBatch.from_arrays(data, schema=schema)\n",
    "\n",
    "def compute_returns(old, new):\n",
    "        import pyarrow.compute as pc\n",
    "        return pc.subtract(pc.divide(new, old),1)\n",
    "        \n",
    "returns = []\n",
    "for i in range(batch.num_columns):\n",
    "    price = batch[0]\n",
    "    price1 = price[:-1]\n",
    "    price2 = price[1:]\n",
    "    z = compute_returns(price1, price2)\n",
    "    returns.append(z)\n",
    "    \n",
    "returns_table = pa.RecordBatch.from_arrays(returns, schema=schema)\n",
    "\n",
    "returns_table.to_pandas()"
   ]
  },
  {
   "cell_type": "code",
   "execution_count": 38,
   "id": "66d19377",
   "metadata": {
    "slideshow": {
     "slide_type": "skip"
    }
   },
   "outputs": [],
   "source": [
    "import pickle\n",
    "import pyarrow\n",
    "import matplotlib.pyplot as plt\n",
    "import numpy as np\n",
    "import timeit\n",
    "\n",
    "def plot(data, labels, title, y_label):\n",
    "    fig, ax = plt.subplots()\n",
    "    #fig.set_size_inches(3.8, 2.7)\n",
    "\n",
    "    bar_width = 0.15\n",
    "    index = np.arange(len(labels))\n",
    "    opacity = 0.6\n",
    "\n",
    "    placement = 0\n",
    "    for k, v in data.items():\n",
    "        plt.bar(index+placement,\n",
    "                v,\n",
    "                bar_width,\n",
    "                alpha=opacity, \n",
    "                #color='r', \n",
    "                label=k)\n",
    "        placement += bar_width \n",
    "        \n",
    "\n",
    "    plt.title(title, fontweight='bold')\n",
    "    plt.ylabel(y_label, fontsize=10)\n",
    "    plt.xticks(index + placement / len(list(data.keys())), labels, fontsize=10)\n",
    "    plt.legend(fontsize=10, bbox_to_anchor=(1, 1))\n",
    "    #plt.tight_layout()\n",
    "    plt.yticks(fontsize=10)\n",
    "    plt.savefig('plot-' + title + '.png', format='png')"
   ]
  },
  {
   "cell_type": "code",
   "execution_count": 39,
   "id": "0321c9f8",
   "metadata": {},
   "outputs": [],
   "source": [
    "import pandas as pd\n",
    "def plot_test(filename, title, y_value, y_label):\n",
    "    df = pd.read_csv(filename)\n",
    "    df['method']=df['label'].map(lambda z: z.split('_')[0])\n",
    "    df['rows']=df['label'].map(lambda z: tuple(map(int, z.split('_')[1:])))\n",
    "    data = dict()\n",
    "    df = df.sort_values('rows')\n",
    "    for k, v2 in df.groupby('method'):\n",
    "        g = v2.sort_index()[y_value].values.tolist()\n",
    "        data[k]=g\n",
    "    labels = []\n",
    "    for k, _ in df.groupby('rows'):\n",
    "        labels.append(f'({k[0]:_}, {k[1]})')\n",
    "    #print(labels)\n",
    "    #print(data)\n",
    "    plot(data, labels, title, y_label)\n",
    "\n"
   ]
  },
  {
   "cell_type": "markdown",
   "id": "a89f6b88",
   "metadata": {
    "slideshow": {
     "slide_type": "slide"
    }
   },
   "source": [
    "# Performance in Multi-processing setup"
   ]
  },
  {
   "cell_type": "markdown",
   "id": "a29fe95e",
   "metadata": {
    "slideshow": {
     "slide_type": "subslide"
    }
   },
   "source": [
    "# Performance Tests - 1 (Numpy Vs Arrow)\n",
    "\n",
    "-  Create different arrays with plain floats\n",
    "-  Find sum of each column in a multi-processed pool\n",
    "\n",
    "-  Measure the time taken for serialization -> compute sum per column -> deserialization"
   ]
  },
  {
   "cell_type": "code",
   "execution_count": 40,
   "id": "c59883a3",
   "metadata": {
    "slideshow": {
     "slide_type": "subslide"
    }
   },
   "outputs": [
    {
     "name": "stdout",
     "output_type": "stream",
     "text": [
      "numpy_array=array([[0, 1, 2, 3, 4],\n",
      "       [0, 1, 2, 3, 4],\n",
      "       [0, 1, 2, 3, 4],\n",
      "       [0, 1, 2, 3, 4],\n",
      "       [0, 1, 2, 3, 4]])\n",
      "record_batch.num_columns=5, record_batch.num_rows=5\n"
     ]
    }
   ],
   "source": [
    "# test1.py\n",
    "# Data Set up routines\n",
    "def get_numpy_array(rows, cols):\n",
    "    data = np.array(list(np.array(list(range(0, rows))) for i in range(cols)))\n",
    "    return data\n",
    "\n",
    "\n",
    "def get_batch(rows, cols):\n",
    "    data = get_numpy_array(rows, cols)\n",
    "    batch = pa.RecordBatch.from_arrays(\n",
    "        [pa.array(data[i]) for i in range(cols)],\n",
    "        names=[f\"{x}\" for x in range(0, cols)],\n",
    "    )\n",
    "    return batch\n",
    "\n",
    "numpy_array = get_numpy_array(5, 5)\n",
    "print(f'{numpy_array=}')\n",
    "\n",
    "record_batch = get_batch(5, 5)\n",
    "print(f'{record_batch.num_columns=}, {record_batch.num_rows=}')\n"
   ]
  },
  {
   "cell_type": "code",
   "execution_count": 41,
   "id": "18892ef3",
   "metadata": {
    "slideshow": {
     "slide_type": "subslide"
    }
   },
   "outputs": [],
   "source": [
    "# multi process - simulation\n",
    "def process_batch(args):\n",
    "    batches, index = args\n",
    "    values = batches[0][index]\n",
    "    pc.sum(values)\n",
    "    return psutil.Process(os.getpid()).memory_info().rss / 1e6\n",
    "\n",
    "\n",
    "def run_with_batch(data, row, cols):\n",
    "    with mp.Pool(5) as p:\n",
    "        return sum(p.map(process_batch, [(data, i) for i in range(cols)])) / cols\n",
    "\n",
    "\n",
    "# numpy related funcs\n",
    "def process_numpy(args):\n",
    "    data, index = args\n",
    "    x = np.sum(data[index])\n",
    "    # print(psutil.Process(os.getpid()))\n",
    "    return psutil.Process(os.getpid()).memory_info().rss / 1e6\n",
    "\n",
    "\n",
    "def run_with_numpy(data, row, cols):\n",
    "    import math\n",
    "\n",
    "    with mp.Pool(5) as p:\n",
    "        return sum(p.map(process_numpy, [(data, i) for i in range(cols)])) / cols\n",
    "\n",
    "  "
   ]
  },
  {
   "cell_type": "code",
   "execution_count": 42,
   "id": "90475245",
   "metadata": {
    "slideshow": {
     "slide_type": "subslide"
    }
   },
   "outputs": [
    {
     "data": {
      "image/png": "[encoded data removed]",
      "text/plain": [
       "<Figure size 432x288 with 1 Axes>"
      ]
     },
     "metadata": {
      "needs_background": "light"
     },
     "output_type": "display_data"
    },
    {
     "data": {
      "image/png": "[encoded data removed]",
      "text/plain": [
       "<Figure size 432x288 with 1 Axes>"
      ]
     },
     "metadata": {
      "needs_background": "light"
     },
     "output_type": "display_data"
    }
   ],
   "source": [
    "plot_test('/tmp/test1.txt', 'batch_vs_numpy_only_numeric', 'duration', 'Time (seconds)')\n",
    " \n",
    "plot_test('/tmp/memory_test1.txt', 'batch_vs_numpy_only_numeric', 'size', 'avg memory used per process (MB)')\n"
   ]
  },
  {
   "cell_type": "markdown",
   "id": "86acec61",
   "metadata": {
    "slideshow": {
     "slide_type": "slide"
    }
   },
   "source": [
    "# Performance Tests - 2 (Arrow vs Numpy (forcing Python objects))"
   ]
  },
  {
   "cell_type": "code",
   "execution_count": 43,
   "id": "5a137d61",
   "metadata": {
    "slideshow": {
     "slide_type": "subslide"
    }
   },
   "outputs": [],
   "source": [
    "def get_sample_data(rows):\n",
    "    data = [\n",
    "        np.array([f\"sec_{i}\" for i in range(rows)]),\n",
    "        np.random.rand(rows),\n",
    "        np.random.rand(rows),\n",
    "        np.array([True if i % 2 == 0 else None for i in range(rows)]),\n",
    "    ]\n",
    "    return np.vstack(data)\n",
    "\n",
    "\n",
    "def get_data_arrow(rows):\n",
    "    data = get_sample_data(rows)\n",
    "    arrow_data = []\n",
    "    for column in data:\n",
    "        arrow_data.append(pa.array(column))\n",
    "    return arrow_data\n"
   ]
  },
  {
   "cell_type": "code",
   "execution_count": 44,
   "id": "cf0ab140",
   "metadata": {},
   "outputs": [
    {
     "data": {
      "image/png": "[encoded data removed]",
      "text/plain": [
       "<Figure size 432x288 with 1 Axes>"
      ]
     },
     "metadata": {
      "needs_background": "light"
     },
     "output_type": "display_data"
    },
    {
     "data": {
      "image/png": "[encoded data removed]",
      "text/plain": [
       "<Figure size 432x288 with 1 Axes>"
      ]
     },
     "metadata": {
      "needs_background": "light"
     },
     "output_type": "display_data"
    }
   ],
   "source": [
    "plot_test('/tmp/test2.txt', 'batch_vs_numpy_with_python_objects', 'duration', 'Time (seconds)')\n",
    "plot_test('/tmp/memory_test2.txt', 'batch_vs_numpy_with_python_objects', 'size', 'avg memory used per process (MB)')\n"
   ]
  },
  {
   "cell_type": "markdown",
   "id": "04124d02",
   "metadata": {
    "slideshow": {
     "slide_type": "slide"
    }
   },
   "source": [
    "# Performance Tests - 3 (Arrows vs Pandas vs StaticFrame)"
   ]
  },
  {
   "cell_type": "code",
   "execution_count": 45,
   "id": "89f66d46",
   "metadata": {
    "slideshow": {
     "slide_type": "subslide"
    }
   },
   "outputs": [
    {
     "name": "stdout",
     "output_type": "stream",
     "text": [
      "        0     1         2     3         4     5         6     7         8    \\\n",
      "0  0.334550  True  0.048630  True  0.732798  True  0.430509  True  0.776483   \n",
      "1  0.852346  None  0.769848  None  0.736980  None  0.866753  None  0.629891   \n",
      "2  0.880409  True  0.084206  True  0.881125  True  0.482738  True  0.736207   \n",
      "3  0.102571  None  0.426533  None  0.848314  None  0.515922  None  0.454660   \n",
      "4  0.974159  True  0.305324  True  0.524152  True  0.234713  True  0.930496   \n",
      "\n",
      "    9    ...       190   191       192   193       194   195       196   197  \\\n",
      "0  True  ...  0.350129  True  0.739282  True  0.269506  True  0.029552  True   \n",
      "1  None  ...  0.751208  None  0.813527  None  0.164543  None  0.925128  None   \n",
      "2  True  ...  0.322651  True  0.571179  True  0.018216  True  0.101967  True   \n",
      "3  None  ...  0.348299  None  0.416276  None  0.227717  None  0.600479  None   \n",
      "4  True  ...  0.349069  True  0.291792  True  0.132838  True  0.789523  True   \n",
      "\n",
      "        198   199  \n",
      "0  0.164281  True  \n",
      "1  0.974592  None  \n",
      "2  0.757877  True  \n",
      "3  0.696827  None  \n",
      "4  0.831730  True  \n",
      "\n",
      "[5 rows x 200 columns]\n"
     ]
    }
   ],
   "source": [
    "def get_sample_data(rows):\n",
    "    get_bool_array = lambda: np.array(\n",
    "        [True if i % 2 == 0 else None for i in range(rows)]\n",
    "    )\n",
    "    data = pd.DataFrame(\n",
    "        {\n",
    "            0: [f\"sec_{i}\" for i in range(rows)],\n",
    "            1: np.random.rand(rows),\n",
    "            2: get_bool_array(),\n",
    "            **{\n",
    "                k: (np.random.rand(rows) if k % 2 == 0 else get_bool_array())\n",
    "                for k in range(200)\n",
    "            },\n",
    "        }\n",
    "    )\n",
    "    return data\n",
    "\n",
    "print(get_sample_data(5))"
   ]
  },
  {
   "cell_type": "code",
   "execution_count": 46,
   "id": "c1689909",
   "metadata": {
    "slideshow": {
     "slide_type": "slide"
    }
   },
   "outputs": [
    {
     "data": {
      "image/png": "[encoded data removed]",
      "text/plain": [
       "<Figure size 432x288 with 1 Axes>"
      ]
     },
     "metadata": {
      "needs_background": "light"
     },
     "output_type": "display_data"
    },
    {
     "data": {
      "image/png": "[encoded data removed]",
      "text/plain": [
       "<Figure size 432x288 with 1 Axes>"
      ]
     },
     "metadata": {
      "needs_background": "light"
     },
     "output_type": "display_data"
    }
   ],
   "source": [
    "plot_test('/tmp/test3.txt', 'batch_vs_pandas_vs_staticframe', 'duration', 'Time (seconds)')\n",
    "plot_test('/tmp/memory_test3.txt', 'batch_vs_pandas_vs_staticframe', 'size', 'avg memory used per process (MB)')\n"
   ]
  },
  {
   "cell_type": "markdown",
   "id": "e1ec87f3",
   "metadata": {
    "slideshow": {
     "slide_type": "slide"
    }
   },
   "source": [
    "# Performance Tests - 4 (Batch vs ArrowFile vs Memory Mapped File)"
   ]
  },
  {
   "cell_type": "markdown",
   "id": "6fa72e26",
   "metadata": {
    "slideshow": {
     "slide_type": "fragment"
    }
   },
   "source": [
    "1. Batch - (default serialization)\n",
    "2. ArrowFile -  write to Arrow file and then read from arrow file\n",
    "3. Use memory mapped file."
   ]
  },
  {
   "cell_type": "code",
   "execution_count": 47,
   "id": "70fe508a",
   "metadata": {
    "slideshow": {
     "slide_type": "subslide"
    }
   },
   "outputs": [
    {
     "data": {
      "image/png": "[encoded data removed]",
      "text/plain": [
       "<Figure size 432x288 with 1 Axes>"
      ]
     },
     "metadata": {
      "needs_background": "light"
     },
     "output_type": "display_data"
    },
    {
     "data": {
      "image/png": "[encoded data removed]",
      "text/plain": [
       "<Figure size 432x288 with 1 Axes>"
      ]
     },
     "metadata": {
      "needs_background": "light"
     },
     "output_type": "display_data"
    }
   ],
   "source": [
    "plot_test('/tmp/test4.txt', 'arrow_file_vs_mapped_arrow_file', 'duration', 'Time (seconds)')\n",
    "plot_test('/tmp/memory_test4.txt', 'arrow_file_vs_mapped_arrow_file', 'size', 'avg mem used/process (MB)')\n"
   ]
  },
  {
   "cell_type": "markdown",
   "id": "b32975d7",
   "metadata": {
    "slideshow": {
     "slide_type": "slide"
    }
   },
   "source": [
    "# Why not just use Apache Arrow\n",
    "\n",
    "-  Limited support for compute functions\n",
    "-  StaticFrame/Pandas gives us richer API which Apache Arrow currently does not support\n",
    "-  Working with lower level constructs could become tedious\n",
    "-  Probably, we should start build some infrastructure/api around this ?!"
   ]
  },
  {
   "cell_type": "markdown",
   "id": "478cdef6",
   "metadata": {
    "slideshow": {
     "slide_type": "slide"
    }
   },
   "source": [
    "# Other Resources (for Performance Metrics)\n",
    "\n",
    "1. Ray - https://arrow.apache.org/blog/2017/10/15/fast-python-serialization-with-ray-and-arrow/\n",
    "2. Parquet - - https://stackoverflow.com/questions/48083405/what-are-the-differences-between-feather-and-parquet\n",
    "3. Flight vs Parquet - https://ursalabs.org/blog/2020-feather-v2/"
   ]
  },
  {
   "cell_type": "markdown",
   "id": "101196a3",
   "metadata": {
    "slideshow": {
     "slide_type": "slide"
    }
   },
   "source": [
    "# Other topics not covered\n",
    "\n",
    "-  Plasma store (sharing memory across processes)\n",
    "-  Ray (similar to Plasma, but Python specific) \n",
    "-  Parquet and its relationship to Apache arrow"
   ]
  },
  {
   "cell_type": "markdown",
   "id": "4ede7dee",
   "metadata": {
    "slideshow": {
     "slide_type": "slide"
    }
   },
   "source": [
    "# References\n",
    "\n",
    "[apache-arrow-java] - (https://www.infoq.com/articles/apache-arrow-java/)\n",
    "\n",
    "[pyarrow - Official Site] - (https://arrow.apache.org/docs/python/index.html) \n",
    "    \n",
    "[Apache Arrow and the Future of Data Frames\" with Wes McKinney (2020)] - (https://www.youtube.com/watch?v=fyj4FyH3XdU)\n",
    "\n",
    "[Apache Arrow - In Theory and Practice (2020)] - (https://www.youtube.com/watch?v=SFnkSReEjlk) \n",
    "\n",
    "\n",
    "[Dremel (some ideas of Apache Arrow from here)]- (https://research.google/pubs/pub36632/)\n",
    "\n"
   ]
  },
  {
   "cell_type": "markdown",
   "id": "2de65a96",
   "metadata": {},
   "source": [
    "# Thank You!"
   ]
  }
 ],
 "metadata": {
  "celltoolbar": "Slideshow",
  "kernelspec": {
   "display_name": "Python 3",
   "language": "python",
   "name": "python3"
  },
  "language_info": {
   "codemirror_mode": {
    "name": "ipython",
    "version": 3
   },
   "file_extension": ".py",
   "mimetype": "text/x-python",
   "name": "python",
   "nbconvert_exporter": "python",
   "pygments_lexer": "ipython3",
   "version": "3.8.3"
  }
 },
 "nbformat": 4,
 "nbformat_minor": 5
}
