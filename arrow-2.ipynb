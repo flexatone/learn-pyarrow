{
 "cells": [
  {
   "cell_type": "markdown",
   "id": "49206c92",
   "metadata": {
    "slideshow": {
     "slide_type": "slide"
    }
   },
   "source": [
    "# A Tour of Apache Arrow"
   ]
  },
  {
   "cell_type": "markdown",
   "id": "0e9ded15",
   "metadata": {
    "slideshow": {
     "slide_type": "slide"
    }
   },
   "source": [
    "# Apache Arrow (History)\n",
    "\n",
    "- Wes McKinney - \"10 things I hate about pandas\"\n",
    "- Started around 2017\n",
    "- Supported by Apache Software Foundation\n",
    "     "
   ]
  },
  {
   "cell_type": "markdown",
   "id": "6b4c8c46",
   "metadata": {
    "slideshow": {
     "slide_type": "slide"
    }
   },
   "source": [
    "# Apache Arrow (History)\n",
    "\n",
    "The 10 (actuall 11) things that are identified by Wec McKinney\n",
    "\n",
    "\n",
    "    Internals too far from \"the metal\"\n",
    "    No support for memory-mapped datasets\n",
    "    Poor performance in database and file ingest / export\n",
    "    Warty missing data support\n",
    "    Lack of transparency into memory use, RAM management\n",
    "    Weak support for categorical data\n",
    "    Complex groupby operations awkward and slow\n",
    "    Appending data to a DataFrame tedious and very costly\n",
    "    Limited, non-extensible type metadata\n",
    "    Eager evaluation model, no query planning\n",
    "    \"Slow\", limited multicore algorithms for large datasets\n",
    "\n",
    "\n"
   ]
  },
  {
   "cell_type": "markdown",
   "id": "29585b1a",
   "metadata": {
    "slideshow": {
     "slide_type": "slide"
    }
   },
   "source": [
    "\n",
    "# Apache Arrow (History)\n",
    "\n",
    "The 10(actually 11) things that are identified by Wec McKinney\n",
    "\n",
    "\n",
    "1. Internals too far from \"the metal\"\n",
    "2. No support for memory-mapped datasets\n",
    "3. ~~Poor performance in database and file ingest / export ~~\n",
    "4. Warty missing data support\n",
    "5. Lack of transparency into memory use, RAM management \n",
    "6. Weak support for categorical data\n",
    "7. ~~Complex groupby operations awkward and slow ~~\n",
    "8. ~~Appending data to a DataFrame tedious and very costly ~~\n",
    "9. Limited, non-extensible type metadata\n",
    "10. ~~Eager evaluation model, no query planning ~~\n",
    "11. ~~\"Slow\", limited multicore algorithms for large datasets ~~\n",
    "\n",
    "\n",
    "\n",
    "\n",
    "\n"
   ]
  },
  {
   "cell_type": "markdown",
   "id": "221e035d",
   "metadata": {
    "slideshow": {
     "slide_type": "slide"
    }
   },
   "source": [
    "# Apache Arrow (Goals)\n",
    "\n",
    "From: https://arrow.apache.org/docs/index.html\n",
    "\n",
    "-  Development platform for in-memory analytics\n",
    "-  Process and move data faster\n",
    "-  Standarized language indepedent columnar format for flat and hierarchical data\n",
    "-  Zero-copy shared memory and RPC-based data movement"
   ]
  },
  {
   "cell_type": "markdown",
   "id": "7d23b386",
   "metadata": {
    "slideshow": {
     "slide_type": "slide"
    }
   },
   "source": [
    "# Apache Arrow (Goals)\n",
    "\n",
    "\n",
    " \n",
    "![arrow](https://www.tutorialandexample.com/wp-content/uploads/2019/06/Introduction-to-Apache-Arrow.png)\n",
    "     \n",
    "Source: https://www.tutorialandexample.com/wp-content/uploads/2019/06/Introduction-to-Apache-Arrow.png"
   ]
  },
  {
   "cell_type": "markdown",
   "id": "ff1b91da",
   "metadata": {
    "slideshow": {
     "slide_type": "slide"
    }
   },
   "source": [
    "# Arrow Columnar Format\n",
    "\n",
    "- Language agnostic in-memory data structure\n",
    "\n",
    "- Data adjacency for sequential access\n",
    "- Constant Random Access\n",
    "- SIMD and vectorization friendly\n",
    "- 'Pointer-Swizling' avoided resulting in zero-copy access in share memory\n",
    "\n",
    "Source:\n",
    "    https://arrow.apache.org/docs/format/Columnar.html"
   ]
  },
  {
   "cell_type": "markdown",
   "id": "b08e317e",
   "metadata": {
    "slideshow": {
     "slide_type": "slide"
    }
   },
   "source": [
    "# PyArrow\n",
    "\n",
    "- Memory Management\n",
    "- Data Types \n",
    "- Compute Functions\n",
    "- Plasma In-memory Object store\n",
    "- Numpy Integration\n",
    "- Pandas Integration\n"
   ]
  },
  {
   "cell_type": "markdown",
   "id": "c4fa9020",
   "metadata": {
    "slideshow": {
     "slide_type": "slide"
    }
   },
   "source": [
    "# Memory management\n",
    "\n",
    "-  Buffer \n",
    "-  Memory Pools\n",
    "-  Input/Output Streams\n",
    "-  On-Disk and Memory mapping Files"
   ]
  },
  {
   "cell_type": "markdown",
   "id": "7e9170ac",
   "metadata": {
    "slideshow": {
     "slide_type": "slide"
    }
   },
   "source": [
    "# Memory View and Buffer protocol\n",
    "\n",
    "- Buffer protocol provides access to internal representation of memory\n",
    "- MemoryView is a mechanism to access this internal mechanism from Python land.\n",
    "- Let's look at some examples\n",
    "\n"
   ]
  },
  {
   "cell_type": "code",
   "execution_count": 1,
   "id": "320f70f7",
   "metadata": {
    "slideshow": {
     "slide_type": "fragment"
    }
   },
   "outputs": [
    {
     "data": {
      "text/plain": [
       "b'hello world'"
      ]
     },
     "execution_count": 1,
     "metadata": {},
     "output_type": "execute_result"
    }
   ],
   "source": [
    "# Example memory view\n",
    "\n",
    "data = b'hello world'\n",
    "m = memoryview(data)\n",
    "m.obj\n"
   ]
  },
  {
   "cell_type": "code",
   "execution_count": 2,
   "id": "52a3075e",
   "metadata": {
    "slideshow": {
     "slide_type": "fragment"
    }
   },
   "outputs": [
    {
     "name": "stdout",
     "output_type": "stream",
     "text": [
      "m[0]=104, bytes(m[0:1])=b'h'\n"
     ]
    }
   ],
   "source": [
    "print(f'{m[0]=}, {bytes(m[0:1])=}')"
   ]
  },
  {
   "cell_type": "markdown",
   "id": "57fcc09a",
   "metadata": {
    "slideshow": {
     "slide_type": "slide"
    }
   },
   "source": [
    "# Memory View and Buffer protocol"
   ]
  },
  {
   "cell_type": "code",
   "execution_count": 37,
   "id": "7633c10d",
   "metadata": {
    "slideshow": {
     "slide_type": "fragment"
    }
   },
   "outputs": [
    {
     "name": "stdout",
     "output_type": "stream",
     "text": [
      "m[-1]=104\n",
      "data after update = bytearray(b'abcefgH')\n",
      "b'fgH'\n"
     ]
    }
   ],
   "source": [
    "# mutate memory view\n",
    "data = bytearray('abcefgh', encoding='utf-8')\n",
    "m = memoryview(data)\n",
    "print(f'{m[-1]=}')\n",
    "\n",
    "# some assignments\n",
    "k = m[-3:]  # a slice of memory view is a zero-copy\n",
    "m[-1] = 72 # capital H\n",
    "\n",
    "print(f'data after update = {data}')\n",
    "\n",
    "print(bytes(k))"
   ]
  },
  {
   "cell_type": "code",
   "execution_count": 38,
   "id": "834b40b9",
   "metadata": {
    "slideshow": {
     "slide_type": "slide"
    }
   },
   "outputs": [],
   "source": [
    "# Arrow Buffer"
   ]
  },
  {
   "cell_type": "code",
   "execution_count": 39,
   "id": "290aa001",
   "metadata": {
    "slideshow": {
     "slide_type": "fragment"
    }
   },
   "outputs": [
    {
     "data": {
      "text/plain": [
       "b'fgh'"
      ]
     },
     "execution_count": 39,
     "metadata": {},
     "output_type": "execute_result"
    }
   ],
   "source": [
    "# Pyarrow.buffer\n",
    "\n",
    "import pyarrow as pa\n",
    "\n",
    "data = b'abcdefgh'\n",
    "data_buffer = pa.py_buffer(data)\n",
    "\n",
    "z = data_buffer[-3:]\n",
    "z.to_pybytes()"
   ]
  },
  {
   "cell_type": "code",
   "execution_count": null,
   "id": "8e6bddec",
   "metadata": {
    "slideshow": {
     "slide_type": "slide"
    }
   },
   "outputs": [],
   "source": [
    "# Controlling Memory Allocation"
   ]
  },
  {
   "cell_type": "code",
   "execution_count": 40,
   "id": "19e04239",
   "metadata": {
    "slideshow": {
     "slide_type": "fragment"
    }
   },
   "outputs": [
    {
     "name": "stdout",
     "output_type": "stream",
     "text": [
      "5248\n"
     ]
    },
    {
     "data": {
      "text/plain": [
       "<pyarrow.lib.Buffer at 0x7f2f453de4f0>"
      ]
     },
     "execution_count": 40,
     "metadata": {},
     "output_type": "execute_result"
    }
   ],
   "source": [
    "# Memory managed in Memory Pools\n",
    "\n",
    "new_buffer = pa.allocate_buffer(4000)\n",
    "print(pa.total_allocated_bytes())\n",
    "\n",
    "new_buffer\n",
    "\n",
    "#new_buffer[0] = None # Does not support assignment"
   ]
  },
  {
   "cell_type": "markdown",
   "id": "c7662fc7",
   "metadata": {
    "slideshow": {
     "slide_type": "slide"
    }
   },
   "source": [
    "# Writing/Reading To/From Buffers"
   ]
  },
  {
   "cell_type": "code",
   "execution_count": 42,
   "id": "b6c0eddf",
   "metadata": {
    "slideshow": {
     "slide_type": "fragment"
    }
   },
   "outputs": [
    {
     "name": "stdout",
     "output_type": "stream",
     "text": [
      "Type of buffer= <class 'pyarrow.lib.Buffer'>\n"
     ]
    },
    {
     "data": {
      "text/plain": [
       "b' world'"
      ]
     },
     "execution_count": 42,
     "metadata": {},
     "output_type": "execute_result"
    }
   ],
   "source": [
    "# Reading/Writing To/From In-Memory Buffer\n",
    "\n",
    "write = pa.BufferOutputStream()\n",
    "write.write(b'hello world')\n",
    "\n",
    "# write.getvalue # Finalize output stream and return stream as buffer\n",
    "buffer = write.getvalue()\n",
    "\n",
    "print('Type of buffer=', type(buffer))\n",
    "\n",
    "reader = pa.BufferReader(buffer)\n",
    "reader.read_at(6, 5)\n",
    "\n",
    "# write.write(b'hello world, again') # not writing possible once read\n"
   ]
  },
  {
   "cell_type": "markdown",
   "id": "1219c79c",
   "metadata": {
    "slideshow": {
     "slide_type": "slide"
    }
   },
   "source": [
    "# Stream - Buffer Relationship\n",
    "\n",
    "    Write action ===> OutputStream ===> Buffer\n",
    "\n",
    "\n",
    "    Read action <==== InputStream <==== Buffer\n",
    "\n",
    "The `streams` can be specialized (for example reading/writing custom data structure)\n"
   ]
  },
  {
   "cell_type": "markdown",
   "id": "0aff0ec2",
   "metadata": {
    "slideshow": {
     "slide_type": "slide"
    }
   },
   "source": [
    "# Data Types and In-Memory Data Model\n",
    "\n",
    "-  Columnar data structures = type meta-data + memory buffers\n",
    "-  pyarrow.DataType\n",
    "-  pyarrow.Schema - collections of pyarrow.DataType\n",
    "-  pyarrow.Arrays - atomic, contiguous columnar data structures composed from arrow buffer objects\n",
    "-  pyarrow.RecordBatch - collection of ArrayObjects of a particular schema\n",
    "-  pyarrow.Table  - Each column consists of pyarrow.Array\n",
    "\n",
    "\n"
   ]
  },
  {
   "cell_type": "markdown",
   "id": "ed5097b7",
   "metadata": {
    "slideshow": {
     "slide_type": "slide"
    }
   },
   "source": [
    "# Supported Types (Richer than what you store in Pandas/Numpy)\n",
    "\n",
    "-  Fixed-length primitives - number, floats, timestamp etc\n",
    "-  Variable-lenght primitives (strings)\n",
    "-  Nested-Types (list, struct, union)\n",
    "-  Dictionary types ( we wont cover this)\n",
    "  \n",
    " "
   ]
  },
  {
   "cell_type": "markdown",
   "id": "dd99e145",
   "metadata": {
    "slideshow": {
     "slide_type": "slide"
    }
   },
   "source": [
    "# Primitive Types"
   ]
  },
  {
   "cell_type": "code",
   "execution_count": 43,
   "id": "6f323811",
   "metadata": {
    "slideshow": {
     "slide_type": "fragment"
    }
   },
   "outputs": [
    {
     "name": "stdout",
     "output_type": "stream",
     "text": [
      "int32\n",
      "double\n",
      "sample_float=<pyarrow.DoubleScalar: 100.0>, \n",
      "sample_str=<pyarrow.StringScalar: 'hello world'>\n"
     ]
    }
   ],
   "source": [
    "# Primitive Types\n",
    "\n",
    "print(pa.int32())\n",
    "print(pa.float64())\n",
    "\n",
    "sample_float = pa.scalar(100.0, type=pa.float64())\n",
    "sample_str = pa.scalar(\"hello world\", type=pa.string())\n",
    "\n",
    "print(f'{sample_float=}, \\n{sample_str=}')"
   ]
  },
  {
   "cell_type": "markdown",
   "id": "2dd9ccb4",
   "metadata": {
    "slideshow": {
     "slide_type": "slide"
    }
   },
   "source": [
    "# Composing Primitive Types to Define Fields"
   ]
  },
  {
   "cell_type": "code",
   "execution_count": 44,
   "id": "1abcff2e",
   "metadata": {
    "slideshow": {
     "slide_type": "fragment"
    }
   },
   "outputs": [
    {
     "name": "stdout",
     "output_type": "stream",
     "text": [
      "f1=pyarrow.Field<country_count: int32>, \n",
      "f2=pyarrow.Field<price: double>\n"
     ]
    }
   ],
   "source": [
    "### Types used to define schema (metadata)\n",
    "\n",
    "f1 = pa.field('country_count', pa.int32())\n",
    "f2 = pa.field('price', pa.float64())\n",
    "\n",
    "print(f'{f1=}, \\n{f2=}')\n"
   ]
  },
  {
   "cell_type": "markdown",
   "id": "e32f37ac",
   "metadata": {
    "slideshow": {
     "slide_type": "slide"
    }
   },
   "source": [
    "# Compose collection of fields into structs"
   ]
  },
  {
   "cell_type": "code",
   "execution_count": 45,
   "id": "33a90b78",
   "metadata": {
    "slideshow": {
     "slide_type": "fragment"
    }
   },
   "outputs": [
    {
     "data": {
      "text/plain": [
       "StructType(struct<idbbunique: int32, price: double, data_date: date64[ms]>)"
      ]
     },
     "execution_count": 45,
     "metadata": {},
     "output_type": "execute_result"
    }
   ],
   "source": [
    "\n",
    "f1 = pa.field('idbbunique', pa.int32())\n",
    "f2 = pa.field('price', pa.float64())\n",
    "f3 = pa.field('data_date', pa.date64())\n",
    "\n",
    "new_struct =  pa.struct([f1, f2, f3])\n",
    "\n",
    "new_struct\n"
   ]
  },
  {
   "cell_type": "markdown",
   "id": "7a1eae8a",
   "metadata": {
    "slideshow": {
     "slide_type": "slide"
    }
   },
   "source": [
    "# Arrays of Primitives/Structs"
   ]
  },
  {
   "cell_type": "code",
   "execution_count": 21,
   "id": "64de35d6",
   "metadata": {
    "slideshow": {
     "slide_type": "fragment"
    }
   },
   "outputs": [
    {
     "name": "stdout",
     "output_type": "stream",
     "text": [
      "x=<pyarrow.lib.DoubleArray object at 0x7f2f8fdafe20>\n",
      "[\n",
      "  1,\n",
      "  2,\n",
      "  3,\n",
      "  4\n",
      "] \n",
      "y=<pyarrow.lib.StringArray object at 0x7f2f4ccf4c40>\n",
      "[\n",
      "  \"sec1\",\n",
      "  \"sec2\",\n",
      "  \"sec3\",\n",
      "  \"sec4\"\n",
      "]\n"
     ]
    }
   ],
   "source": [
    "\n",
    "x = pa.array([1.0, 2.0, 3.0, 4.0], type=pa.float64())\n",
    "y = pa.array(['sec1', 'sec2', 'sec3', 'sec4'], type=pa.string())\n",
    "\n",
    "print(f'{x=} \\n{y=}')"
   ]
  },
  {
   "cell_type": "markdown",
   "id": "9e5b8eac",
   "metadata": {
    "slideshow": {
     "slide_type": "slide"
    }
   },
   "source": [
    "# More examples of Arrays"
   ]
  },
  {
   "cell_type": "code",
   "execution_count": 46,
   "id": "433c72cb",
   "metadata": {
    "slideshow": {
     "slide_type": "fragment"
    }
   },
   "outputs": [
    {
     "name": "stdout",
     "output_type": "stream",
     "text": [
      "int_arr=<pyarrow.lib.UInt32Array object at 0x7f2f453ddbe0>\n",
      "[\n",
      "  100,\n",
      "  200,\n",
      "  300,\n",
      "  null\n",
      "]\n",
      "float_arr=<pyarrow.lib.DoubleArray object at 0x7f2f453d4ee0>\n",
      "[\n",
      "  100.1,\n",
      "  200,\n",
      "  300,\n",
      "  nan,\n",
      "  null\n",
      "]\n",
      "float_arr[-1]=<pyarrow.DoubleScalar: None>\n"
     ]
    },
    {
     "data": {
      "text/plain": [
       "1"
      ]
     },
     "execution_count": 46,
     "metadata": {},
     "output_type": "execute_result"
    }
   ],
   "source": [
    "\n",
    "int_arr = pa.array([100, 200, 300, None], type=pa.uint32())\n",
    "print(f'{int_arr=}')\n",
    "\n",
    "float_arr = pa.array([100.1, 200.0, 300.0, float('nan'), None])\n",
    "print(f'{float_arr=}')\n",
    "\n",
    "# check out the NULLs\n",
    "print(f'{float_arr[-1]=}')\n",
    "\n",
    "float_arr.null_count "
   ]
  },
  {
   "cell_type": "code",
   "execution_count": 13,
   "id": "4b1ba70e",
   "metadata": {
    "slideshow": {
     "slide_type": "fragment"
    }
   },
   "outputs": [
    {
     "data": {
      "text/plain": [
       "<pyarrow.lib.DoubleArray object at 0x7f94307e8b20>\n",
       "[\n",
       "  200,\n",
       "  300\n",
       "]"
      ]
     },
     "execution_count": 13,
     "metadata": {},
     "output_type": "execute_result"
    }
   ],
   "source": [
    "# Slicing is zero-copy operation, since Array's are readonly\n",
    "float_arr[1:3]"
   ]
  },
  {
   "cell_type": "markdown",
   "id": "4704cbb8",
   "metadata": {
    "slideshow": {
     "slide_type": "slide"
    }
   },
   "source": [
    "# Missing Values (None)"
   ]
  },
  {
   "cell_type": "code",
   "execution_count": 48,
   "id": "59f86612",
   "metadata": {
    "slideshow": {
     "slide_type": "fragment"
    }
   },
   "outputs": [
    {
     "data": {
      "text/plain": [
       "False"
      ]
     },
     "execution_count": 48,
     "metadata": {},
     "output_type": "execute_result"
    }
   ],
   "source": [
    "# Dealings with Nones\n",
    "\n",
    "x = int_arr[-1]\n",
    "\n",
    "x.is_valid\n"
   ]
  },
  {
   "cell_type": "markdown",
   "id": "fdfa5822",
   "metadata": {
    "slideshow": {
     "slide_type": "slide"
    }
   },
   "source": [
    "# Composing Arrays into RecordBatch (like a Frame)\n",
    "\n",
    "1. Define schema\n",
    "2. Define arrays for each field in schema\n",
    "3. Create a RecordBatch"
   ]
  },
  {
   "cell_type": "code",
   "execution_count": 22,
   "id": "f78f6c2b",
   "metadata": {
    "slideshow": {
     "slide_type": "fragment"
    }
   },
   "outputs": [
    {
     "data": {
      "text/plain": [
       "idbb_unique: int32\n",
       "price: double\n",
       "data_data: date64[ms]"
      ]
     },
     "execution_count": 22,
     "metadata": {},
     "output_type": "execute_result"
    }
   ],
   "source": [
    "# One can also define Schemas (to be used with Table/Record Batch)\n",
    "\n",
    "schema = pa.schema([('idbb_unique', pa.int32()), \n",
    "                    ('price', pa.float64()), \n",
    "                    ('data_data', pa.date64())])\n",
    "schema\n",
    "\n",
    "# schema's can also have nested structures\n",
    "\n"
   ]
  },
  {
   "cell_type": "markdown",
   "id": "2e7f304c",
   "metadata": {
    "slideshow": {
     "slide_type": "slide"
    }
   },
   "source": [
    "# Record Batches\n",
    "\n",
    "- Collection of equal length array instances\n",
    "- Remember (arrays are just contiguous elements of primitives, structs, unions)\n"
   ]
  },
  {
   "cell_type": "code",
   "execution_count": 31,
   "id": "22a2b362",
   "metadata": {
    "slideshow": {
     "slide_type": "fragment"
    }
   },
   "outputs": [
    {
     "name": "stdout",
     "output_type": "stream",
     "text": [
      "batch.num_columns=3, \n",
      "batch.num_rows=4, \n",
      "batch.schema=f0: int64\n",
      "f1: string\n",
      "f2: bool, \n",
      "\n",
      "batch[1]=<pyarrow.lib.StringArray object at 0x7f2f453d4d60>\n",
      "[\n",
      "  \"foo\",\n",
      "  \"bar\",\n",
      "  \"baz\",\n",
      "  null\n",
      "]\n"
     ]
    }
   ],
   "source": [
    "# all elements should be of same length\n",
    "data = [\n",
    "    pa.array([1,2,3,4]),\n",
    "    pa.array(['foo', 'bar','baz', None]),\n",
    "    pa.array([True, None, False, True])\n",
    "]\n",
    "batch = pa.RecordBatch.from_arrays(data, ['f0', 'f1', 'f2'])\n",
    "\n",
    "print(f'{batch.num_columns=}, \\n{batch.num_rows=}, \\n{batch.schema=}, \\n\\n{batch[1]=}')\n"
   ]
  },
  {
   "cell_type": "markdown",
   "id": "0c02cfe3",
   "metadata": {
    "slideshow": {
     "slide_type": "slide"
    }
   },
   "source": [
    "# Slicing into Record Batches\n",
    "\n",
    "-  Zero-copy!"
   ]
  },
  {
   "cell_type": "code",
   "execution_count": 32,
   "id": "b5a77a4f",
   "metadata": {
    "slideshow": {
     "slide_type": "fragment"
    }
   },
   "outputs": [
    {
     "name": "stdout",
     "output_type": "stream",
     "text": [
      "batch[0:2][1]=<pyarrow.lib.StringArray object at 0x7f2f453dd4c0>\n",
      "[\n",
      "  \"foo\",\n",
      "  \"bar\"\n",
      "], batch[0:2][0]=<pyarrow.lib.Int64Array object at 0x7f2f453dd4c0>\n",
      "[\n",
      "  1,\n",
      "  2\n",
      "]\n"
     ]
    }
   ],
   "source": [
    "print(f'{batch[0:2][1]=}, {batch[0:2][0]=}')"
   ]
  },
  {
   "cell_type": "markdown",
   "id": "83b596ad",
   "metadata": {
    "slideshow": {
     "slide_type": "slide"
    }
   },
   "source": [
    "# Tables\n",
    "\n",
    "- Grouping RecordBatches into one logical unit\n",
    "- Needed so that record-batches arriving from different processes need not be copied/reorganized again"
   ]
  },
  {
   "cell_type": "code",
   "execution_count": 17,
   "id": "42ccdd52",
   "metadata": {
    "slideshow": {
     "slide_type": "fragment"
    }
   },
   "outputs": [
    {
     "data": {
      "text/plain": [
       "<pyarrow.lib.ChunkedArray object at 0x7f9429f6c7c0>\n",
       "[\n",
       "  [\n",
       "    1,\n",
       "    2,\n",
       "    3,\n",
       "    4\n",
       "  ],\n",
       "  [\n",
       "    1,\n",
       "    2,\n",
       "    3,\n",
       "    4\n",
       "  ],\n",
       "  [\n",
       "    1,\n",
       "    2,\n",
       "    3,\n",
       "    4\n",
       "  ],\n",
       "  [\n",
       "    1,\n",
       "    2,\n",
       "    3,\n",
       "    4\n",
       "  ],\n",
       "  [\n",
       "    1,\n",
       "    2,\n",
       "    3,\n",
       "    4\n",
       "  ]\n",
       "]"
      ]
     },
     "execution_count": 17,
     "metadata": {},
     "output_type": "execute_result"
    }
   ],
   "source": [
    "batches = [batch] * 5\n",
    "table = pa.Table.from_batches(batches)\n",
    "\n",
    "table[0]"
   ]
  },
  {
   "cell_type": "code",
   "execution_count": 18,
   "id": "68530abf",
   "metadata": {
    "slideshow": {
     "slide_type": "slide"
    }
   },
   "outputs": [
    {
     "data": {
      "text/plain": [
       "<pyarrow.lib.ChunkedArray object at 0x7f9429f6ca90>\n",
       "[\n",
       "  [\n",
       "    1,\n",
       "    2,\n",
       "    3,\n",
       "    4\n",
       "  ],\n",
       "  [\n",
       "    1,\n",
       "    2,\n",
       "    3,\n",
       "    4\n",
       "  ],\n",
       "  [\n",
       "    1,\n",
       "    2,\n",
       "    3,\n",
       "    4\n",
       "  ],\n",
       "  [\n",
       "    1,\n",
       "    2,\n",
       "    3,\n",
       "    4\n",
       "  ],\n",
       "  [\n",
       "    1,\n",
       "    2,\n",
       "    3,\n",
       "    4\n",
       "  ],\n",
       "  [\n",
       "    1,\n",
       "    2,\n",
       "    3,\n",
       "    4\n",
       "  ],\n",
       "  [\n",
       "    1,\n",
       "    2,\n",
       "    3,\n",
       "    4\n",
       "  ],\n",
       "  [\n",
       "    1,\n",
       "    2,\n",
       "    3,\n",
       "    4\n",
       "  ],\n",
       "  [\n",
       "    1,\n",
       "    2,\n",
       "    3,\n",
       "    4\n",
       "  ],\n",
       "  [\n",
       "    1,\n",
       "    2,\n",
       "    3,\n",
       "    4\n",
       "  ]\n",
       "]"
      ]
     },
     "execution_count": 18,
     "metadata": {},
     "output_type": "execute_result"
    }
   ],
   "source": [
    "table_1 = [table]*2\n",
    "\n",
    "table_all = pa.concat_tables(table_1)\n",
    "table_all[0]"
   ]
  },
  {
   "cell_type": "markdown",
   "id": "961dc418",
   "metadata": {
    "slideshow": {
     "slide_type": "slide"
    }
   },
   "source": [
    "# Things we did not cover\n",
    "\n",
    "1. Categorical Types\n",
    "2. Union/Structs/Nested Data structures"
   ]
  },
  {
   "cell_type": "markdown",
   "id": "fb3f2931",
   "metadata": {
    "slideshow": {
     "slide_type": "slide"
    }
   },
   "source": [
    "# Numpy Integration"
   ]
  },
  {
   "cell_type": "markdown",
   "id": "16301dc5",
   "metadata": {
    "slideshow": {
     "slide_type": "slide"
    }
   },
   "source": [
    "# Pandas Integration"
   ]
  },
  {
   "cell_type": "markdown",
   "id": "9ef72327",
   "metadata": {
    "slideshow": {
     "slide_type": "slide"
    }
   },
   "source": [
    "# Pandas Frame Vs Arrow Table\n",
    "\n",
    "- Both needs columns to be of same length\n",
    "- Columns (arrays in Arrow) can have nested types like struct etc (first class objects)\n",
    "-  "
   ]
  },
  {
   "cell_type": "markdown",
   "id": "98f3c76e",
   "metadata": {
    "slideshow": {
     "slide_type": "slide"
    }
   },
   "source": [
    "# Compute Functions"
   ]
  },
  {
   "cell_type": "code",
   "execution_count": 57,
   "id": "9b64778b",
   "metadata": {
    "slideshow": {
     "slide_type": "fragment"
    }
   },
   "outputs": [
    {
     "name": "stdout",
     "output_type": "stream",
     "text": [
      "a=<pyarrow.Int64Scalar: 10>\n",
      "b=<pyarrow.lib.Int64Array object at 0x7f2f453e79a0>\n",
      "[\n",
      "  1,\n",
      "  4,\n",
      "  9,\n",
      "  16\n",
      "]\n",
      "pc.add(batch[0], batch[0])=<pyarrow.lib.Int64Array object at 0x7f2f453e7be0>\n",
      "[\n",
      "  2,\n",
      "  4,\n",
      "  6,\n",
      "  8\n",
      "]\n",
      "pc.equal(batch[0],1)=<pyarrow.lib.BooleanArray object at 0x7f2f453e74c0>\n",
      "[\n",
      "  true,\n",
      "  false,\n",
      "  false,\n",
      "  false\n",
      "]\n"
     ]
    },
    {
     "data": {
      "text/plain": [
       "<pyarrow.Int64Scalar: 1>"
      ]
     },
     "execution_count": 57,
     "metadata": {},
     "output_type": "execute_result"
    }
   ],
   "source": [
    "import pyarrow.compute as pc\n",
    "a = pc.sum(batch[0])\n",
    "print(f'{a=}')\n",
    "\n",
    "b = pc.multiply(batch[0], batch[0])\n",
    "print(f'{b=}')\n",
    "\n",
    "print(f'{pc.add(batch[0], batch[0])=}')\n",
    "\n",
    "print(f'{pc.equal(batch[0],1)=}')\n",
    "\n",
    "l = pc.SetLookupOptions(value_set=pa.array([1]))\n",
    "            \n",
    "pc.is_in(data[0], options=l)\n",
    "\n",
    "pa.scalar(1)\n",
    "           "
   ]
  },
  {
   "cell_type": "markdown",
   "id": "70c4edc1",
   "metadata": {
    "slideshow": {
     "slide_type": "slide"
    }
   },
   "source": [
    "# Example Compute Function"
   ]
  },
  {
   "cell_type": "code",
   "execution_count": 59,
   "id": "49bfc2ea",
   "metadata": {
    "slideshow": {
     "slide_type": "fragment"
    }
   },
   "outputs": [
    {
     "data": {
      "text/html": [
       "<div>\n",
       "<style scoped>\n",
       "    .dataframe tbody tr th:only-of-type {\n",
       "        vertical-align: middle;\n",
       "    }\n",
       "\n",
       "    .dataframe tbody tr th {\n",
       "        vertical-align: top;\n",
       "    }\n",
       "\n",
       "    .dataframe thead th {\n",
       "        text-align: right;\n",
       "    }\n",
       "</style>\n",
       "<table border=\"1\" class=\"dataframe\">\n",
       "  <thead>\n",
       "    <tr style=\"text-align: right;\">\n",
       "      <th></th>\n",
       "      <th>sec1</th>\n",
       "      <th>sec2</th>\n",
       "      <th>sec3</th>\n",
       "    </tr>\n",
       "  </thead>\n",
       "  <tbody>\n",
       "    <tr>\n",
       "      <th>0</th>\n",
       "      <td>0.009901</td>\n",
       "      <td>0.009901</td>\n",
       "      <td>0.009901</td>\n",
       "    </tr>\n",
       "    <tr>\n",
       "      <th>1</th>\n",
       "      <td>-0.029412</td>\n",
       "      <td>-0.029412</td>\n",
       "      <td>-0.029412</td>\n",
       "    </tr>\n",
       "  </tbody>\n",
       "</table>\n",
       "</div>"
      ],
      "text/plain": [
       "       sec1      sec2      sec3\n",
       "0  0.009901  0.009901  0.009901\n",
       "1 -0.029412 -0.029412 -0.029412"
      ]
     },
     "execution_count": 59,
     "metadata": {},
     "output_type": "execute_result"
    }
   ],
   "source": [
    "# Example Calculating Returns\n",
    "\n",
    "schema = pa.schema([('sec1', pa.float64()),\n",
    "                    ('sec2', pa.float64()),\n",
    "                    ('sec3', pa.float64())])\n",
    "\n",
    "data = [pa.array([101, 102, 99]),\n",
    "        pa.array([201, 200, 195]),\n",
    "        pa.array([10, 20, 15])\n",
    "       ]\n",
    "\n",
    "batch = pa.RecordBatch.from_arrays(data, schema=schema)\n",
    "\n",
    "def compute_returns(old, new):\n",
    "        import pyarrow.compute as pc\n",
    "        return pc.subtract(pc.divide(new, old),1)\n",
    "        \n",
    "returns = []\n",
    "for i in range(batch.num_columns):\n",
    "    price = batch[0]\n",
    "    price1 = price[:-1]\n",
    "    price2 = price[1:]\n",
    "    z = compute_returns(price1, price2)\n",
    "    returns.append(z)\n",
    "    \n",
    "returns_table = pa.RecordBatch.from_arrays(returns, schema=schema)\n",
    "\n",
    "returns_table.to_pandas()"
   ]
  },
  {
   "cell_type": "code",
   "execution_count": 60,
   "id": "7bda0135",
   "metadata": {
    "slideshow": {
     "slide_type": "skip"
    }
   },
   "outputs": [],
   "source": [
    "import pickle\n",
    "import pyarrow\n",
    "import matplotlib.pyplot as plt\n",
    "import numpy as np\n",
    "import timeit\n",
    "\n",
    "def plot(data, labels, title, y_label):\n",
    "    fig, ax = plt.subplots()\n",
    "    #fig.set_size_inches(3.8, 2.7)\n",
    "\n",
    "    bar_width = 0.15\n",
    "    index = np.arange(len(labels))\n",
    "    opacity = 0.6\n",
    "\n",
    "    placement = 0\n",
    "    for k, v in data.items():\n",
    "        plt.bar(index+placement,\n",
    "                v,\n",
    "                bar_width,\n",
    "                alpha=opacity, \n",
    "                #color='r', \n",
    "                label=k)\n",
    "        placement += bar_width \n",
    "        \n",
    "\n",
    "    plt.title(title, fontweight='bold')\n",
    "    plt.ylabel(y_label, fontsize=10)\n",
    "    plt.xticks(index + placement / len(list(data.keys())), labels, fontsize=10)\n",
    "    plt.legend(fontsize=10, bbox_to_anchor=(1, 1))\n",
    "    #plt.tight_layout()\n",
    "    plt.yticks(fontsize=10)\n",
    "    plt.savefig('plot-' + title + '.png', format='png')"
   ]
  },
  {
   "cell_type": "code",
   "execution_count": 61,
   "id": "ede671ef",
   "metadata": {},
   "outputs": [
    {
     "data": {
      "image/png": "[encoded data removed]",
      "text/plain": [
       "<Figure size 432x288 with 1 Axes>"
      ]
     },
     "metadata": {
      "needs_background": "light"
     },
     "output_type": "display_data"
    },
    {
     "data": {
      "image/png": "[encoded data removed]",
      "text/plain": [
       "<Figure size 432x288 with 1 Axes>"
      ]
     },
     "metadata": {
      "needs_background": "light"
     },
     "output_type": "display_data"
    },
    {
     "data": {
      "image/png": "[encoded data removed]",
      "text/plain": [
       "<Figure size 432x288 with 1 Axes>"
      ]
     },
     "metadata": {
      "needs_background": "light"
     },
     "output_type": "display_data"
    },
    {
     "data": {
      "image/png": "[encoded data removed]",
      "text/plain": [
       "<Figure size 432x288 with 1 Axes>"
      ]
     },
     "metadata": {
      "needs_background": "light"
     },
     "output_type": "display_data"
    }
   ],
   "source": [
    "import pandas as pd\n",
    "def plot_test(filename, title, y_value, y_label):\n",
    "    df = pd.read_csv(filename)\n",
    "    df['method']=df['label'].map(lambda z: z.split('_')[0])\n",
    "    df['rows']=df['label'].map(lambda z: tuple(map(int, z.split('_')[1:])))\n",
    "    data = dict()\n",
    "    df = df.sort_values('rows')\n",
    "    for k, v2 in df.groupby('method'):\n",
    "        g = v2.sort_index()[y_value].values.tolist()\n",
    "        data[k]=g\n",
    "    labels = []\n",
    "    for k, _ in df.groupby('rows'):\n",
    "        labels.append(f'({k[0]:_}, {k[1]})')\n",
    "    #print(labels)\n",
    "    #print(data)\n",
    "    plot(data, labels, title, y_label)\n",
    "\n"
   ]
  },
  {
   "cell_type": "markdown",
   "id": "5dff4d62",
   "metadata": {
    "slideshow": {
     "slide_type": "slide"
    }
   },
   "source": [
    "# Performance in Multi-processing setup"
   ]
  },
  {
   "cell_type": "code",
   "execution_count": 63,
   "id": "f2c28ef0",
   "metadata": {
    "slideshow": {
     "slide_type": "fragment"
    }
   },
   "outputs": [
    {
     "data": {
      "image/png": "[encoded data removed]",
      "text/plain": [
       "<Figure size 432x288 with 1 Axes>"
      ]
     },
     "metadata": {
      "needs_background": "light"
     },
     "output_type": "display_data"
    },
    {
     "data": {
      "image/png": "[encoded data removed]",
      "text/plain": [
       "<Figure size 432x288 with 1 Axes>"
      ]
     },
     "metadata": {
      "needs_background": "light"
     },
     "output_type": "display_data"
    },
    {
     "data": {
      "image/png": "[encoded data removed]",
      "text/plain": [
       "<Figure size 432x288 with 1 Axes>"
      ]
     },
     "metadata": {
      "needs_background": "light"
     },
     "output_type": "display_data"
    },
    {
     "data": {
      "image/png": "[encoded data removed]",
      "text/plain": [
       "<Figure size 432x288 with 1 Axes>"
      ]
     },
     "metadata": {
      "needs_background": "light"
     },
     "output_type": "display_data"
    }
   ],
   "source": [
    "\n",
    "plot_test('/tmp/test1.txt', 'batch_vs_numpy_only_numeric', 'duration', 'Time (seconds)')\n",
    "plot_test('/tmp/test2.txt', 'batch_vs_numpy_with_python_objects', 'duration', 'Time (seconds)')\n",
    "plot_test('/tmp/test3.txt', 'batch_vs_pandas_vs_staticframe', 'duration', 'Time (seconds)')\n",
    "plot_test('/tmp/test4.txt', 'arrow_file_vs_mapped_arrow_file', 'duration', 'Time (seconds)')"
   ]
  },
  {
   "cell_type": "markdown",
   "id": "d0ecf93f",
   "metadata": {
    "slideshow": {
     "slide_type": "slide"
    }
   },
   "source": [
    "# Memory Usage (Avg during multi-processing)"
   ]
  },
  {
   "cell_type": "code",
   "execution_count": 62,
   "id": "d4288623",
   "metadata": {
    "slideshow": {
     "slide_type": "fragment"
    }
   },
   "outputs": [
    {
     "data": {
      "image/png": "[encoded data removed]",
      "text/plain": [
       "<Figure size 432x288 with 1 Axes>"
      ]
     },
     "metadata": {
      "needs_background": "light"
     },
     "output_type": "display_data"
    },
    {
     "data": {
      "image/png": "[encoded data removed]",
      "text/plain": [
       "<Figure size 432x288 with 1 Axes>"
      ]
     },
     "metadata": {
      "needs_background": "light"
     },
     "output_type": "display_data"
    },
    {
     "data": {
      "image/png": "[encoded data removed]",
      "text/plain": [
       "<Figure size 432x288 with 1 Axes>"
      ]
     },
     "metadata": {
      "needs_background": "light"
     },
     "output_type": "display_data"
    },
    {
     "data": {
      "image/png": "[encoded data removed]",
      "text/plain": [
       "<Figure size 432x288 with 1 Axes>"
      ]
     },
     "metadata": {
      "needs_background": "light"
     },
     "output_type": "display_data"
    }
   ],
   "source": [
    "\n",
    "plot_test('/tmp/memory_test1.txt', 'batch_vs_numpy_only_numeric', 'size', 'avg memory used per process (MB)')\n",
    "plot_test('/tmp/memory_test2.txt', 'batch_vs_numpy_with_python_objects', 'size', 'avg memory used per process (MB)')\n",
    "plot_test('/tmp/memory_test3.txt', 'batch_vs_pandas_vs_staticframe', 'size', 'avg memory used per process (MB)')\n",
    "plot_test('/tmp/memory_test4.txt', 'arrow_file_vs_mapped_arrow_file', 'size', 'avg mem used/process (MB)')\n"
   ]
  },
  {
   "cell_type": "code",
   "execution_count": null,
   "id": "e101e72e",
   "metadata": {},
   "outputs": [],
   "source": []
  },
  {
   "cell_type": "code",
   "execution_count": null,
   "id": "3137c4a2",
   "metadata": {},
   "outputs": [],
   "source": []
  },
  {
   "cell_type": "markdown",
   "id": "b4f5f7c3",
   "metadata": {},
   "source": [
    "https://arrow.apache.org/blog/2017/10/15/fast-python-serialization-with-ray-and-arrow/"
   ]
  },
  {
   "cell_type": "markdown",
   "id": "d7b66f63",
   "metadata": {},
   "source": [
    "# Feather vs Parquet\n",
    "\n",
    "- https://stackoverflow.com/questions/48083405/what-are-the-differences-between-feather-and-parquet"
   ]
  },
  {
   "cell_type": "code",
   "execution_count": null,
   "id": "09a07bd7",
   "metadata": {},
   "outputs": [],
   "source": []
  },
  {
   "cell_type": "code",
   "execution_count": null,
   "id": "9f547804",
   "metadata": {},
   "outputs": [],
   "source": []
  },
  {
   "cell_type": "code",
   "execution_count": null,
   "id": "95929732",
   "metadata": {},
   "outputs": [],
   "source": []
  },
  {
   "cell_type": "code",
   "execution_count": null,
   "id": "bfeff3e1",
   "metadata": {},
   "outputs": [],
   "source": []
  },
  {
   "cell_type": "code",
   "execution_count": null,
   "id": "163e8693",
   "metadata": {},
   "outputs": [],
   "source": []
  },
  {
   "cell_type": "code",
   "execution_count": null,
   "id": "b16efa1f",
   "metadata": {},
   "outputs": [],
   "source": []
  },
  {
   "cell_type": "code",
   "execution_count": null,
   "id": "f48be011",
   "metadata": {},
   "outputs": [],
   "source": []
  },
  {
   "cell_type": "code",
   "execution_count": null,
   "id": "b5a68fb2",
   "metadata": {},
   "outputs": [],
   "source": []
  },
  {
   "cell_type": "code",
   "execution_count": null,
   "id": "b64f25c6",
   "metadata": {},
   "outputs": [],
   "source": []
  }
 ],
 "metadata": {
  "celltoolbar": "Slideshow",
  "kernelspec": {
   "display_name": "Python 3",
   "language": "python",
   "name": "python3"
  },
  "language_info": {
   "codemirror_mode": {
    "name": "ipython",
    "version": 3
   },
   "file_extension": ".py",
   "mimetype": "text/x-python",
   "name": "python",
   "nbconvert_exporter": "python",
   "pygments_lexer": "ipython3",
   "version": "3.8.3"
  }
 },
 "nbformat": 4,
 "nbformat_minor": 5
}
