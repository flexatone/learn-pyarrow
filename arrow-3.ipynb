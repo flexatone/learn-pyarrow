{
 "cells": [
  {
   "cell_type": "code",
   "execution_count": 45,
   "id": "4bccc99e",
   "metadata": {
    "slideshow": {
     "slide_type": "skip"
    }
   },
   "outputs": [],
   "source": [
    "import numpy as np\n",
    "import pandas as pd\n",
    "import static_frame as sf \n",
    "import pyarrow as pa\n",
    "import pyarrow.compute as pc\n",
    "\n",
    "import pickle\n",
    "import pyarrow\n",
    "import matplotlib.pyplot as plt\n",
    "import numpy as np\n",
    "import timeit\n",
    "\n",
    "def plot(data, labels, title, y_label):\n",
    "    fig, ax = plt.subplots()\n",
    "    #fig.set_size_inches(3.8, 2.7)\n",
    "\n",
    "    bar_width = 0.15\n",
    "    index = np.arange(len(labels))\n",
    "    opacity = 0.6\n",
    "\n",
    "    placement = 0\n",
    "    for k, v in data.items():\n",
    "        plt.bar(index+placement,\n",
    "                v,\n",
    "                bar_width,\n",
    "                alpha=opacity, \n",
    "                #color='r', \n",
    "                label=k)\n",
    "        placement += bar_width \n",
    "        \n",
    "\n",
    "    plt.title(title, fontweight='bold')\n",
    "    plt.ylabel(y_label, fontsize=10)\n",
    "    plt.xticks(index + placement / len(list(data.keys())), labels, fontsize=10)\n",
    "    plt.legend(fontsize=10, bbox_to_anchor=(1, 1))\n",
    "    #plt.tight_layout()\n",
    "    plt.yticks(fontsize=10)\n",
    "    plt.savefig('plot-' + title + '.png', format='png')\n",
    "    \n",
    "import pandas as pd\n",
    "def plot_test(filename, title, y_value, y_label):\n",
    "    df = pd.read_csv(filename)\n",
    "    df['method']=df['label'].map(lambda z: z.split('_')[0])\n",
    "    df['rows']=df['label'].map(lambda z: tuple(map(int, z.split('_')[1:])))\n",
    "    data = dict()\n",
    "    df = df.sort_values('rows')\n",
    "    for k, v2 in df.groupby('method'):\n",
    "        g = v2.sort_index()[y_value].values.tolist()\n",
    "        data[k]=g\n",
    "    labels = []\n",
    "    for k, _ in df.groupby('rows'):\n",
    "        labels.append(f'({k[0]:_}, {k[1]})')\n",
    "    #print(labels)\n",
    "    #print(data)\n",
    "    plot(data, labels, title, y_label)    "
   ]
  },
  {
   "cell_type": "markdown",
   "id": "44faa53a",
   "metadata": {
    "slideshow": {
     "slide_type": "slide"
    }
   },
   "source": [
    "# A Beginner's Tour of Apache Arrow"
   ]
  },
  {
   "cell_type": "markdown",
   "id": "b886333e",
   "metadata": {
    "slideshow": {
     "slide_type": "slide"
    }
   },
   "source": [
    "# A Hypothetical Wish List\n",
    "\n",
    "-  Highly Performant\n",
    "-  Optimized memory footprint\n",
    "-  Copy-on demand (or Zero-copy when possible)\n",
    "-  Efficiently move/share data between multi-process boundaries \n",
    "-  Tabular representation \n",
    "-  Rich data types \n",
    "-  In-memory analytics \n",
    "-  Memory-mapped access\n",
    "-  Distributed\n",
    "-  Langage Agnostic (maybe you want to use Julia!)"
   ]
  },
  {
   "cell_type": "markdown",
   "id": "bbeb61a6",
   "metadata": {
    "slideshow": {
     "slide_type": "slide"
    }
   },
   "source": [
    "# Tools We are already familiar with\n",
    "\n",
    "## Numpy"
   ]
  },
  {
   "cell_type": "markdown",
   "id": "bf88f344",
   "metadata": {
    "slideshow": {
     "slide_type": "slide"
    }
   },
   "source": [
    "# What makes Numpy fast?\n",
    "\n",
    "-  Numpy Array stored in contiguous memory\n",
    "-  Accessing elements in an array is constant time\n",
    "-  Meta-data, Values isolation\n",
    "-  Zero-copy slicing"
   ]
  },
  {
   "cell_type": "code",
   "execution_count": 9,
   "id": "b616b8ce",
   "metadata": {
    "slideshow": {
     "slide_type": "fragment"
    }
   },
   "outputs": [
    {
     "name": "stdout",
     "output_type": "stream",
     "text": [
      "strides= (24, 8)\n",
      "int64\n"
     ]
    }
   ],
   "source": [
    "array1 =  np.array([[1, 2, 3], \n",
    "                    [4, 5, 6], \n",
    "                    [7, 8, 9]])\n",
    "\n",
    "print('strides =', array1.strides)\n",
    "print(array1.dtype)\n"
   ]
  },
  {
   "cell_type": "code",
   "execution_count": 10,
   "id": "dc7eaec7",
   "metadata": {
    "slideshow": {
     "slide_type": "fragment"
    }
   },
   "outputs": [
    {
     "name": "stdout",
     "output_type": "stream",
     "text": [
      "strides= (8, 24)\n",
      "int64\n"
     ]
    }
   ],
   "source": [
    "array2 =  np.array([[1, 2, 3], \n",
    "                    [4, 5, 6], \n",
    "                    [7, 8, 9]]).T\n",
    "\n",
    "print('strides =', array2.strides)\n",
    "print(array1.dtype)"
   ]
  },
  {
   "cell_type": "code",
   "execution_count": 13,
   "id": "9f6f55fa",
   "metadata": {
    "slideshow": {
     "slide_type": "subslide"
    }
   },
   "outputs": [
    {
     "name": "stdout",
     "output_type": "stream",
     "text": [
      "strides = (24, 8)\n",
      "object\n"
     ]
    }
   ],
   "source": [
    "array3 = np.array([['sec1', True, 100.],\n",
    "                   ['sec2', False, 200.],\n",
    "                   ['sec3', True, 300]], dtype=object)\n",
    "\n",
    "print('strides =', array3.strides)\n",
    "print(array3.dtype)"
   ]
  },
  {
   "cell_type": "code",
   "execution_count": 28,
   "id": "9b07b035",
   "metadata": {},
   "outputs": [
    {
     "data": {
      "text/plain": [
       "array([[4, 7],\n",
       "       [5, 8]])"
      ]
     },
     "execution_count": 28,
     "metadata": {},
     "output_type": "execute_result"
    }
   ],
   "source": [
    "array4 = array2[0:2, 1:3]  # zero-copy memory view\n",
    "array4"
   ]
  },
  {
   "cell_type": "markdown",
   "id": "c15cfd5d",
   "metadata": {
    "slideshow": {
     "slide_type": "slide"
    }
   },
   "source": [
    "# A Hypothetical Wish List\n",
    "\n",
    "### Numpy\n",
    "\n",
    "-  Highly Performant\n",
    "-  Optimized memory footprint\n",
    "-  Numpy slicing - providing zero-copy views\n",
    "-  Efficiently move(but, no sharing) data between multi-process boundaries\n",
    "-  In-memory analytics (without notion of indices)\n",
    "-  Memory-mapped access\n",
    "-  Rich data types (via structured arrays) - Performance characteristics not the same\n",
    "\n",
    "\n",
    "### No Support\n",
    "\n",
    "-  Tabular representation \n",
    "-  Rich data types \n",
    "-  Distributed\n",
    "-  Langage Agnostic (maybe you want to use Julia!)"
   ]
  },
  {
   "cell_type": "markdown",
   "id": "e77bfafa",
   "metadata": {
    "slideshow": {
     "slide_type": "slide"
    }
   },
   "source": [
    "# Tools We are already familiar with\n",
    "\n",
    "## Numpy\n",
    "## Static Frame / Pandas"
   ]
  },
  {
   "cell_type": "markdown",
   "id": "49f4ee66",
   "metadata": {
    "slideshow": {
     "slide_type": "slide"
    }
   },
   "source": [
    "# Static Frame / Pandas\n",
    "\n",
    "# Things we gain\n",
    "\n",
    "-  Tabular representation \n",
    "    -  Index/Index Hierarchy\n",
    "    -  Columnar\n",
    "-  Declarative in-memory analytics\n",
    "\n",
    "\n",
    "# The trade-offs\n",
    "\n",
    "-  Memory footprint higher than plain numpy\n",
    "-  More expensive to move data between processes (compared to Numpy)"
   ]
  },
  {
   "cell_type": "markdown",
   "id": "0e8f0250",
   "metadata": {
    "slideshow": {
     "slide_type": "slide"
    }
   },
   "source": [
    "# A Hypothetical Wish List\n",
    "\n",
    "### Numpy\n",
    "\n",
    "-  Highly Performant\n",
    "-  Optimized memory footprint\n",
    "-  Efficiently move data between multi-process boundaries\n",
    "-  In-memory analytics (without notion of indices)\n",
    "-  Memory-mapped access\n",
    "-  Rich data types (via structured arrays) - Performance characteristics not the same\n",
    "\n",
    "### Pandas\n",
    "\n",
    "-  Tabular representation \n",
    "-  Better in-memory analytics\n",
    "\n",
    "### No Support\n",
    "\n",
    "-  Rich data types \n",
    "-  Distributed\n",
    "-  Langage Agnostic (maybe you want to use Julia!)"
   ]
  },
  {
   "cell_type": "markdown",
   "id": "fab7ffe4",
   "metadata": {
    "slideshow": {
     "slide_type": "slide"
    }
   },
   "source": [
    "# Apache Arrow\n",
    "\n",
    "- Specifies columnar-data representation (aiming speed and efficiency)\n",
    "- Efficiently move data between processes/machines\n",
    "- Logical types for Tabular representation\n",
    "- Rich data type support (without compromising speed)\n",
    "- Language agnostic representation\n",
    "\n",
    "# Some trade-offs \n",
    "\n",
    ".. We will talk about them soon"
   ]
  },
  {
   "cell_type": "markdown",
   "id": "c1db6eb6",
   "metadata": {
    "slideshow": {
     "slide_type": "slide"
    }
   },
   "source": [
    "# Apache Arrow - Data Types\n",
    "\n",
    "-  Primitive DataType (int32, float64, string)\n",
    "-  Array "
   ]
  },
  {
   "cell_type": "code",
   "execution_count": 20,
   "id": "b376f062",
   "metadata": {
    "slideshow": {
     "slide_type": "slide"
    }
   },
   "outputs": [
    {
     "data": {
      "text/plain": [
       "<pyarrow.lib.Int32Array object at 0x7f9afd3c0ac0>\n",
       "[\n",
       "  1,\n",
       "  2,\n",
       "  3,\n",
       "  4,\n",
       "  5\n",
       "]"
      ]
     },
     "execution_count": 20,
     "metadata": {},
     "output_type": "execute_result"
    }
   ],
   "source": [
    "# PyArray \n",
    "\n",
    "py_array = pa.array([1, 2, 3, 4, 5], type=pa.int32())\n",
    "py_array\n"
   ]
  },
  {
   "cell_type": "markdown",
   "id": "56aa39ac",
   "metadata": {
    "slideshow": {
     "slide_type": "slide"
    }
   },
   "source": [
    "# Columnar Storage\n",
    "\n",
    "array = [1, null, 2, 4, 8]\n",
    "\n",
    "\n",
    "-------------------------------------------------------------------------------------------------------------------\n",
    "```\n",
    "\n",
    "* Length: 5, Null count: 1\n",
    "* Validity bitmap buffer:\n",
    "\n",
    "  |Byte 0 (validity bitmap) | Bytes 1-63            |\n",
    "  |-------------------------|-----------------------|\n",
    "  | 00011101                | 0 (padding)           |\n",
    "\n",
    "* Value Buffer:\n",
    "\n",
    "  |Bytes 0-3   | Bytes 4-7   | Bytes 8-11  | Bytes 12-15 | Bytes 16-19 | Bytes 20-63 |\n",
    "  |------------|-------------|-------------|-------------|-------------|-------------|\n",
    "  | 1          | unspecified | 2           | 4           | 8           | unspecified |\n",
    "  \n",
    "```\n",
    "  \n",
    "Source: https://arrow.apache.org/docs/format/Columnar.html"
   ]
  },
  {
   "cell_type": "markdown",
   "id": "8a52cb5e",
   "metadata": {
    "slideshow": {
     "slide_type": "slide"
    }
   },
   "source": [
    "# Nested List Layout Example\n",
    "\n",
    "\n",
    "array = [[12, -7, 25], null, [0, -127, 127, 50], []]\n",
    "\n",
    "--------------------------------------------------\n",
    "\n",
    "```\n",
    "* Length: 4, Null count: 1\n",
    "* Validity bitmap buffer:\n",
    "\n",
    "  | Byte 0 (validity bitmap) | Bytes 1-63            |\n",
    "  |--------------------------|-----------------------|\n",
    "  | 00001101                 | 0 (padding)           |\n",
    "\n",
    "* Offsets buffer (int32)\n",
    "\n",
    "  | Bytes 0-3  | Bytes 4-7   | Bytes 8-11  | Bytes 12-15 | Bytes 16-19 | Bytes 20-63 |\n",
    "  |------------|-------------|-------------|-------------|-------------|-------------|\n",
    "  | 0          | 3           | 3           | 7           | 7           | unspecified |\n",
    "\n",
    "* Values array (Int8array):\n",
    "  * Length: 7,  Null count: 0\n",
    "  * Validity bitmap buffer: Not required\n",
    "  * Values buffer (int8)\n",
    "\n",
    "    | Bytes 0-6                    | Bytes 7-63  |\n",
    "    |------------------------------|-------------|\n",
    "    | 12, -7, 25, 0, -127, 127, 50 | unspecified |\n",
    "```\n",
    "\n",
    "Source: https://arrow.apache.org/docs/format/Columnar.html"
   ]
  },
  {
   "cell_type": "markdown",
   "id": "da710c22",
   "metadata": {},
   "source": [
    "# Why is Columnar-Storage format important\n",
    "\n",
    "- Efficient storage\n",
    "- Fast lookup (offset based lookup)\n",
    "- Easy to move around bytes (no serialization/deserialization required)\n",
    "- Same performance characteristics for heteregenous data types\n",
    "- Support for Rich data types without compromising on performance"
   ]
  },
  {
   "cell_type": "markdown",
   "id": "1fe1ef45",
   "metadata": {
    "slideshow": {
     "slide_type": "slide"
    }
   },
   "source": [
    "# Record Batch (equivalent to Frames)"
   ]
  },
  {
   "cell_type": "code",
   "execution_count": 29,
   "id": "71e2949b",
   "metadata": {
    "slideshow": {
     "slide_type": "fragment"
    }
   },
   "outputs": [
    {
     "name": "stdout",
     "output_type": "stream",
     "text": [
      "batch.num_columns=3, \n",
      "batch.num_rows=4, \n",
      "batch.schema=id: int32\n",
      "name: string\n",
      "is_valid: bool, \n",
      "\n",
      "batch[1]=<pyarrow.lib.StringArray object at 0x7f9afc4a8fa0>\n",
      "[\n",
      "  \"foo\",\n",
      "  \"bar\",\n",
      "  \"baz\",\n",
      "  null\n",
      "]\n"
     ]
    }
   ],
   "source": [
    "# all elements should be of same length\n",
    "schema = pa.schema([('id', pa.int32()), \n",
    "                    ('name', pa.string()), \n",
    "                    ('is_valid', pa.bool_())])\n",
    "\n",
    "data = [\n",
    "    pa.array([1,2,3,4]),\n",
    "    pa.array(['foo', 'bar','baz', None]),\n",
    "    pa.array([True, None, False, True])\n",
    "]\n",
    "batch = pa.RecordBatch.from_arrays(data, schema=schema)\n",
    "\n",
    "print(f'{batch.num_columns=}, \\n{batch.num_rows=}, \\n{batch.schema=}, \\n\\n{batch[1]=}')"
   ]
  },
  {
   "cell_type": "code",
   "execution_count": 37,
   "id": "39164bd0",
   "metadata": {
    "slideshow": {
     "slide_type": "subslide"
    }
   },
   "outputs": [
    {
     "name": "stdout",
     "output_type": "stream",
     "text": [
      "[\n",
      "  \"foo\",\n",
      "  \"bar\",\n",
      "  \"baz\",\n",
      "  null\n",
      "]\n",
      "[\n",
      "  \"bar\",\n",
      "  \"baz\"\n",
      "]\n"
     ]
    }
   ],
   "source": [
    "print(batch[1])\n",
    "\n",
    "print(batch[1:3][1]) # zero copy slicing"
   ]
  },
  {
   "cell_type": "markdown",
   "id": "bcdc006e",
   "metadata": {
    "slideshow": {
     "slide_type": "slide"
    }
   },
   "source": [
    "# A Hypothetical Wish List\n",
    "\n",
    "### Numpy\n",
    "\n",
    "-  Highly Performant\n",
    "-  Optimized memory footprint\n",
    "-  Efficiently move data between multi-process boundaries\n",
    "-  In-memory analytics (without notion of indices)\n",
    "-  Memory-mapped access\n",
    "-  Rich data types (via structured arrays) - Performance characteristics not the same\n",
    "\n",
    "### Pandas\n",
    "\n",
    "-  Tabular representation \n",
    "-  Better in-memory analytics \n",
    "\n",
    "### No Support\n",
    "\n",
    "-  Rich data types \n",
    "-  Distributed\n",
    "-  Langage Agnostic (maybe you want to use Julia!)"
   ]
  },
  {
   "cell_type": "markdown",
   "id": "1aada996",
   "metadata": {
    "slideshow": {
     "slide_type": "slide"
    }
   },
   "source": [
    "# A Hypothetical Wish List \n",
    "\n",
    "### PyArrow\n",
    "\n",
    "-  Highly Performant\n",
    "-  Optimized memory footprint\n",
    "-  Efficiently move data between multi-process boundaries\n",
    "-  Memory-mapped access\n",
    "-  Rich data types (with same performance characteristics)\n",
    "-  Distributed\n",
    "-  Langage Agnostic (maybe you `can` use Julia!)\n",
    "\n",
    "### Some Trade-offs\n",
    "\n",
    "-  Tabular representation (lack of indices)\n",
    "-  In-memory analytics (current API not very Pythonic)\n"
   ]
  },
  {
   "cell_type": "markdown",
   "id": "133c0322",
   "metadata": {
    "slideshow": {
     "slide_type": "slide"
    }
   },
   "source": [
    "# Performance Tests"
   ]
  },
  {
   "cell_type": "markdown",
   "id": "4830d9ae",
   "metadata": {
    "slideshow": {
     "slide_type": "slide"
    }
   },
   "source": [
    "# Performance Test 1\n",
    "\n",
    "-  NxN Numpy Array\n",
    "-  NxN PyArrow Array\n",
    "-  Multi-process each column and calculate Sum\n"
   ]
  },
  {
   "cell_type": "code",
   "execution_count": 56,
   "id": "077f38a6",
   "metadata": {
    "slideshow": {
     "slide_type": "fragment"
    }
   },
   "outputs": [
    {
     "data": {
      "image/png": "[encoded data removed]",
      "text/plain": [
       "<Figure size 432x288 with 1 Axes>"
      ]
     },
     "metadata": {
      "needs_background": "light"
     },
     "output_type": "display_data"
    },
    {
     "data": {
      "image/png": "[encoded data removed]",
      "text/plain": [
       "<Figure size 432x288 with 1 Axes>"
      ]
     },
     "metadata": {
      "needs_background": "light"
     },
     "output_type": "display_data"
    }
   ],
   "source": [
    "plot_test('/tmp/test1.txt', 'batch_vs_numpy_only_numeric', 'duration', 'Time (seconds)')\n",
    " \n",
    "plot_test('/tmp/memory_test1.txt', 'batch_vs_numpy_only_numeric_memory', 'size', 'avg memory used per process (MB)')\n"
   ]
  },
  {
   "cell_type": "markdown",
   "id": "debd46a5",
   "metadata": {
    "slideshow": {
     "slide_type": "slide"
    }
   },
   "source": [
    "# Performance Test 2\n",
    "\n",
    "- Store `object` type in Numpy Array in 3 columns (int, bool, string)\n",
    "- Same equivalent type in PyArrow Array in 3 columns (pyarrow.int, pyarrow.bool_, pyarrow.string)\n",
    "- Measure performance across\n",
    "     -  1_000_000 rows x 3 columns\n",
    "     -  10_000_000 rows x 3 columns\n",
    "     -  20_000_000 rows x 3 columns"
   ]
  },
  {
   "cell_type": "code",
   "execution_count": 61,
   "id": "4ac8746b",
   "metadata": {
    "slideshow": {
     "slide_type": "fragment"
    }
   },
   "outputs": [
    {
     "data": {
      "image/png": "[encoded data removed]",
      "text/plain": [
       "<Figure size 432x288 with 1 Axes>"
      ]
     },
     "metadata": {
      "needs_background": "light"
     },
     "output_type": "display_data"
    },
    {
     "data": {
      "image/png": "[encoded data removed]",
      "text/plain": [
       "<Figure size 432x288 with 1 Axes>"
      ]
     },
     "metadata": {
      "needs_background": "light"
     },
     "output_type": "display_data"
    }
   ],
   "source": [
    "plot_test('test2.txt', 'batch_vs_numpy_with_python_objects', 'duration', 'Time (seconds)')\n",
    "plot_test('memory_test2.txt', 'batch_vs_numpy_with_python_objects', 'size', 'avg memory used per process (MB)')\n"
   ]
  },
  {
   "cell_type": "markdown",
   "id": "e79a5d2b",
   "metadata": {
    "slideshow": {
     "slide_type": "slide"
    }
   },
   "source": [
    "# Performance Test 3\n",
    "\n",
    "-  Static Frame / Pandas with alternating bool/float types as columns\n",
    "-  Similar columns in PyArrow\n",
    "-  Measure performance across\n",
    "    -  10_000 rows x 200 cols\n",
    "    -  50_000 rows x 200 cols\n",
    "    -  100_000 rows x 200 cols\n"
   ]
  },
  {
   "cell_type": "code",
   "execution_count": 63,
   "id": "3c7a6fa7",
   "metadata": {},
   "outputs": [
    {
     "data": {
      "image/png": "[encoded data removed]",
      "text/plain": [
       "<Figure size 432x288 with 1 Axes>"
      ]
     },
     "metadata": {
      "needs_background": "light"
     },
     "output_type": "display_data"
    },
    {
     "data": {
      "image/png": "[encoded data removed]",
      "text/plain": [
       "<Figure size 432x288 with 1 Axes>"
      ]
     },
     "metadata": {
      "needs_background": "light"
     },
     "output_type": "display_data"
    }
   ],
   "source": [
    "plot_test('test3.txt', 'batch_vs_pandas_vs_staticframe', 'duration', 'Time (seconds)')\n",
    "plot_test('memory_test3.txt', 'batch_vs_pandas_vs_staticframe', 'size', 'avg memory used per process (MB)')\n"
   ]
  },
  {
   "cell_type": "markdown",
   "id": "5c9ad60d",
   "metadata": {
    "slideshow": {
     "slide_type": "slide"
    }
   },
   "source": [
    "# Performance Test 4\n",
    "\n",
    "-  Compare RecordBatch, ArrowFile and MappedArrowFile\n",
    "-  Measure performance across\n",
    "       - 10K - 1 million rows x 200 columns"
   ]
  },
  {
   "cell_type": "code",
   "execution_count": 65,
   "id": "83a2c0ac",
   "metadata": {},
   "outputs": [
    {
     "data": {
      "image/png": "[encoded data removed]",
      "text/plain": [
       "<Figure size 432x288 with 1 Axes>"
      ]
     },
     "metadata": {
      "needs_background": "light"
     },
     "output_type": "display_data"
    },
    {
     "data": {
      "image/png": "[encoded data removed]",
      "text/plain": [
       "<Figure size 432x288 with 1 Axes>"
      ]
     },
     "metadata": {
      "needs_background": "light"
     },
     "output_type": "display_data"
    }
   ],
   "source": [
    "plot_test('test4.txt', 'arrow_file_vs_mapped_arrow_file', 'duration', 'Time (seconds)')\n",
    "plot_test('memory_test4.txt', 'arrow_file_vs_mapped_arrow_file', 'size', 'avg mem used/process (MB)')\n"
   ]
  },
  {
   "cell_type": "markdown",
   "id": "18645e94",
   "metadata": {
    "slideshow": {
     "slide_type": "slide"
    }
   },
   "source": [
    "# Why not use Apache Arrow\n",
    "\n",
    "# A Hypothetical Wish List \n",
    "\n",
    "### PyArrow\n",
    "\n",
    "-  Highly Performant\n",
    "-  Optimized memory footprint\n",
    "-  Efficiently move data between multi-process boundaries\n",
    "-  Memory-mapped access\n",
    "-  Rich data types (with same performance characteristics)\n",
    "-  Distributed\n",
    "-  Langage Agnostic (maybe you `can` use Julia!)\n",
    "\n",
    "### Some Trade-offs\n",
    "\n",
    "-  Tabular representation (lack of indices)\n",
    "-  In-memory analytics (current API not very Pythonic)\n",
    "-  Linear Algebra operations"
   ]
  },
  {
   "cell_type": "markdown",
   "id": "f8737213",
   "metadata": {
    "slideshow": {
     "slide_type": "slide"
    }
   },
   "source": [
    "# Other related topics\n",
    "\n",
    "-  Plasma store (sharing memory across processes)\n",
    "-  Ray (similar to Plasma, but Python specific) \n",
    "-  Parquet and its relationship to Apache arrow\n"
   ]
  },
  {
   "cell_type": "markdown",
   "id": "7a24b7fe",
   "metadata": {
    "slideshow": {
     "slide_type": "slide"
    }
   },
   "source": [
    "# Other Resources (for Performance Metrics)\n",
    "\n",
    "1. Ray - https://arrow.apache.org/blog/2017/10/15/fast-python-serialization-with-ray-and-arrow/\n",
    "2. Parquet - - https://stackoverflow.com/questions/48083405/what-are-the-differences-between-feather-and-parquet\n",
    "3. Flight vs Parquet - https://ursalabs.org/blog/2020-feather-v2/"
   ]
  },
  {
   "cell_type": "markdown",
   "id": "cecc8bd1",
   "metadata": {
    "slideshow": {
     "slide_type": "slide"
    }
   },
   "source": [
    "References\n",
    "\n",
    "[apache-arrow-java] - (https://www.infoq.com/articles/apache-arrow-java/)\n",
    "\n",
    "[pyarrow - Official Site] - (https://arrow.apache.org/docs/python/index.html)\n",
    "\n",
    "[Apache Arrow and the Future of Data Frames\" with Wes McKinney (2020)] - (https://www.youtube.com/watch?v=fyj4FyH3XdU)\n",
    "\n",
    "[Apache Arrow - In Theory and Practice (2020)] - (https://www.youtube.com/watch?v=SFnkSReEjlk)\n",
    "\n",
    "[Dremel (some ideas of Apache Arrow from here)]- (https://research.google/pubs/pub36632/)\n"
   ]
  }
 ],
 "metadata": {
  "celltoolbar": "Slideshow",
  "kernelspec": {
   "display_name": "Python 3",
   "language": "python",
   "name": "python3"
  },
  "language_info": {
   "codemirror_mode": {
    "name": "ipython",
    "version": 3
   },
   "file_extension": ".py",
   "mimetype": "text/x-python",
   "name": "python",
   "nbconvert_exporter": "python",
   "pygments_lexer": "ipython3",
   "version": "3.8.3"
  }
 },
 "nbformat": 4,
 "nbformat_minor": 5
}
