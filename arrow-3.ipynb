{
 "cells": [
  {
   "cell_type": "code",
   "execution_count": 3,
   "id": "ceecf7da",
   "metadata": {
    "slideshow": {
     "slide_type": "skip"
    }
   },
   "outputs": [],
   "source": [
    "import numpy as np\n",
    "import pandas as pd\n",
    "import static_frame as sf \n",
    "import pyarrow as pa\n",
    "import pyarrow.compute as pc\n",
    "\n",
    "import pickle\n",
    "import pyarrow\n",
    "import matplotlib.pyplot as plt\n",
    "import numpy as np\n",
    "import timeit\n",
    "\n",
    "def plot(data, labels, title, y_label):\n",
    "    fig, ax = plt.subplots()\n",
    "    #fig.set_size_inches(3.8, 2.7)\n",
    "\n",
    "    bar_width = 0.15\n",
    "    index = np.arange(len(labels))\n",
    "    opacity = 0.6\n",
    "\n",
    "    placement = 0\n",
    "    for k, v in data.items():\n",
    "        plt.bar(index+placement,\n",
    "                v,\n",
    "                bar_width,\n",
    "                alpha=opacity, \n",
    "                #color='r', \n",
    "                label=k)\n",
    "        placement += bar_width \n",
    "        \n",
    "\n",
    "    plt.title(title, fontweight='bold')\n",
    "    plt.ylabel(y_label, fontsize=10)\n",
    "    plt.xticks(index + placement / len(list(data.keys())), labels, fontsize=10)\n",
    "    plt.legend(fontsize=10, bbox_to_anchor=(1, 1))\n",
    "    #plt.tight_layout()\n",
    "    plt.yticks(fontsize=10)\n",
    "    plt.savefig('plot-' + title + '.png', format='png')\n",
    "    \n",
    "import pandas as pd\n",
    "def plot_test(filename, title, y_value, y_label):\n",
    "    df = pd.read_csv(filename)\n",
    "    df['method']=df['label'].map(lambda z: z.split('_')[0])\n",
    "    df['rows']=df['label'].map(lambda z: tuple(map(int, z.split('_')[1:])))\n",
    "    data = dict()\n",
    "    df = df.sort_values('rows')\n",
    "    for k, v2 in df.groupby('method'):\n",
    "        g = v2.sort_index()[y_value].values.tolist()\n",
    "        data[k]=g\n",
    "    labels = []\n",
    "    for k, _ in df.groupby('rows'):\n",
    "        labels.append(f'({k[0]:_}, {k[1]})')\n",
    "    #print(labels)\n",
    "    #print(data)\n",
    "    plot(data, labels, title, y_label)    "
   ]
  },
  {
   "cell_type": "markdown",
   "id": "0770a58a",
   "metadata": {
    "slideshow": {
     "slide_type": "slide"
    }
   },
   "source": [
    "# Introduction to Apache Arrow\n",
    "\n",
    "\n",
    "\n",
    "###  RA Tech Forum"
   ]
  },
  {
   "cell_type": "markdown",
   "id": "58e16eac",
   "metadata": {
    "slideshow": {
     "slide_type": "slide"
    }
   },
   "source": [
    "# Goal of this talk\n",
    "\n",
    "\n",
    "Understand the purpose of Apache Arrow through the lense of Numpy and Pandas"
   ]
  },
  {
   "cell_type": "markdown",
   "id": "a3e68490",
   "metadata": {
    "slideshow": {
     "slide_type": "slide"
    }
   },
   "source": [
    "# A Hypothetical Wish List\n",
    "\n",
    "-  Highly Performant\n",
    "-  Optimized memory footprint\n",
    "-  Copy-on demand (or Zero-copy when possible)/Share Memory\n",
    "-  Efficiently move/share data between multi-process boundaries \n",
    "-  Tabular representation \n",
    "-  Rich data types \n",
    "-  In-memory analytics \n",
    "-  Memory-mapped access\n",
    "-  Distributed\n",
    "-  Language Agnostic (maybe you want to use Julia!)"
   ]
  },
  {
   "cell_type": "markdown",
   "id": "54d41333",
   "metadata": {
    "slideshow": {
     "slide_type": "slide"
    }
   },
   "source": [
    "# Tools We Are Already Familiar With\n",
    "\n",
    "\n",
    "### Numpy"
   ]
  },
  {
   "cell_type": "markdown",
   "id": "3d210225",
   "metadata": {
    "slideshow": {
     "slide_type": "slide"
    }
   },
   "source": [
    "# What makes Numpy fast?\n",
    "\n",
    "-  Numpy Array stored in contiguous memory\n",
    "-  Accessing elements in an array is constant time\n",
    "-  Meta-data, Values isolation\n",
    "-  Zero-copy slicing"
   ]
  },
  {
   "cell_type": "code",
   "execution_count": 4,
   "id": "d2d76d19",
   "metadata": {
    "slideshow": {
     "slide_type": "fragment"
    }
   },
   "outputs": [
    {
     "name": "stdout",
     "output_type": "stream",
     "text": [
      "strides = (24, 8)\n",
      "int64\n"
     ]
    }
   ],
   "source": [
    "array1 =  np.array([[1, 2, 3], \n",
    "                    [4, 5, 6], \n",
    "                    [7, 8, 9]])\n",
    "\n",
    "print('strides =', array1.strides)\n",
    "print(array1.dtype)\n"
   ]
  },
  {
   "cell_type": "code",
   "execution_count": 5,
   "id": "eb582ac7",
   "metadata": {
    "slideshow": {
     "slide_type": "fragment"
    }
   },
   "outputs": [
    {
     "name": "stdout",
     "output_type": "stream",
     "text": [
      "[[1 4 7]\n",
      " [2 5 8]\n",
      " [3 6 9]]\n",
      "strides = (8, 24)\n",
      "True\n"
     ]
    }
   ],
   "source": [
    "array2 =  array1.T  # zero-copy of actual array\n",
    "\n",
    "print(array2)\n",
    "\n",
    "print('strides =', array2.strides)\n",
    "print(id(array2.data) == id(array1.data))\n",
    "\n"
   ]
  },
  {
   "cell_type": "code",
   "execution_count": 13,
   "id": "454b692d",
   "metadata": {
    "slideshow": {
     "slide_type": "subslide"
    }
   },
   "outputs": [
    {
     "name": "stdout",
     "output_type": "stream",
     "text": [
      "strides = (24, 8)\n",
      "object\n"
     ]
    }
   ],
   "source": [
    "array3 = np.array([['sec1', True, 100.],\n",
    "                   ['sec2', False, 200.],\n",
    "                   ['sec3', True, 300]], dtype=object)\n",
    "\n",
    "print('strides =', array3.strides)\n",
    "print(array3.dtype)"
   ]
  },
  {
   "cell_type": "code",
   "execution_count": 28,
   "id": "170c1092",
   "metadata": {},
   "outputs": [
    {
     "data": {
      "text/plain": [
       "array([[4, 7],\n",
       "       [5, 8]])"
      ]
     },
     "execution_count": 28,
     "metadata": {},
     "output_type": "execute_result"
    }
   ],
   "source": [
    "array4 = array2[0:2, 1:3]  # zero-copy memory view\n",
    "array4"
   ]
  },
  {
   "cell_type": "markdown",
   "id": "4663d8a3",
   "metadata": {
    "slideshow": {
     "slide_type": "slide"
    }
   },
   "source": [
    "# A Hypothetical Wish List\n",
    "\n",
    "### Numpy\n",
    "\n",
    "-  Highly Performant\n",
    "-  Optimized memory footprint\n",
    "-  Numpy slicing - providing zero-copy views (sharing memory)\n",
    "-  Efficiently move(but, no sharing) data between multi-process boundaries\n",
    "-  In-memory analytics (without notion of indices)\n",
    "-  Memory-mapped access\n",
    "-  Rich data types (via structured arrays) - Performance characteristics not the same\n",
    "\n",
    "\n",
    "### No Support\n",
    "\n",
    "-  Tabular representation \n",
    "-  Rich data types \n",
    "-  Distributed\n",
    "-  Langage Agnostic (maybe you want to use Julia!)"
   ]
  },
  {
   "cell_type": "markdown",
   "id": "b571d1c7",
   "metadata": {
    "slideshow": {
     "slide_type": "slide"
    }
   },
   "source": [
    "# Tools We are already familiar with\n",
    "\n",
    "\n",
    "### Numpy\n",
    "### Static Frame / Pandas"
   ]
  },
  {
   "cell_type": "markdown",
   "id": "31544131",
   "metadata": {
    "slideshow": {
     "slide_type": "slide"
    }
   },
   "source": [
    "# Static Frame / Pandas\n",
    "\n",
    "# Things we gain\n",
    "\n",
    "-  Tabular representation \n",
    "    -  Index/Index Hierarchy\n",
    "    -  Columnar\n",
    "-  Declarative in-memory analytics\n",
    "    - Selection semantics (.loc, iloc)\n",
    "    - Group by\n",
    "    - Row-wise/Column-wise function application\n",
    "\n",
    "# The trade-offs\n",
    "\n",
    "-  Memory footprint higher than plain numpy\n",
    "-  More expensive to move data between processes (compared to Numpy)"
   ]
  },
  {
   "cell_type": "markdown",
   "id": "26e36c7f",
   "metadata": {
    "slideshow": {
     "slide_type": "slide"
    }
   },
   "source": [
    "# A Hypothetical Wish List\n",
    "\n",
    "### Numpy\n",
    "\n",
    "-  Highly Performant\n",
    "-  Optimized memory footprint\n",
    "-  Numpy slicing - providing zero-copy views (sharing memory)\n",
    "-  Efficiently move data between multi-process boundaries\n",
    "-  In-memory analytics (without notion of indices)\n",
    "-  Memory-mapped access\n",
    "-  Rich data types (via structured arrays) - Performance characteristics not the same\n",
    "\n",
    "### Pandas\n",
    "\n",
    "-  Tabular representation \n",
    "-  Better in-memory analytics\n",
    "\n",
    "### No Support\n",
    "\n",
    "-  Rich data types \n",
    "-  Distributed\n",
    "-  Langage Agnostic (maybe you want to use Julia!)"
   ]
  },
  {
   "cell_type": "markdown",
   "id": "63542227",
   "metadata": {
    "slideshow": {
     "slide_type": "slide"
    }
   },
   "source": [
    "# Apache Arrow\n",
    "\n",
    "- Specifies columnar-data representation (aimed at better speed and storage)\n",
    "- Efficiently move data between processes/machines\n",
    "- Logical types for Tabular representation\n",
    "- Rich data type support (without compromising speed/storage characteristics)\n",
    "- Language agnostic representation\n",
    "\n",
    "# Some trade-offs \n",
    "\n",
    ".. We will talk about them soon"
   ]
  },
  {
   "cell_type": "markdown",
   "id": "255c209f",
   "metadata": {
    "slideshow": {
     "slide_type": "slide"
    }
   },
   "source": [
    "# Apache Arrow - Data Types\n",
    "\n",
    "-  Primitive DataType (int32, float64, string)\n",
    "-  Array "
   ]
  },
  {
   "cell_type": "code",
   "execution_count": 1,
   "id": "4a3734c4",
   "metadata": {
    "slideshow": {
     "slide_type": "slide"
    }
   },
   "outputs": [
    {
     "data": {
      "text/plain": [
       "<pyarrow.lib.Int32Array object at 0x7ff6b27bd880>\n",
       "[\n",
       "  1,\n",
       "  2,\n",
       "  3,\n",
       "  4,\n",
       "  5\n",
       "]"
      ]
     },
     "execution_count": 1,
     "metadata": {},
     "output_type": "execute_result"
    }
   ],
   "source": [
    "# PyArray \n",
    "import pyarrow as pa \n",
    "\n",
    "py_array = pa.array([1, 2, 3, 4, 5], type=pa.int32())\n",
    "py_array\n"
   ]
  },
  {
   "cell_type": "markdown",
   "id": "c7d8168d",
   "metadata": {
    "slideshow": {
     "slide_type": "slide"
    }
   },
   "source": [
    "# Columnar Storage\n",
    "\n",
    "array = [1, null, 2, 4, 8]\n",
    "\n",
    "-------------------------------------------------------------------------------------------------------------------\n",
    "```\n",
    "* Length: 5, Null count: 1\n",
    "* Validity bitmap buffer:\n",
    "\n",
    " |Byte 0 (validity bitmap) | Bytes 1-63            |\n",
    " |-------------------------|-----------------------|\n",
    " | 00011101                | 0 (padding)           |\n",
    "\n",
    "* Value Buffer:\n",
    "\n",
    " |Bytes 0-3 | Bytes 4-7   | Bytes 8-11| Bytes 12-15| Bytes 16-19| Bytes 20-63 |\n",
    " |----------|-------------|-----------|------------|------------|-------------|\n",
    " | 1        | unspecified | 2         | 4          | 8          | unspecified |\n",
    "  \n",
    "``` \n",
    "\n",
    "  \n",
    "Source: https://arrow.apache.org/docs/format/Columnar.html"
   ]
  },
  {
   "cell_type": "markdown",
   "id": "24604e62",
   "metadata": {
    "slideshow": {
     "slide_type": "slide"
    }
   },
   "source": [
    "# Nested List Layout Example\n",
    "\n",
    "\n",
    "array = [[12, -7, 25], null, [0, -127, 127, 50], []]\n",
    "\n",
    "--------------------------------------------------\n",
    "\n",
    "```\n",
    "* Length: 4, Null count: 1\n",
    "* Validity bitmap buffer:\n",
    "\n",
    " | Byte 0 (validity bitmap) | Bytes 1-63            |\n",
    " |--------------------------|-----------------------|\n",
    " | 00001101                 | 0 (padding)           |\n",
    "\n",
    "* Offsets buffer (int32)\n",
    "\n",
    " | Bytes 0-3| Bytes 4-7| Bytes 8-11| Bytes 12-15| Bytes 16-19| Bytes 20-63 |\n",
    " |----------|----------|-----------|------------|------------|-------------|\n",
    " | 0        | 3        | 3         | 7          | 7          | unspecified |\n",
    "\n",
    "* Values array (Int8array):\n",
    "  * Length: 7,  Null count: 0\n",
    "  * Validity bitmap buffer: Not required\n",
    "  * Values buffer (int8)\n",
    "\n",
    "  | Bytes 0-6                    | Bytes 7-63  |\n",
    "  |------------------------------|-------------|\n",
    "  | 12, -7, 25, 0, -127, 127, 50 | unspecified |\n",
    "```\n",
    "\n",
    "Source: https://arrow.apache.org/docs/format/Columnar.html"
   ]
  },
  {
   "cell_type": "markdown",
   "id": "7e1679f9",
   "metadata": {
    "slideshow": {
     "slide_type": "slide"
    }
   },
   "source": [
    "# Why is Columnar-Storage format important\n",
    "\n",
    "- Efficient storage\n",
    "- Fast lookup (offset based lookup)\n",
    "- Easy to move around bytes (no serialization/deserialization required)\n",
    "- Same performance characteristics for heteregenous data types\n",
    "- Support for Rich data types without compromising on performance"
   ]
  },
  {
   "cell_type": "markdown",
   "id": "4c5f20be",
   "metadata": {
    "slideshow": {
     "slide_type": "slide"
    }
   },
   "source": [
    "# Record Batch (equivalent to Frames)"
   ]
  },
  {
   "cell_type": "code",
   "execution_count": 7,
   "id": "515b8d5d",
   "metadata": {
    "slideshow": {
     "slide_type": "fragment"
    }
   },
   "outputs": [
    {
     "name": "stdout",
     "output_type": "stream",
     "text": [
      "batch.num_columns=3, \n",
      "batch.num_rows=4, \n",
      "batch.schema=id: int32\n",
      "name: string\n",
      "is_valid: bool, \n",
      "\n",
      "batch[1]=<pyarrow.lib.StringArray object at 0x7f5f3ba61940>\n",
      "[\n",
      "  \"foo\",\n",
      "  \"bar\",\n",
      "  \"baz\",\n",
      "  null\n",
      "]\n"
     ]
    }
   ],
   "source": [
    "# all elements should be of same length\n",
    "schema = pa.schema([('id', pa.int32()), \n",
    "                    ('name', pa.string()), \n",
    "                    ('is_valid', pa.bool_())])\n",
    "\n",
    "data = [\n",
    "    pa.array([1,2,3,4]),\n",
    "    pa.array(['foo', 'bar','baz', None]),\n",
    "    pa.array([True, None, False, True])\n",
    "]\n",
    "batch = pa.RecordBatch.from_arrays(data, schema=schema)\n",
    "\n",
    "print(f'{batch.num_columns=}, \\n{batch.num_rows=}, \\n{batch.schema=}, \\n\\n{batch[1]=}')"
   ]
  },
  {
   "cell_type": "code",
   "execution_count": 37,
   "id": "751d1a45",
   "metadata": {
    "slideshow": {
     "slide_type": "subslide"
    }
   },
   "outputs": [
    {
     "name": "stdout",
     "output_type": "stream",
     "text": [
      "[\n",
      "  \"foo\",\n",
      "  \"bar\",\n",
      "  \"baz\",\n",
      "  null\n",
      "]\n",
      "[\n",
      "  \"bar\",\n",
      "  \"baz\"\n",
      "]\n"
     ]
    }
   ],
   "source": [
    "print(batch[1])\n",
    "\n",
    "print(batch[1:3][1]) # zero copy slicing"
   ]
  },
  {
   "cell_type": "markdown",
   "id": "9788b279",
   "metadata": {
    "slideshow": {
     "slide_type": "slide"
    }
   },
   "source": [
    "# A Hypothetical Wish List\n",
    "\n",
    "### Numpy\n",
    "\n",
    "-  Highly Performant\n",
    "-  Optimized memory footprint\n",
    "-  Numpy slicing - providing zero-copy views (sharing memory)\n",
    "-  Efficiently move data between multi-process boundaries\n",
    "-  In-memory analytics (without notion of indices)\n",
    "-  Memory-mapped access\n",
    "-  Rich data types (via structured arrays) - Performance characteristics not the same\n",
    "\n",
    "### Pandas\n",
    "\n",
    "-  Tabular representation \n",
    "-  Better in-memory analytics \n",
    "\n",
    "### No Support\n",
    "\n",
    "-  Rich data types \n",
    "-  Distributed\n",
    "-  Langage Agnostic (maybe you want to use Julia!)"
   ]
  },
  {
   "cell_type": "markdown",
   "id": "9380cff4",
   "metadata": {
    "slideshow": {
     "slide_type": "slide"
    }
   },
   "source": [
    "# A Hypothetical Wish List \n",
    "\n",
    "### PyArrow\n",
    "\n",
    "-  Highly Performant\n",
    "-  Optimized memory footprint\n",
    "-  Sharing memory - Zero-Copy slicing\n",
    "-  Efficiently move data between multi-process boundaries\n",
    "-  Memory-mapped access\n",
    "-  Rich data types (with same performance characteristics)\n",
    "-  Distributed\n",
    "-  Langage Agnostic (maybe you `can` use Julia!)\n",
    "\n",
    "### Some Trade-offs\n",
    "\n",
    "-  Tabular representation (lack of indices)\n",
    "-  In-memory analytics (current API not very Pythonic)\n"
   ]
  },
  {
   "cell_type": "markdown",
   "id": "94054d22",
   "metadata": {
    "slideshow": {
     "slide_type": "slide"
    }
   },
   "source": [
    "# Performance Tests"
   ]
  },
  {
   "cell_type": "markdown",
   "id": "9dcdd4c7",
   "metadata": {
    "slideshow": {
     "slide_type": "slide"
    }
   },
   "source": [
    "# Performance Test 1\n",
    "\n",
    "-  N x 100 Numpy Array (np.float64)\n",
    "-  N x 100 PyArrow Array (pyarrow.float64)\n",
    "-  Multi-process each column and calculate Sum\n"
   ]
  },
  {
   "cell_type": "code",
   "execution_count": 56,
   "id": "99513794",
   "metadata": {
    "slideshow": {
     "slide_type": "slide"
    }
   },
   "outputs": [
    {
     "data": {
      "image/png": "[encoded data removed]",
      "text/plain": [
       "<Figure size 432x288 with 1 Axes>"
      ]
     },
     "metadata": {
      "needs_background": "light"
     },
     "output_type": "display_data"
    },
    {
     "data": {
      "image/png": "[encoded data removed]",
      "text/plain": [
       "<Figure size 432x288 with 1 Axes>"
      ]
     },
     "metadata": {
      "needs_background": "light"
     },
     "output_type": "display_data"
    }
   ],
   "source": [
    "plot_test('/tmp/test1.txt', 'batch_vs_numpy_only_numeric', 'duration', 'Time (seconds)')\n",
    " \n",
    "plot_test('/tmp/memory_test1.txt', 'batch_vs_numpy_only_numeric_memory', 'size', 'avg memory used per process (MB)')\n"
   ]
  },
  {
   "cell_type": "markdown",
   "id": "44454af6",
   "metadata": {
    "slideshow": {
     "slide_type": "slide"
    }
   },
   "source": [
    "# Performance Test 2\n",
    "\n",
    "- Store `object` type in Numpy Array in 3 columns (int, bool, string)\n",
    "- Same equivalent type in PyArrow Array in 3 columns (pyarrow.int, pyarrow.bool_, pyarrow.string)\n",
    "- Measure performance across\n",
    "     -  1_000_000 rows x 3 columns\n",
    "     -  10_000_000 rows x 3 columns\n",
    "     -  20_000_000 rows x 3 columns\n",
    "     \n",
    "-  Demonstrates heterogenous data support in Apache Arrow\n"
   ]
  },
  {
   "cell_type": "code",
   "execution_count": 61,
   "id": "8ea938bc",
   "metadata": {
    "slideshow": {
     "slide_type": "slide"
    }
   },
   "outputs": [
    {
     "data": {
      "image/png": "[encoded data removed]",
      "text/plain": [
       "<Figure size 432x288 with 1 Axes>"
      ]
     },
     "metadata": {
      "needs_background": "light"
     },
     "output_type": "display_data"
    },
    {
     "data": {
      "image/png": "[encoded data removed]",
      "text/plain": [
       "<Figure size 432x288 with 1 Axes>"
      ]
     },
     "metadata": {
      "needs_background": "light"
     },
     "output_type": "display_data"
    }
   ],
   "source": [
    "plot_test('test2.txt', 'batch_vs_numpy_with_python_objects', 'duration', 'Time (seconds)')\n",
    "plot_test('memory_test2.txt', 'batch_vs_numpy_with_python_objects_memory', 'size', 'avg memory used per process (MB)')\n"
   ]
  },
  {
   "cell_type": "markdown",
   "id": "14a6ecb0",
   "metadata": {
    "slideshow": {
     "slide_type": "slide"
    }
   },
   "source": [
    "# Performance Test 3\n",
    "\n",
    "-  Static Frame / Pandas with alternating bool/float types as columns\n",
    "-  Similar columns in PyArrow\n",
    "-  Measure performance across\n",
    "    -  10_000 rows x 200 cols\n",
    "    -  50_000 rows x 200 cols\n",
    "    -  100_000 rows x 200 cols\n"
   ]
  },
  {
   "cell_type": "code",
   "execution_count": 79,
   "id": "df0ab5dc",
   "metadata": {
    "slideshow": {
     "slide_type": "slide"
    }
   },
   "outputs": [
    {
     "data": {
      "image/png": "[encoded data removed]",
      "text/plain": [
       "<Figure size 432x288 with 1 Axes>"
      ]
     },
     "metadata": {
      "needs_background": "light"
     },
     "output_type": "display_data"
    },
    {
     "data": {
      "image/png": "[encoded data removed]",
      "text/plain": [
       "<Figure size 432x288 with 1 Axes>"
      ]
     },
     "metadata": {
      "needs_background": "light"
     },
     "output_type": "display_data"
    }
   ],
   "source": [
    "plot_test('test3.txt', 'batch_vs_pandas_vs_staticframe', 'duration', 'Time (seconds)')\n",
    "plot_test('memory_test3.txt', 'batch_vs_pandas_vs_staticframe_memory', 'size', 'avg memory used per process (MB)')\n"
   ]
  },
  {
   "cell_type": "markdown",
   "id": "f6a4fbe2",
   "metadata": {
    "slideshow": {
     "slide_type": "slide"
    }
   },
   "source": [
    "# Performance Test 4\n",
    "\n",
    "-  Compare RecordBatch, ArrowFile and MappedArrowFile\n",
    "-  Measure performance across\n",
    "       - 10K - 1 million rows x 200 columns"
   ]
  },
  {
   "cell_type": "code",
   "execution_count": 78,
   "id": "c3a4b95a",
   "metadata": {
    "slideshow": {
     "slide_type": "slide"
    }
   },
   "outputs": [
    {
     "data": {
      "image/png": "[encoded data removed]",
      "text/plain": [
       "<Figure size 432x288 with 1 Axes>"
      ]
     },
     "metadata": {
      "needs_background": "light"
     },
     "output_type": "display_data"
    },
    {
     "data": {
      "image/png": "[encoded data removed]",
      "text/plain": [
       "<Figure size 432x288 with 1 Axes>"
      ]
     },
     "metadata": {
      "needs_background": "light"
     },
     "output_type": "display_data"
    }
   ],
   "source": [
    "plot_test('test4.txt', 'arrow_file_vs_mapped_arrow_file', 'duration', 'Time (seconds)')\n",
    "plot_test('memory_test4.txt', 'arrow_file_vs_mapped_arrow_file_memory', 'size', 'avg mem used/process (MB)')\n"
   ]
  },
  {
   "cell_type": "markdown",
   "id": "5e68a8db",
   "metadata": {
    "slideshow": {
     "slide_type": "slide"
    }
   },
   "source": [
    "# Why not use Apache Arrow\n",
    "\n",
    "# A Hypothetical Wish List \n",
    "\n",
    "### PyArrow\n",
    "\n",
    "-  Highly Performant\n",
    "-  Optimized memory footprint\n",
    "-  Efficiently move data between multi-process boundaries\n",
    "-  Memory-mapped access\n",
    "-  Rich data types (with same performance characteristics)\n",
    "-  Distributed\n",
    "-  Langage Agnostic (maybe you `can` use Julia!)\n",
    "\n",
    "### Some Trade-offs\n",
    "\n",
    "-  Tabular representation (lack of indices)\n",
    "-  In-memory analytics (current API not very Pythonic)\n",
    "-  Lack of friendly user interface for Linear Algebra operations"
   ]
  },
  {
   "cell_type": "markdown",
   "id": "05fbc5d4",
   "metadata": {
    "slideshow": {
     "slide_type": "slide"
    }
   },
   "source": [
    "# Compute Functions - Math functions "
   ]
  },
  {
   "cell_type": "code",
   "execution_count": 8,
   "id": "cb47a031",
   "metadata": {
    "slideshow": {
     "slide_type": "fragment"
    }
   },
   "outputs": [
    {
     "name": "stdout",
     "output_type": "stream",
     "text": [
      " batch[0] = <pyarrow.lib.Int32Array object at 0x7f5f3ba61b80>\n",
      "[\n",
      "  1,\n",
      "  2,\n",
      "  3,\n",
      "  4\n",
      "]\n",
      "\n",
      "a = <pyarrow.Int64Scalar: 10>\n",
      "b = <pyarrow.lib.Int32Array object at 0x7f5f3ba61940>\n",
      "[\n",
      "  1,\n",
      "  4,\n",
      "  9,\n",
      "  16\n",
      "]\n",
      "pc.add(batch[0], batch[0])=<pyarrow.lib.Int32Array object at 0x7f5f84230460>\n",
      "[\n",
      "  2,\n",
      "  4,\n",
      "  6,\n",
      "  8\n",
      "]\n"
     ]
    }
   ],
   "source": [
    "import pyarrow.compute as pc\n",
    "print(f'{ batch[0] = }\\n')\n",
    "a = pc.sum(batch[0])\n",
    "print(f'{a = }')\n",
    "\n",
    "b = pc.multiply(batch[0], batch[0])\n",
    "print(f'{b = }')\n",
    "\n",
    "print(f'{pc.add(batch[0], batch[0])=}')"
   ]
  },
  {
   "cell_type": "markdown",
   "id": "395d54e2",
   "metadata": {
    "slideshow": {
     "slide_type": "slide"
    }
   },
   "source": [
    "# Compute Functions - Containment"
   ]
  },
  {
   "cell_type": "code",
   "execution_count": 10,
   "id": "59c27ef2",
   "metadata": {
    "slideshow": {
     "slide_type": "fragment"
    }
   },
   "outputs": [
    {
     "name": "stdout",
     "output_type": "stream",
     "text": [
      "batch[0] = <pyarrow.lib.Int32Array object at 0x7f5f3ba61c40>\n",
      "[\n",
      "  1,\n",
      "  2,\n",
      "  3,\n",
      "  4\n",
      "]\n",
      "\n",
      "pc.equal(batch[0], 2)=<pyarrow.lib.BooleanArray object at 0x7f5f3ba61ac0>\n",
      "[\n",
      "  false,\n",
      "  true,\n",
      "  false,\n",
      "  false\n",
      "]\n",
      "pc.is_in(batch[0], options=l) = <pyarrow.lib.BooleanArray object at 0x7f5f3ba61e20>\n",
      "[\n",
      "  false,\n",
      "  true,\n",
      "  false,\n",
      "  false\n",
      "]\n"
     ]
    }
   ],
   "source": [
    "print(f'{batch[0] = }\\n')\n",
    "print(f'{pc.equal(batch[0], 2)=}')\n",
    "\n",
    "l = pc.SetLookupOptions(value_set=pa.array([2]))\n",
    "print(f'{pc.is_in(batch[0], options=l) = }')"
   ]
  },
  {
   "cell_type": "markdown",
   "id": "e7659a78",
   "metadata": {
    "slideshow": {
     "slide_type": "slide"
    }
   },
   "source": [
    "# Rich Data Types (Structs/Union/Dictionary)"
   ]
  },
  {
   "cell_type": "code",
   "execution_count": 12,
   "id": "a1e626d8",
   "metadata": {
    "slideshow": {
     "slide_type": "fragment"
    }
   },
   "outputs": [
    {
     "data": {
      "text/plain": [
       "StructType(struct<security_id: int32, price: double, is_active: bool>)"
      ]
     },
     "execution_count": 12,
     "metadata": {},
     "output_type": "execute_result"
    }
   ],
   "source": [
    "f1 = pa.field('security_id', pa.int32())\n",
    "f2 = pa.field('price', pa.float64())\n",
    "f3 = pa.field('is_active', pa.bool_())\n",
    "\n",
    "new_struct =  pa.struct([f1, f2, f3])\n",
    "\n",
    "new_struct\n"
   ]
  },
  {
   "cell_type": "code",
   "execution_count": 16,
   "id": "733cd701",
   "metadata": {
    "slideshow": {
     "slide_type": "subslide"
    }
   },
   "outputs": [
    {
     "name": "stdout",
     "output_type": "stream",
     "text": [
      "-- is_valid: all not null\n",
      "-- child 0 type: int32\n",
      "  [\n",
      "    1,\n",
      "    2\n",
      "  ]\n",
      "-- child 1 type: double\n",
      "  [\n",
      "    100,\n",
      "    200\n",
      "  ]\n",
      "-- child 2 type: bool\n",
      "  [\n",
      "    true,\n",
      "    false\n",
      "  ]\n"
     ]
    }
   ],
   "source": [
    "f1 = pa.field('security_id', pa.int32())\n",
    "f2 = pa.field('price', pa.float64())\n",
    "f3 = pa.field('is_active', pa.bool_())\n",
    "\n",
    "new_struct =  pa.struct([f1, f2, f3])\n",
    "\n",
    "row = pa.array([(1, 100, True), (2, 200., False)], type=new_struct)\n",
    "print(row)"
   ]
  },
  {
   "cell_type": "markdown",
   "id": "6d39eaff",
   "metadata": {
    "slideshow": {
     "slide_type": "slide"
    }
   },
   "source": [
    "# Other related topics\n",
    "\n",
    "-  Plasma store (sharing memory across processes)\n",
    "-  Ray (similar to Plasma, but Python specific) \n",
    "-  Parquet and its relationship to Apache arrow\n"
   ]
  },
  {
   "cell_type": "markdown",
   "id": "0617f56f",
   "metadata": {
    "slideshow": {
     "slide_type": "slide"
    }
   },
   "source": [
    "# Other Resources (for Performance Metrics)\n",
    "\n",
    "1. Ray - https://arrow.apache.org/blog/2017/10/15/fast-python-serialization-with-ray-and-arrow/\n",
    "2. Parquet - - https://stackoverflow.com/questions/48083405/what-are-the-differences-between-feather-and-parquet\n",
    "3. Flight vs Parquet - https://ursalabs.org/blog/2020-feather-v2/"
   ]
  },
  {
   "cell_type": "markdown",
   "id": "b46d4e2b",
   "metadata": {
    "slideshow": {
     "slide_type": "slide"
    }
   },
   "source": [
    "References\n",
    "\n",
    "[apache-arrow-java] - (https://www.infoq.com/articles/apache-arrow-java/)\n",
    "\n",
    "[pyarrow - Official Site] - (https://arrow.apache.org/docs/python/index.html)\n",
    "\n",
    "[Apache Arrow and the Future of Data Frames\" with Wes McKinney (2020)] - (https://www.youtube.com/watch?v=fyj4FyH3XdU)\n",
    "\n",
    "[Apache Arrow - In Theory and Practice (2020)] - (https://www.youtube.com/watch?v=SFnkSReEjlk)\n",
    "\n",
    "[Dremel (some ideas of Apache Arrow from here)]- (https://research.google/pubs/pub36632/)\n"
   ]
  },
  {
   "cell_type": "markdown",
   "id": "4b739153",
   "metadata": {
    "slideshow": {
     "slide_type": "slide"
    }
   },
   "source": [
    "# Thank You!\n",
    "\n",
    "Presentation/Tests Available at:\n",
    "\n",
    "https://github.com/gdevanla/learn-pyarrow"
   ]
  }
 ],
 "metadata": {
  "celltoolbar": "Slideshow",
  "kernelspec": {
   "display_name": "Python 3",
   "language": "python",
   "name": "python3"
  },
  "language_info": {
   "codemirror_mode": {
    "name": "ipython",
    "version": 3
   },
   "file_extension": ".py",
   "mimetype": "text/x-python",
   "name": "python",
   "nbconvert_exporter": "python",
   "pygments_lexer": "ipython3",
   "version": "3.8.3"
  }
 },
 "nbformat": 4,
 "nbformat_minor": 5
}
