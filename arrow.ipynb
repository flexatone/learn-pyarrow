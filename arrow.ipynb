{
 "cells": [
  {
   "cell_type": "markdown",
   "id": "f2da0cb9",
   "metadata": {},
   "source": [
    "# Apache Arrow\n",
    "\n",
    "-  Development platform for in-memory analytics\n",
    "-  Process and move data faster\n",
    "-  Standarized language indepedent columnar format for flat and hierarchical data\n",
    "-  Zero-copy shared memory and RPC-based data movement\n",
    "\n",
    "\n",
    "- Show Arrow picture\n",
    "     https://www.tutorialandexample.com/wp-content/uploads/2019/06/Introduction-to-Apache-Arrow.png\n",
    "     \n",
    "     \n",
    "References:\n",
    "\n",
    "https://arrow.apache.org/docs/index.html\n",
    "     "
   ]
  },
  {
   "cell_type": "markdown",
   "id": "27c4ad49",
   "metadata": {},
   "source": [
    "# Arrow Columnar Format\n",
    "\n",
    "- Language agnostic in-memory data structure\n",
    "\n",
    "- Data adjacency for sequential access\n",
    "- Constant Random Access\n",
    "- SIMD and vectorization friendly\n",
    "- 'Pointer-Swizling' avoided resulting in zero-copy access in share memory\n",
    "\n",
    "Source:\n",
    "    https://arrow.apache.org/docs/format/Columnar.html"
   ]
  },
  {
   "cell_type": "markdown",
   "id": "fd161593",
   "metadata": {},
   "source": [
    "# PyArrow\n",
    "\n",
    "- Memory Management\n",
    "- Data Types \n",
    "- Compute Functions\n",
    "- Plasma In-memory Object store\n",
    "- Numpy Integration\n",
    "- Pandas Integration\n",
    "\n",
    "- Parquet and Arrow\n"
   ]
  },
  {
   "cell_type": "markdown",
   "id": "4c8d33c2",
   "metadata": {},
   "source": [
    "# Memory management\n",
    "\n",
    "-  Buffer \n",
    "-  Memory Pools\n",
    "-  Input/Output Streams\n",
    "-  On-Disk and Memory mapping Files"
   ]
  },
  {
   "cell_type": "markdown",
   "id": "65970906",
   "metadata": {},
   "source": [
    "# Memory View and Buffer protocol\n",
    "\n",
    "- Buffer protocol provides access to internal representation of memory\n",
    "- MemoryView is a mechanism to access this internal mechanism from Python land.\n",
    "- Let's look at some examples\n",
    "\n"
   ]
  },
  {
   "cell_type": "code",
   "execution_count": 2,
   "id": "b8493d97",
   "metadata": {},
   "outputs": [
    {
     "data": {
      "text/plain": [
       "b'hello world'"
      ]
     },
     "execution_count": 2,
     "metadata": {},
     "output_type": "execute_result"
    }
   ],
   "source": [
    "data = b'hello world'\n",
    "m = memoryview(data)\n",
    "m.obj\n"
   ]
  },
  {
   "cell_type": "code",
   "execution_count": 3,
   "id": "113189e7",
   "metadata": {},
   "outputs": [
    {
     "name": "stdout",
     "output_type": "stream",
     "text": [
      "m[0]=104, bytes(m[0:1])=b'h'\n"
     ]
    }
   ],
   "source": [
    "print(f'{m[0]=}, {bytes(m[0:1])=}')"
   ]
  },
  {
   "cell_type": "code",
   "execution_count": 4,
   "id": "45d58eba",
   "metadata": {},
   "outputs": [
    {
     "name": "stdout",
     "output_type": "stream",
     "text": [
      "m[-1]=104\n",
      "data after update = bytearray(b'abcefgH')\n",
      "b'fgH'\n"
     ]
    }
   ],
   "source": [
    "# mutate memory view\n",
    "data = bytearray('abcefgh', encoding='utf-8')\n",
    "m = memoryview(data)\n",
    "print(f'{m[-1]=}')\n",
    "\n",
    "# some assignments\n",
    "k = m[-3:]  # a slice of memory view is a zero-copy\n",
    "m[-1] = 72 # capital H\n",
    "\n",
    "print(f'data after update = {data}')\n",
    "\n",
    "print(bytes(k))"
   ]
  },
  {
   "cell_type": "code",
   "execution_count": 5,
   "id": "3c973e7a",
   "metadata": {},
   "outputs": [
    {
     "data": {
      "text/plain": [
       "<function Buffer.to_pybytes>"
      ]
     },
     "execution_count": 5,
     "metadata": {},
     "output_type": "execute_result"
    }
   ],
   "source": [
    "# Pyarrow.buffer\n",
    "\n",
    "import pyarrow as pa\n",
    "\n",
    "data = b'abcdefgh'\n",
    "data_buffer = pa.py_buffer(data)\n",
    "\n",
    "z = data_buffer[-3:]\n",
    "z.to_pybytes"
   ]
  },
  {
   "cell_type": "code",
   "execution_count": 6,
   "id": "604907b9",
   "metadata": {},
   "outputs": [
    {
     "name": "stdout",
     "output_type": "stream",
     "text": [
      "4032\n"
     ]
    },
    {
     "data": {
      "text/plain": [
       "<pyarrow.lib.Buffer at 0x7fd110b8f5b0>"
      ]
     },
     "execution_count": 6,
     "metadata": {},
     "output_type": "execute_result"
    }
   ],
   "source": [
    "# Memory managed in Memory Pools\n",
    "\n",
    "new_buffer = pa.allocate_buffer(4000)\n",
    "print(pa.total_allocated_bytes())\n",
    "\n",
    "new_buffer\n",
    "\n",
    "#new_buffer[0] = None # Does not support assignment"
   ]
  },
  {
   "cell_type": "code",
   "execution_count": 7,
   "id": "9413042b",
   "metadata": {},
   "outputs": [
    {
     "name": "stdout",
     "output_type": "stream",
     "text": [
      "b'hello'\n"
     ]
    }
   ],
   "source": [
    "# Reading/Writing to these buffers\n",
    "\n",
    "buffer_1 = memoryview(b\"hello world\")\n",
    "stream = pa.input_stream(buffer_1)\n",
    "print(stream.read(5))\n"
   ]
  },
  {
   "cell_type": "code",
   "execution_count": 8,
   "id": "40ad3716",
   "metadata": {},
   "outputs": [
    {
     "name": "stdout",
     "output_type": "stream",
     "text": [
      "Type of buffer= <class 'pyarrow.lib.Buffer'>\n"
     ]
    },
    {
     "data": {
      "text/plain": [
       "b' world'"
      ]
     },
     "execution_count": 8,
     "metadata": {},
     "output_type": "execute_result"
    }
   ],
   "source": [
    "# Reading/Writing To/From In-Memory Buffer\n",
    "\n",
    "write = pa.BufferOutputStream()\n",
    "write.write(b'hello world')\n",
    "\n",
    "# write.getvalue # Finalize output stream and return stream as buffer\n",
    "buffer = write.getvalue()\n",
    "\n",
    "print('Type of buffer=', type(buffer))\n",
    "\n",
    "reader = pa.BufferReader(buffer)\n",
    "reader.read_at(6, 5)\n",
    "\n",
    "# write.write(b'hello world, again') # not writing possible once read\n",
    "\n"
   ]
  },
  {
   "cell_type": "markdown",
   "id": "b4b5efb8",
   "metadata": {},
   "source": [
    "# Data Types and In-Memory Data Model\n",
    "\n",
    "-  Columnar data structures = type meta-data + memory buffers\n",
    "-  pyarrow.DataType\n",
    "-  pyarrow.Schema - collections of pyarrow.DataType\n",
    "-  pyarrow.Arrays - atomic, contiguous columnar data structures composed from arrow buffer objects\n",
    "-  pyarrow.RecordBatch - collection of ArrayObjects of a particular schema\n",
    "-  pyarrow.Table  - Each column consists of pyarrow.Array\n",
    "\n",
    "\n"
   ]
  },
  {
   "cell_type": "markdown",
   "id": "a2e6f224",
   "metadata": {},
   "source": [
    "# Supported Types (Richer than what you store in Pandas/Numpy)\n",
    "\n",
    "-  Fixed-length primitives - number, floats, timestamp etc\n",
    "-  Variable-lenght primitives (strings)\n",
    "-  Nested-Types (list, struct, union)\n",
    "-  Dictionary types ( we wont cover this)\n",
    "  \n",
    " "
   ]
  },
  {
   "cell_type": "code",
   "execution_count": 9,
   "id": "eee97515",
   "metadata": {},
   "outputs": [
    {
     "name": "stdout",
     "output_type": "stream",
     "text": [
      "int32\n",
      "double\n"
     ]
    }
   ],
   "source": [
    "# Examples of types\n",
    "\n",
    "print(pa.int32())\n",
    "print(pa.float64())"
   ]
  },
  {
   "cell_type": "code",
   "execution_count": 10,
   "id": "df105102",
   "metadata": {},
   "outputs": [],
   "source": [
    "# Using these types - Define Fields\n",
    "\n",
    "\n",
    "# Types used to define schema (metadata)\n",
    "\n",
    "f1 = pa.field('country_count', pa.int32())\n",
    "\n"
   ]
  },
  {
   "cell_type": "code",
   "execution_count": 11,
   "id": "b971a2c4",
   "metadata": {},
   "outputs": [
    {
     "data": {
      "text/plain": [
       "StructType(struct<idbbunique: int32, price: double, data_date: date64[ms]>)"
      ]
     },
     "execution_count": 11,
     "metadata": {},
     "output_type": "execute_result"
    }
   ],
   "source": [
    "# Define collection of fields as structs\n",
    "\n",
    "f1 = pa.field('idbbunique', pa.int32())\n",
    "f2 = pa.field('price', pa.float64())\n",
    "f3 = pa.field('data_date', pa.date64())\n",
    "# Add nested lists?\n",
    "\n",
    "new_struct =  pa.struct([f1, f2, f3])\n",
    "\n",
    "new_struct\n"
   ]
  },
  {
   "cell_type": "code",
   "execution_count": 12,
   "id": "3a784e67",
   "metadata": {},
   "outputs": [
    {
     "data": {
      "text/plain": [
       "idbb_unique: int32\n",
       "price: double\n",
       "data_data: date64[ms]"
      ]
     },
     "execution_count": 12,
     "metadata": {},
     "output_type": "execute_result"
    }
   ],
   "source": [
    "# One can also define Schemas (to be used with Table/Record Batch)\n",
    "\n",
    "schema = pa.schema([('idbb_unique', pa.int32()), ('price', pa.float64()), ('data_data', pa.date64())])\n",
    "schema\n",
    "\n",
    "# schema's can also have nested structures\n",
    "\n"
   ]
  },
  {
   "cell_type": "code",
   "execution_count": 13,
   "id": "54461fb4",
   "metadata": {},
   "outputs": [
    {
     "name": "stdout",
     "output_type": "stream",
     "text": [
      "int_arr=<pyarrow.lib.UInt32Array object at 0x7fd10a4faf40>\n",
      "[\n",
      "  100,\n",
      "  200,\n",
      "  300,\n",
      "  null\n",
      "]\n",
      "float_arr=<pyarrow.lib.DoubleArray object at 0x7fd10a4fafa0>\n",
      "[\n",
      "  100.1,\n",
      "  200,\n",
      "  300,\n",
      "  null\n",
      "]\n",
      "float_arr[-1]=<pyarrow.DoubleScalar: None>\n"
     ]
    },
    {
     "data": {
      "text/plain": [
       "1"
      ]
     },
     "execution_count": 13,
     "metadata": {},
     "output_type": "execute_result"
    }
   ],
   "source": [
    "int_arr = pa.array([100, 200, 300, None], type=pa.uint32())\n",
    "print(f'{int_arr=}')\n",
    "\n",
    "float_arr = pa.array([100.1, 200.0, 300.0, None])\n",
    "print(f'{float_arr=}')\n",
    "\n",
    "# check out the NULLs\n",
    "print(f'{float_arr[-1]=}')\n",
    "\n",
    "float_arr.null_count"
   ]
  },
  {
   "cell_type": "code",
   "execution_count": 14,
   "id": "a21f882f",
   "metadata": {},
   "outputs": [
    {
     "data": {
      "text/plain": [
       "<pyarrow.lib.DoubleArray object at 0x7fd110ae6ee0>\n",
       "[\n",
       "  200,\n",
       "  300\n",
       "]"
      ]
     },
     "execution_count": 14,
     "metadata": {},
     "output_type": "execute_result"
    }
   ],
   "source": [
    "# Slicing is zero-copy operation, since Array's are readonly\n",
    "\n",
    "float_arr[1:3]"
   ]
  },
  {
   "cell_type": "markdown",
   "id": "128bcb2b",
   "metadata": {},
   "source": [
    "# Time to talk about None and Nans!"
   ]
  },
  {
   "cell_type": "code",
   "execution_count": 15,
   "id": "fbfcc02b",
   "metadata": {},
   "outputs": [
    {
     "data": {
      "text/plain": [
       "False"
      ]
     },
     "execution_count": 15,
     "metadata": {},
     "output_type": "execute_result"
    }
   ],
   "source": [
    "x = int_arr[-1]\n",
    "\n",
    "x.is_valid\n"
   ]
  },
  {
   "cell_type": "markdown",
   "id": "4c338e52",
   "metadata": {},
   "source": [
    "# Union/Category\n"
   ]
  },
  {
   "cell_type": "markdown",
   "id": "929a5694",
   "metadata": {},
   "source": [
    "# Record Batches\n",
    "\n",
    "- Collection of equal length array instances\n",
    "- Remember (arrays are just contiguous elements of primitives, structs, unions)\n"
   ]
  },
  {
   "cell_type": "code",
   "execution_count": 16,
   "id": "ad72fbca",
   "metadata": {},
   "outputs": [
    {
     "name": "stdout",
     "output_type": "stream",
     "text": [
      "batch.num_columns=3, batch.num_rows=4, batch.schema=f0: int64\n",
      "f1: string\n",
      "f2: bool, [\n",
      "  \"foo\",\n",
      "  \"bar\",\n",
      "  \"baz\",\n",
      "  null\n",
      "]\n"
     ]
    }
   ],
   "source": [
    "# all elements should be of same length\n",
    "data = [\n",
    "    pa.array([1,2,3,4]),\n",
    "    pa.array(['foo', 'bar','baz', None]),\n",
    "    pa.array([True, None, False, True])\n",
    "]\n",
    "batch = pa.RecordBatch.from_arrays(data, ['f0', 'f1', 'f2'])\n",
    "\n",
    "\n",
    "\n",
    "print(f'{batch.num_columns=}, {batch.num_rows=}, {batch.schema=}, {batch[1]}')\n"
   ]
  },
  {
   "cell_type": "markdown",
   "id": "161e7ff7",
   "metadata": {},
   "source": [
    "# Slicing into Record Batches\n",
    "\n",
    "-  Zero-copy!"
   ]
  },
  {
   "cell_type": "code",
   "execution_count": 17,
   "id": "1ddfadd3",
   "metadata": {},
   "outputs": [
    {
     "name": "stdout",
     "output_type": "stream",
     "text": [
      "batch[0:2][1]=<pyarrow.lib.StringArray object at 0x7fd10a2829a0>\n",
      "[\n",
      "  \"foo\",\n",
      "  \"bar\"\n",
      "], batch[0:2][0]=<pyarrow.lib.Int64Array object at 0x7fd10a2829a0>\n",
      "[\n",
      "  1,\n",
      "  2\n",
      "]\n"
     ]
    }
   ],
   "source": [
    "print(f'{batch[0:2][1]=}, {batch[0:2][0]=}')"
   ]
  },
  {
   "cell_type": "markdown",
   "id": "7705c565",
   "metadata": {},
   "source": [
    "# Tables\n",
    "\n",
    "- Grouping RecordBatches into one logical unit\n",
    "- Needed so that record-batches arriving from different processes need not be copied/reorganized again"
   ]
  },
  {
   "cell_type": "code",
   "execution_count": 18,
   "id": "2eec4110",
   "metadata": {},
   "outputs": [
    {
     "data": {
      "text/plain": [
       "<pyarrow.lib.ChunkedArray object at 0x7fd110aee9a0>\n",
       "[\n",
       "  [\n",
       "    1,\n",
       "    2,\n",
       "    3,\n",
       "    4\n",
       "  ],\n",
       "  [\n",
       "    1,\n",
       "    2,\n",
       "    3,\n",
       "    4\n",
       "  ],\n",
       "  [\n",
       "    1,\n",
       "    2,\n",
       "    3,\n",
       "    4\n",
       "  ],\n",
       "  [\n",
       "    1,\n",
       "    2,\n",
       "    3,\n",
       "    4\n",
       "  ],\n",
       "  [\n",
       "    1,\n",
       "    2,\n",
       "    3,\n",
       "    4\n",
       "  ]\n",
       "]"
      ]
     },
     "execution_count": 18,
     "metadata": {},
     "output_type": "execute_result"
    }
   ],
   "source": [
    "batches = [batch] * 5\n",
    "table = pa.Table.from_batches(batches)\n",
    "\n",
    "table[0]"
   ]
  },
  {
   "cell_type": "code",
   "execution_count": 19,
   "id": "1b268c26",
   "metadata": {},
   "outputs": [
    {
     "data": {
      "text/plain": [
       "<pyarrow.lib.ChunkedArray object at 0x7fd10a289c70>\n",
       "[\n",
       "  [\n",
       "    1,\n",
       "    2,\n",
       "    3,\n",
       "    4\n",
       "  ],\n",
       "  [\n",
       "    1,\n",
       "    2,\n",
       "    3,\n",
       "    4\n",
       "  ],\n",
       "  [\n",
       "    1,\n",
       "    2,\n",
       "    3,\n",
       "    4\n",
       "  ],\n",
       "  [\n",
       "    1,\n",
       "    2,\n",
       "    3,\n",
       "    4\n",
       "  ],\n",
       "  [\n",
       "    1,\n",
       "    2,\n",
       "    3,\n",
       "    4\n",
       "  ],\n",
       "  [\n",
       "    1,\n",
       "    2,\n",
       "    3,\n",
       "    4\n",
       "  ],\n",
       "  [\n",
       "    1,\n",
       "    2,\n",
       "    3,\n",
       "    4\n",
       "  ],\n",
       "  [\n",
       "    1,\n",
       "    2,\n",
       "    3,\n",
       "    4\n",
       "  ],\n",
       "  [\n",
       "    1,\n",
       "    2,\n",
       "    3,\n",
       "    4\n",
       "  ],\n",
       "  [\n",
       "    1,\n",
       "    2,\n",
       "    3,\n",
       "    4\n",
       "  ]\n",
       "]"
      ]
     },
     "execution_count": 19,
     "metadata": {},
     "output_type": "execute_result"
    }
   ],
   "source": [
    "table_1 = [table]*2\n",
    "\n",
    "table_all = pa.concat_tables(table_1)\n",
    "table_all[0]"
   ]
  },
  {
   "cell_type": "code",
   "execution_count": 21,
   "id": "fac8ef64",
   "metadata": {},
   "outputs": [],
   "source": [
    "# Nested columns\n",
    "# all elements should be of same length\n",
    "\n",
    "a = pa.array([1,2,3,4], type=pa.uint16())"
   ]
  },
  {
   "cell_type": "code",
   "execution_count": null,
   "id": "6c3f30ca",
   "metadata": {},
   "outputs": [],
   "source": [
    "# Numpy Integration\n"
   ]
  },
  {
   "cell_type": "code",
   "execution_count": null,
   "id": "eea1017e",
   "metadata": {},
   "outputs": [],
   "source": [
    "# Pandas Frame Vs Arrow Table\n",
    "\n",
    "- Both needs columns to be of same length\n",
    "- Columns (arrays in Arrow) can have nested types like struct etc (first class objects)\n",
    "-  "
   ]
  },
  {
   "cell_type": "code",
   "execution_count": null,
   "id": "587712bf",
   "metadata": {},
   "outputs": [],
   "source": [
    "# The plasma in-memory data store"
   ]
  },
  {
   "cell_type": "code",
   "execution_count": null,
   "id": "d90e2ada",
   "metadata": {},
   "outputs": [],
   "source": [
    "# relationship to Parquet"
   ]
  },
  {
   "cell_type": "code",
   "execution_count": null,
   "id": "f20c24cf",
   "metadata": {},
   "outputs": [],
   "source": [
    "# More examples"
   ]
  },
  {
   "cell_type": "code",
   "execution_count": 22,
   "id": "14fe5868",
   "metadata": {},
   "outputs": [
    {
     "data": {
      "text/html": [
       "<div>\n",
       "<style scoped>\n",
       "    .dataframe tbody tr th:only-of-type {\n",
       "        vertical-align: middle;\n",
       "    }\n",
       "\n",
       "    .dataframe tbody tr th {\n",
       "        vertical-align: top;\n",
       "    }\n",
       "\n",
       "    .dataframe thead th {\n",
       "        text-align: right;\n",
       "    }\n",
       "</style>\n",
       "<table border=\"1\" class=\"dataframe\">\n",
       "  <thead>\n",
       "    <tr style=\"text-align: right;\">\n",
       "      <th></th>\n",
       "      <th>f0</th>\n",
       "    </tr>\n",
       "  </thead>\n",
       "  <tbody>\n",
       "    <tr>\n",
       "      <th>0</th>\n",
       "      <td>1000</td>\n",
       "    </tr>\n",
       "    <tr>\n",
       "      <th>1</th>\n",
       "      <td>2</td>\n",
       "    </tr>\n",
       "    <tr>\n",
       "      <th>2</th>\n",
       "      <td>3</td>\n",
       "    </tr>\n",
       "    <tr>\n",
       "      <th>3</th>\n",
       "      <td>4</td>\n",
       "    </tr>\n",
       "    <tr>\n",
       "      <th>4</th>\n",
       "      <td>1</td>\n",
       "    </tr>\n",
       "    <tr>\n",
       "      <th>5</th>\n",
       "      <td>2</td>\n",
       "    </tr>\n",
       "    <tr>\n",
       "      <th>6</th>\n",
       "      <td>3</td>\n",
       "    </tr>\n",
       "    <tr>\n",
       "      <th>7</th>\n",
       "      <td>4</td>\n",
       "    </tr>\n",
       "  </tbody>\n",
       "</table>\n",
       "</div>"
      ],
      "text/plain": [
       "     f0\n",
       "0  1000\n",
       "1     2\n",
       "2     3\n",
       "3     4\n",
       "4     1\n",
       "5     2\n",
       "6     3\n",
       "7     4"
      ]
     },
     "execution_count": 22,
     "metadata": {},
     "output_type": "execute_result"
    }
   ],
   "source": [
    "# all elements should be of same length\n",
    "data = [\n",
    "    pa.array([1,2,3,4]),\n",
    "    #pa.array(['foo', 'bar','baz', None]),\n",
    "    #pa.array([True, None, False, True])\n",
    "]\n",
    "batch = pa.RecordBatch.from_arrays(data, ['f0']) # 'f1', 'f2'])\n",
    "\n",
    "table = pa.Table.from_batches([batch]*2)\n",
    "\n",
    "df = table.to_pandas(split_blocks=True, self_destruct=True)\n",
    "df.loc[0, 'f0'] = 1000\n",
    "\n",
    "df\n",
    "\n"
   ]
  },
  {
   "cell_type": "code",
   "execution_count": 63,
   "id": "34c35854",
   "metadata": {},
   "outputs": [
    {
     "name": "stdout",
     "output_type": "stream",
     "text": [
      "[\n",
      "  1,\n",
      "  4,\n",
      "  9,\n",
      "  16\n",
      "]\n"
     ]
    },
    {
     "data": {
      "text/plain": [
       "<pyarrow.Int64Scalar: 1>"
      ]
     },
     "execution_count": 63,
     "metadata": {},
     "output_type": "execute_result"
    }
   ],
   "source": [
    "import pyarrow.compute as pc\n",
    "a = pc.sum(batch[0])\n",
    "\n",
    "b = pc.multiply(batch[0], batch[0])\n",
    "print(b)\n",
    "\n",
    "pc.add(batch[0], batch[0])\n",
    "\n",
    "pc.equal(batch[0],1)\n",
    "\n",
    "l = pc.SetLookupOptions(value_set=pa.array([1]))\n",
    "            \n",
    "pc.is_in(data[0], options=l)\n",
    "\n",
    "pa.scalar(1)\n",
    "           "
   ]
  },
  {
   "cell_type": "markdown",
   "id": "229a7315",
   "metadata": {},
   "source": [
    "# Feather vs Parquet\n",
    "\n",
    "- https://stackoverflow.com/questions/48083405/what-are-the-differences-between-feather-and-parquet"
   ]
  },
  {
   "cell_type": "code",
   "execution_count": 81,
   "id": "98bebfb0",
   "metadata": {},
   "outputs": [
    {
     "data": {
      "text/html": [
       "<div>\n",
       "<style scoped>\n",
       "    .dataframe tbody tr th:only-of-type {\n",
       "        vertical-align: middle;\n",
       "    }\n",
       "\n",
       "    .dataframe tbody tr th {\n",
       "        vertical-align: top;\n",
       "    }\n",
       "\n",
       "    .dataframe thead th {\n",
       "        text-align: right;\n",
       "    }\n",
       "</style>\n",
       "<table border=\"1\" class=\"dataframe\">\n",
       "  <thead>\n",
       "    <tr style=\"text-align: right;\">\n",
       "      <th></th>\n",
       "      <th>sec1</th>\n",
       "      <th>sec2</th>\n",
       "      <th>sec3</th>\n",
       "    </tr>\n",
       "  </thead>\n",
       "  <tbody>\n",
       "    <tr>\n",
       "      <th>0</th>\n",
       "      <td>0.009901</td>\n",
       "      <td>0.009901</td>\n",
       "      <td>0.009901</td>\n",
       "    </tr>\n",
       "    <tr>\n",
       "      <th>1</th>\n",
       "      <td>-0.029412</td>\n",
       "      <td>-0.029412</td>\n",
       "      <td>-0.029412</td>\n",
       "    </tr>\n",
       "  </tbody>\n",
       "</table>\n",
       "</div>"
      ],
      "text/plain": [
       "       sec1      sec2      sec3\n",
       "0  0.009901  0.009901  0.009901\n",
       "1 -0.029412 -0.029412 -0.029412"
      ]
     },
     "execution_count": 81,
     "metadata": {},
     "output_type": "execute_result"
    }
   ],
   "source": [
    "# Example\n",
    "\n",
    "schema = pa.schema([('sec1', pa.float64()),\n",
    "                    ('sec2', pa.float64()),\n",
    "                    ('sec3', pa.float64())])\n",
    "\n",
    "data = [pa.array([101, 102, 99]),\n",
    "        pa.array([201, 200, 195]),\n",
    "        pa.array([10, 20, 15])\n",
    "       ]\n",
    "\n",
    "batch = pa.RecordBatch.from_arrays(data, schema=schema)\n",
    "\n",
    "batch\n",
    "\n",
    "\n",
    "def compute_returns(old, new):\n",
    "        import pyarrow.compute as pc\n",
    "        return pc.subtract(pc.divide(new, old),1)\n",
    "        \n",
    "returns = []\n",
    "for i in range(batch.num_columns):\n",
    "    price = batch[0]\n",
    "    price1 = price[:-1]\n",
    "    price2 = price[1:]\n",
    "    z = compute_returns(price1, price2)\n",
    "    returns.append(z)\n",
    "    \n",
    "returns_table = pa.RecordBatch.from_arrays(returns, schema=schema)\n",
    "\n",
    "\n",
    "returns_table.to_pandas()"
   ]
  },
  {
   "cell_type": "markdown",
   "id": "ded6a8b5",
   "metadata": {},
   "source": [
    "https://arrow.apache.org/blog/2017/10/15/fast-python-serialization-with-ray-and-arrow/"
   ]
  },
  {
   "cell_type": "code",
   "execution_count": null,
   "id": "33e9248f",
   "metadata": {},
   "outputs": [],
   "source": []
  },
  {
   "cell_type": "code",
   "execution_count": null,
   "id": "b7255ac1",
   "metadata": {},
   "outputs": [],
   "source": []
  },
  {
   "cell_type": "code",
   "execution_count": null,
   "id": "1a4d5490",
   "metadata": {},
   "outputs": [],
   "source": []
  },
  {
   "cell_type": "code",
   "execution_count": null,
   "id": "6408ef2e",
   "metadata": {},
   "outputs": [],
   "source": []
  },
  {
   "cell_type": "code",
   "execution_count": null,
   "id": "8c6d0956",
   "metadata": {},
   "outputs": [],
   "source": []
  },
  {
   "cell_type": "code",
   "execution_count": null,
   "id": "0a4c4110",
   "metadata": {},
   "outputs": [],
   "source": []
  },
  {
   "cell_type": "code",
   "execution_count": null,
   "id": "4299d0f3",
   "metadata": {},
   "outputs": [],
   "source": []
  },
  {
   "cell_type": "code",
   "execution_count": null,
   "id": "7a692685",
   "metadata": {},
   "outputs": [],
   "source": []
  },
  {
   "cell_type": "code",
   "execution_count": null,
   "id": "57f3adf0",
   "metadata": {},
   "outputs": [],
   "source": []
  },
  {
   "cell_type": "code",
   "execution_count": null,
   "id": "d7a1a389",
   "metadata": {},
   "outputs": [],
   "source": []
  },
  {
   "cell_type": "code",
   "execution_count": null,
   "id": "a1fb54e9",
   "metadata": {},
   "outputs": [],
   "source": []
  },
  {
   "cell_type": "code",
   "execution_count": null,
   "id": "968a1270",
   "metadata": {},
   "outputs": [],
   "source": []
  },
  {
   "cell_type": "code",
   "execution_count": null,
   "id": "80a0cf77",
   "metadata": {},
   "outputs": [],
   "source": []
  },
  {
   "cell_type": "code",
   "execution_count": null,
   "id": "e8609ab9",
   "metadata": {},
   "outputs": [],
   "source": []
  }
 ],
 "metadata": {
  "kernelspec": {
   "display_name": "Python 3",
   "language": "python",
   "name": "python3"
  },
  "language_info": {
   "codemirror_mode": {
    "name": "ipython",
    "version": 3
   },
   "file_extension": ".py",
   "mimetype": "text/x-python",
   "name": "python",
   "nbconvert_exporter": "python",
   "pygments_lexer": "ipython3",
   "version": "3.8.3"
  }
 },
 "nbformat": 4,
 "nbformat_minor": 5
}
