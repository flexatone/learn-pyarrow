{
 "cells": [
  {
   "cell_type": "markdown",
   "id": "b69c72bf",
   "metadata": {},
   "source": [
    "# Apache Arrow\n",
    "\n",
    "-  Development platform for in-memory analytics\n",
    "-  Process and move data faster\n",
    "-  Standarized language indepedent columnar format for flat and hierarchical data\n",
    "-  Zero-copy shared memory and RPC-based data movement\n",
    "\n",
    "\n",
    "- Show Arrow picture\n",
    "     https://www.tutorialandexample.com/wp-content/uploads/2019/06/Introduction-to-Apache-Arrow.png\n",
    "     \n",
    "     \n",
    "References:\n",
    "\n",
    "https://arrow.apache.org/docs/index.html\n",
    "     "
   ]
  },
  {
   "cell_type": "markdown",
   "id": "e204ca0c",
   "metadata": {},
   "source": [
    "# Arrow Columnar Format\n",
    "\n",
    "- Language agnostic in-memory data structure\n",
    "\n",
    "- Data adjacency for sequential access\n",
    "- Constant Random Access\n",
    "- SIMD and vectorization friendly\n",
    "- 'Pointer-Swizling' avoided resulting in zero-copy access in share memory\n",
    "\n",
    "Source:\n",
    "    https://arrow.apache.org/docs/format/Columnar.html"
   ]
  },
  {
   "cell_type": "markdown",
   "id": "7399c35c",
   "metadata": {},
   "source": [
    "# PyArrow\n",
    "\n",
    "- Memory Management\n",
    "- Data Types \n",
    "- Compute Functions\n",
    "- Plasma In-memory Object store\n",
    "- Numpy Integration\n",
    "- Pandas Integration\n",
    "\n",
    "- Parquet and Arrow\n"
   ]
  },
  {
   "cell_type": "markdown",
   "id": "724b88c7",
   "metadata": {},
   "source": [
    "# Memory management\n",
    "\n",
    "-  Buffer \n",
    "-  Memory Pools\n",
    "-  Input/Output Streams\n",
    "-  On-Disk and Memory mapping Files"
   ]
  },
  {
   "cell_type": "markdown",
   "id": "b2c8b673",
   "metadata": {},
   "source": [
    "# Memory View and Buffer protocol\n",
    "\n",
    "- Buffer protocol provides access to internal representation of memory\n",
    "- MemoryView is a mechanism to access this internal mechanism from Python land.\n",
    "- Let's look at some examples\n",
    "\n"
   ]
  },
  {
   "cell_type": "code",
   "execution_count": 62,
   "id": "5b73b44f",
   "metadata": {},
   "outputs": [
    {
     "data": {
      "text/plain": [
       "b'hello world'"
      ]
     },
     "execution_count": 62,
     "metadata": {},
     "output_type": "execute_result"
    }
   ],
   "source": [
    "data = b'hello world'\n",
    "m = memoryview(data)\n",
    "m.obj\n"
   ]
  },
  {
   "cell_type": "code",
   "execution_count": 63,
   "id": "0a5d0793",
   "metadata": {},
   "outputs": [
    {
     "name": "stdout",
     "output_type": "stream",
     "text": [
      "m[0]=104, bytes(m[0:1])=b'h'\n"
     ]
    }
   ],
   "source": [
    "print(f'{m[0]=}, {bytes(m[0:1])=}')"
   ]
  },
  {
   "cell_type": "code",
   "execution_count": 67,
   "id": "7eefb4bd",
   "metadata": {},
   "outputs": [
    {
     "name": "stdout",
     "output_type": "stream",
     "text": [
      "m[-1]=104\n",
      "data after update = bytearray(b'abcefgH')\n",
      "b'fgH'\n"
     ]
    }
   ],
   "source": [
    "# mutate memory view\n",
    "data = bytearray('abcefgh', encoding='utf-8')\n",
    "m = memoryview(data)\n",
    "print(f'{m[-1]=}')\n",
    "\n",
    "# some assignments\n",
    "k = m[-3:]  # a slice of memory view is a zero-copy\n",
    "m[-1] = 72 # capital H\n",
    "\n",
    "print(f'data after update = {data}')\n",
    "\n",
    "print(bytes(k))"
   ]
  },
  {
   "cell_type": "code",
   "execution_count": 72,
   "id": "4648db4d",
   "metadata": {},
   "outputs": [
    {
     "name": "stdout",
     "output_type": "stream",
     "text": [
      "<pyarrow.lib.Buffer object at 0x7f047ac3bfb0>\n"
     ]
    }
   ],
   "source": [
    "# Pyarrow.buffer\n",
    "\n",
    "import pyarrow as pa\n",
    "\n",
    "data = b'abcdefgh'\n",
    "data_buffer = pa.py_buffer(data)\n",
    "\n",
    "z = data_buffer[-3:]\n",
    "z.to_pybytes"
   ]
  },
  {
   "cell_type": "code",
   "execution_count": null,
   "id": "5f946d71",
   "metadata": {},
   "outputs": [],
   "source": []
  }
 ],
 "metadata": {
  "kernelspec": {
   "display_name": "Python 3",
   "language": "python",
   "name": "python3"
  },
  "language_info": {
   "codemirror_mode": {
    "name": "ipython",
    "version": 3
   },
   "file_extension": ".py",
   "mimetype": "text/x-python",
   "name": "python",
   "nbconvert_exporter": "python",
   "pygments_lexer": "ipython3",
   "version": "3.8.3"
  }
 },
 "nbformat": 4,
 "nbformat_minor": 5
}
