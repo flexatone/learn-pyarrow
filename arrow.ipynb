{
 "cells": [
  {
   "cell_type": "markdown",
   "id": "423b2e68",
   "metadata": {},
   "source": [
    "# Apache Arrow\n",
    "\n",
    "-  Development platform for in-memory analytics\n",
    "-  Process and move data faster\n",
    "-  Standarized language indepedent columnar format for flat and hierarchical data\n",
    "-  Zero-copy shared memory and RPC-based data movement\n",
    "\n",
    "\n",
    "- Show Arrow picture\n",
    "     https://www.tutorialandexample.com/wp-content/uploads/2019/06/Introduction-to-Apache-Arrow.png\n",
    "     \n",
    "     \n",
    "References:\n",
    "\n",
    "https://arrow.apache.org/docs/index.html\n",
    "     "
   ]
  },
  {
   "cell_type": "markdown",
   "id": "f503f95c",
   "metadata": {},
   "source": [
    "# Arrow Columnar Format\n",
    "\n",
    "- Language agnostic in-memory data structure\n",
    "\n",
    "- Data adjacency for sequential access\n",
    "- Constant Random Access\n",
    "- SIMD and vectorization friendly\n",
    "- 'Pointer-Swizling' avoided resulting in zero-copy access in share memory\n",
    "\n",
    "Source:\n",
    "    https://arrow.apache.org/docs/format/Columnar.html"
   ]
  },
  {
   "cell_type": "markdown",
   "id": "062fd51e",
   "metadata": {},
   "source": [
    "# PyArrow\n",
    "\n",
    "- Memory Management\n",
    "- Data Types \n",
    "- Compute Functions\n",
    "- Plasma In-memory Object store\n",
    "- Numpy Integration\n",
    "- Pandas Integration\n",
    "\n",
    "- Parquet and Arrow\n"
   ]
  },
  {
   "cell_type": "markdown",
   "id": "f7dc4bdc",
   "metadata": {},
   "source": [
    "# Memory management\n",
    "\n",
    "-  Buffer \n",
    "-  Memory Pools\n",
    "-  Input/Output Streams\n",
    "-  On-Disk and Memory mapping Files"
   ]
  },
  {
   "cell_type": "markdown",
   "id": "9e71c2dd",
   "metadata": {},
   "source": [
    "# Memory View and Buffer protocol\n",
    "\n",
    "- Buffer protocol provides access to internal representation of memory\n",
    "- MemoryView is a mechanism to access this internal mechanism from Python land.\n",
    "- Let's look at some examples\n",
    "\n"
   ]
  },
  {
   "cell_type": "code",
   "execution_count": 1,
   "id": "782acdd9",
   "metadata": {},
   "outputs": [],
   "source": [
    "data = b'hello world'\n",
    "m = memoryview(data)\n",
    "m.obj\n"
   ]
  },
  {
   "cell_type": "code",
   "execution_count": 2,
   "id": "68a10f37",
   "metadata": {},
   "outputs": [],
   "source": [
    "print(f'{m[0]=}, {bytes(m[0:1])=}')"
   ]
  },
  {
   "cell_type": "code",
   "execution_count": 3,
   "id": "18d8a08d",
   "metadata": {},
   "outputs": [],
   "source": [
    "# mutate memory view\n",
    "data = bytearray('abcefgh', encoding='utf-8')\n",
    "m = memoryview(data)\n",
    "print(f'{m[-1]=}')\n",
    "\n",
    "# some assignments\n",
    "k = m[-3:]  # a slice of memory view is a zero-copy\n",
    "m[-1] = 72 # capital H\n",
    "\n",
    "print(f'data after update = {data}')\n",
    "\n",
    "print(bytes(k))"
   ]
  },
  {
   "cell_type": "code",
   "execution_count": 4,
   "id": "8ae9a733",
   "metadata": {},
   "outputs": [
    {
     "data": {
      "text/plain": [
       "<function Buffer.to_pybytes>"
      ]
     },
     "execution_count": 4,
     "metadata": {},
     "output_type": "execute_result"
    }
   ],
   "source": [
    "# Pyarrow.buffer\n",
    "\n",
    "import pyarrow as pa\n",
    "\n",
    "data = b'abcdefgh'\n",
    "data_buffer = pa.py_buffer(data)\n",
    "\n",
    "z = data_buffer[-3:]\n",
    "z.to_pybytes"
   ]
  },
  {
   "cell_type": "code",
   "execution_count": 5,
   "id": "a2fe26fd",
   "metadata": {},
   "outputs": [
    {
     "name": "stdout",
     "output_type": "stream",
     "text": [
      "4032\n"
     ]
    },
    {
     "data": {
      "text/plain": [
       "<pyarrow.lib.Buffer at 0x7f59104d58f0>"
      ]
     },
     "execution_count": 5,
     "metadata": {},
     "output_type": "execute_result"
    }
   ],
   "source": [
    "# Memory managed in Memory Pools\n",
    "\n",
    "new_buffer = pa.allocate_buffer(4000)\n",
    "print(pa.total_allocated_bytes())\n",
    "\n",
    "new_buffer\n",
    "\n",
    "#new_buffer[0] = None # Does not support assignment"
   ]
  },
  {
   "cell_type": "code",
   "execution_count": 6,
   "id": "2d40eda8",
   "metadata": {},
   "outputs": [
    {
     "name": "stdout",
     "output_type": "stream",
     "text": [
      "b'hello'\n"
     ]
    }
   ],
   "source": [
    "# Reading/Writing to these buffers\n",
    "\n",
    "buffer_1 = memoryview(b\"hello world\")\n",
    "stream = pa.input_stream(buffer_1)\n",
    "print(stream.read(5))\n"
   ]
  },
  {
   "cell_type": "code",
   "execution_count": 7,
   "id": "6b1350b2",
   "metadata": {},
   "outputs": [
    {
     "name": "stdout",
     "output_type": "stream",
     "text": [
      "Type of buffer= <class 'pyarrow.lib.Buffer'>\n"
     ]
    },
    {
     "data": {
      "text/plain": [
       "b' world'"
      ]
     },
     "execution_count": 7,
     "metadata": {},
     "output_type": "execute_result"
    }
   ],
   "source": [
    "# Reading/Writing To/From In-Memory Buffer\n",
    "\n",
    "write = pa.BufferOutputStream()\n",
    "write.write(b'hello world')\n",
    "\n",
    "# write.getvalue # Finalize output stream and return stream as buffer\n",
    "buffer = write.getvalue()\n",
    "\n",
    "print('Type of buffer=', type(buffer))\n",
    "\n",
    "reader = pa.BufferReader(buffer)\n",
    "reader.read_at(6, 5)\n",
    "\n",
    "# write.write(b'hello world, again') # not writing possible once read\n",
    "\n"
   ]
  },
  {
   "cell_type": "markdown",
   "id": "e205bba6",
   "metadata": {},
   "source": [
    "# Data Types and In-Memory Data Model\n",
    "\n",
    "-  Columnar data structures = type meta-data + memory buffers\n",
    "-  pyarrow.DataType\n",
    "-  pyarrow.Schema - collections of pyarrow.DataType\n",
    "-  pyarrow.Arrays - atomic, contiguous columnar data structures composed from arrow buffer objects\n",
    "-  pyarrow.RecordBatch - collection of ArrayObjects of a particular schema\n",
    "-  pyarrow.Table  - Each column consists of pyarrow.Array\n",
    "\n",
    "\n"
   ]
  },
  {
   "cell_type": "markdown",
   "id": "fefb2f8e",
   "metadata": {},
   "source": [
    "# Supported Types (Richer than what you store in Pandas/Numpy)\n",
    "\n",
    "-  Fixed-length primitives - number, floats, timestamp etc\n",
    "-  Variable-lenght primitives (strings)\n",
    "-  Nested-Types (list, struct, union)\n",
    "-  Dictionary types ( we wont cover this)\n",
    "  \n",
    " "
   ]
  },
  {
   "cell_type": "code",
   "execution_count": 8,
   "id": "69b7423d",
   "metadata": {},
   "outputs": [
    {
     "name": "stdout",
     "output_type": "stream",
     "text": [
      "int32\n",
      "double\n"
     ]
    }
   ],
   "source": [
    "# Examples of types\n",
    "\n",
    "print(pa.int32())\n",
    "print(pa.float64())"
   ]
  },
  {
   "cell_type": "code",
   "execution_count": 9,
   "id": "f5adef28",
   "metadata": {},
   "outputs": [],
   "source": [
    "# Using these types - Define Fields\n",
    "\n",
    "\n",
    "# Types used to define schema (metadata)\n",
    "\n",
    "f1 = pa.field('country_count', pa.int32())\n",
    "\n"
   ]
  },
  {
   "cell_type": "code",
   "execution_count": 10,
   "id": "01230333",
   "metadata": {},
   "outputs": [
    {
     "data": {
      "text/plain": [
       "StructType(struct<idbbunique: int32, price: double, data_date: date64[ms]>)"
      ]
     },
     "execution_count": 10,
     "metadata": {},
     "output_type": "execute_result"
    }
   ],
   "source": [
    "# Define collection of fields as structs\n",
    "\n",
    "f1 = pa.field('idbbunique', pa.int32())\n",
    "f2 = pa.field('price', pa.float64())\n",
    "f3 = pa.field('data_date', pa.date64())\n",
    "# Add nested lists?\n",
    "\n",
    "new_struct =  pa.struct([f1, f2, f3])\n",
    "\n",
    "new_struct\n"
   ]
  },
  {
   "cell_type": "code",
   "execution_count": 11,
   "id": "462cac85",
   "metadata": {},
   "outputs": [
    {
     "data": {
      "text/plain": [
       "idbb_unique: int32\n",
       "price: double\n",
       "data_data: date64[ms]"
      ]
     },
     "execution_count": 11,
     "metadata": {},
     "output_type": "execute_result"
    }
   ],
   "source": [
    "# One can also define Schemas (to be used with Table/Record Batch)\n",
    "\n",
    "schema = pa.schema([('idbb_unique', pa.int32()), ('price', pa.float64()), ('data_data', pa.date64())])\n",
    "schema\n",
    "\n",
    "# schema's can also have nested structures\n",
    "\n"
   ]
  },
  {
   "cell_type": "code",
   "execution_count": 12,
   "id": "50127dd1",
   "metadata": {},
   "outputs": [
    {
     "name": "stdout",
     "output_type": "stream",
     "text": [
      "int_arr=<pyarrow.lib.UInt32Array object at 0x7f58c7e97e80>\n",
      "[\n",
      "  100,\n",
      "  200,\n",
      "  300,\n",
      "  null\n",
      "]\n",
      "float_arr=<pyarrow.lib.DoubleArray object at 0x7f58c7e97ee0>\n",
      "[\n",
      "  100.1,\n",
      "  200,\n",
      "  300,\n",
      "  null\n",
      "]\n",
      "float_arr[-1]=<pyarrow.DoubleScalar: None>\n"
     ]
    },
    {
     "data": {
      "text/plain": [
       "1"
      ]
     },
     "execution_count": 12,
     "metadata": {},
     "output_type": "execute_result"
    }
   ],
   "source": [
    "int_arr = pa.array([100, 200, 300, None], type=pa.uint32())\n",
    "print(f'{int_arr=}')\n",
    "\n",
    "float_arr = pa.array([100.1, 200.0, 300.0, None])\n",
    "print(f'{float_arr=}')\n",
    "\n",
    "# check out the NULLs\n",
    "print(f'{float_arr[-1]=}')\n",
    "\n",
    "float_arr.null_count"
   ]
  },
  {
   "cell_type": "code",
   "execution_count": 13,
   "id": "c8c3dc72",
   "metadata": {},
   "outputs": [
    {
     "data": {
      "text/plain": [
       "<pyarrow.lib.DoubleArray object at 0x7f58ce443e20>\n",
       "[\n",
       "  200,\n",
       "  300\n",
       "]"
      ]
     },
     "execution_count": 13,
     "metadata": {},
     "output_type": "execute_result"
    }
   ],
   "source": [
    "# Slicing is zero-copy operation, since Array's are readonly\n",
    "\n",
    "float_arr[1:3]"
   ]
  },
  {
   "cell_type": "markdown",
   "id": "e5867e94",
   "metadata": {},
   "source": [
    "# Time to talk about None and Nans!"
   ]
  },
  {
   "cell_type": "code",
   "execution_count": 14,
   "id": "83b17a75",
   "metadata": {},
   "outputs": [
    {
     "data": {
      "text/plain": [
       "False"
      ]
     },
     "execution_count": 14,
     "metadata": {},
     "output_type": "execute_result"
    }
   ],
   "source": [
    "x = int_arr[-1]\n",
    "\n",
    "x.is_valid\n"
   ]
  },
  {
   "cell_type": "markdown",
   "id": "681bdd0b",
   "metadata": {},
   "source": [
    "# Union/Category\n"
   ]
  },
  {
   "cell_type": "markdown",
   "id": "0c8e2e7b",
   "metadata": {},
   "source": [
    "# Record Batches\n",
    "\n",
    "- Collection of equal length array instances\n",
    "- Remember (arrays are just contiguous elements of primitives, structs, unions)\n"
   ]
  },
  {
   "cell_type": "code",
   "execution_count": 15,
   "id": "f44a37a5",
   "metadata": {},
   "outputs": [
    {
     "name": "stdout",
     "output_type": "stream",
     "text": [
      "batch.num_columns=3, batch.num_rows=4, batch.schema=f0: int64\n",
      "f1: string\n",
      "f2: bool, [\n",
      "  \"foo\",\n",
      "  \"bar\",\n",
      "  \"baz\",\n",
      "  null\n",
      "]\n"
     ]
    }
   ],
   "source": [
    "# all elements should be of same length\n",
    "data = [\n",
    "    pa.array([1,2,3,4]),\n",
    "    pa.array(['foo', 'bar','baz', None]),\n",
    "    pa.array([True, None, False, True])\n",
    "]\n",
    "batch = pa.RecordBatch.from_arrays(data, ['f0', 'f1', 'f2'])\n",
    "\n",
    "\n",
    "\n",
    "print(f'{batch.num_columns=}, {batch.num_rows=}, {batch.schema=}, {batch[1]}')\n"
   ]
  },
  {
   "cell_type": "markdown",
   "id": "0f50529e",
   "metadata": {},
   "source": [
    "# Slicing into Record Batches\n",
    "\n",
    "-  Zero-copy!"
   ]
  },
  {
   "cell_type": "code",
   "execution_count": 16,
   "id": "90ce4077",
   "metadata": {},
   "outputs": [
    {
     "name": "stdout",
     "output_type": "stream",
     "text": [
      "batch[0:2][1]=<pyarrow.lib.StringArray object at 0x7f58c7c229a0>\n",
      "[\n",
      "  \"foo\",\n",
      "  \"bar\"\n",
      "], batch[0:2][0]=<pyarrow.lib.Int64Array object at 0x7f58c7c229a0>\n",
      "[\n",
      "  1,\n",
      "  2\n",
      "]\n"
     ]
    }
   ],
   "source": [
    "print(f'{batch[0:2][1]=}, {batch[0:2][0]=}')"
   ]
  },
  {
   "cell_type": "markdown",
   "id": "c49a9dda",
   "metadata": {},
   "source": [
    "# Tables\n",
    "\n",
    "- Grouping RecordBatches into one logical unit\n",
    "- Needed so that record-batches arriving from different processes need not be copied/reorganized again"
   ]
  },
  {
   "cell_type": "code",
   "execution_count": 17,
   "id": "749de5df",
   "metadata": {},
   "outputs": [
    {
     "data": {
      "text/plain": [
       "<pyarrow.lib.ChunkedArray object at 0x7f59115af9a0>\n",
       "[\n",
       "  [\n",
       "    1,\n",
       "    2,\n",
       "    3,\n",
       "    4\n",
       "  ],\n",
       "  [\n",
       "    1,\n",
       "    2,\n",
       "    3,\n",
       "    4\n",
       "  ],\n",
       "  [\n",
       "    1,\n",
       "    2,\n",
       "    3,\n",
       "    4\n",
       "  ],\n",
       "  [\n",
       "    1,\n",
       "    2,\n",
       "    3,\n",
       "    4\n",
       "  ],\n",
       "  [\n",
       "    1,\n",
       "    2,\n",
       "    3,\n",
       "    4\n",
       "  ]\n",
       "]"
      ]
     },
     "execution_count": 17,
     "metadata": {},
     "output_type": "execute_result"
    }
   ],
   "source": [
    "batches = [batch] * 5\n",
    "table = pa.Table.from_batches(batches)\n",
    "\n",
    "table[0]"
   ]
  },
  {
   "cell_type": "code",
   "execution_count": 18,
   "id": "85cfc4d8",
   "metadata": {},
   "outputs": [
    {
     "data": {
      "text/plain": [
       "<pyarrow.lib.ChunkedArray object at 0x7f59115afc20>\n",
       "[\n",
       "  [\n",
       "    1,\n",
       "    2,\n",
       "    3,\n",
       "    4\n",
       "  ],\n",
       "  [\n",
       "    1,\n",
       "    2,\n",
       "    3,\n",
       "    4\n",
       "  ],\n",
       "  [\n",
       "    1,\n",
       "    2,\n",
       "    3,\n",
       "    4\n",
       "  ],\n",
       "  [\n",
       "    1,\n",
       "    2,\n",
       "    3,\n",
       "    4\n",
       "  ],\n",
       "  [\n",
       "    1,\n",
       "    2,\n",
       "    3,\n",
       "    4\n",
       "  ],\n",
       "  [\n",
       "    1,\n",
       "    2,\n",
       "    3,\n",
       "    4\n",
       "  ],\n",
       "  [\n",
       "    1,\n",
       "    2,\n",
       "    3,\n",
       "    4\n",
       "  ],\n",
       "  [\n",
       "    1,\n",
       "    2,\n",
       "    3,\n",
       "    4\n",
       "  ],\n",
       "  [\n",
       "    1,\n",
       "    2,\n",
       "    3,\n",
       "    4\n",
       "  ],\n",
       "  [\n",
       "    1,\n",
       "    2,\n",
       "    3,\n",
       "    4\n",
       "  ]\n",
       "]"
      ]
     },
     "execution_count": 18,
     "metadata": {},
     "output_type": "execute_result"
    }
   ],
   "source": [
    "table_1 = [table]*2\n",
    "\n",
    "table_all = pa.concat_tables(table_1)\n",
    "table_all[0]"
   ]
  },
  {
   "cell_type": "code",
   "execution_count": 19,
   "id": "b8600813",
   "metadata": {},
   "outputs": [],
   "source": [
    "# Nested columns\n",
    "# all elements should be of same length\n",
    "\n",
    "a = pa.array([1,2,3,4], type=pa.uint16())"
   ]
  },
  {
   "cell_type": "code",
   "execution_count": 20,
   "id": "12e0859f",
   "metadata": {},
   "outputs": [],
   "source": [
    "# Numpy Integration\n"
   ]
  },
  {
   "cell_type": "code",
   "execution_count": 21,
   "id": "93698f25",
   "metadata": {},
   "outputs": [
    {
     "ename": "SyntaxError",
     "evalue": "invalid syntax (<ipython-input-21-8e24fc69e24c>, line 3)",
     "output_type": "error",
     "traceback": [
      "\u001b[0;36m  File \u001b[0;32m\"<ipython-input-21-8e24fc69e24c>\"\u001b[0;36m, line \u001b[0;32m3\u001b[0m\n\u001b[0;31m    - Both needs columns to be of same length\u001b[0m\n\u001b[0m           ^\u001b[0m\n\u001b[0;31mSyntaxError\u001b[0m\u001b[0;31m:\u001b[0m invalid syntax\n"
     ]
    }
   ],
   "source": [
    "# Pandas Frame Vs Arrow Table\n",
    "\n",
    "- Both needs columns to be of same length\n",
    "- Columns (arrays in Arrow) can have nested types like struct etc (first class objects)\n",
    "-  "
   ]
  },
  {
   "cell_type": "code",
   "execution_count": null,
   "id": "81ffd299",
   "metadata": {},
   "outputs": [],
   "source": [
    "# The plasma in-memory data store"
   ]
  },
  {
   "cell_type": "code",
   "execution_count": null,
   "id": "cc55597d",
   "metadata": {},
   "outputs": [],
   "source": [
    "# relationship to Parquet"
   ]
  },
  {
   "cell_type": "code",
   "execution_count": null,
   "id": "9ebee33a",
   "metadata": {},
   "outputs": [],
   "source": [
    "# More examples"
   ]
  },
  {
   "cell_type": "code",
   "execution_count": null,
   "id": "60fff0b9",
   "metadata": {},
   "outputs": [],
   "source": [
    "# all elements should be of same length\n",
    "data = [\n",
    "    pa.array([1,2,3,4]),\n",
    "    #pa.array(['foo', 'bar','baz', None]),\n",
    "    #pa.array([True, None, False, True])\n",
    "]\n",
    "batch = pa.RecordBatch.from_arrays(data, ['f0']) # 'f1', 'f2'])\n",
    "\n",
    "table = pa.Table.from_batches([batch]*2)\n",
    "\n",
    "df = table.to_pandas(split_blocks=True, self_destruct=True)\n",
    "df.loc[0, 'f0'] = 1000\n",
    "\n",
    "df\n",
    "\n"
   ]
  },
  {
   "cell_type": "code",
   "execution_count": null,
   "id": "4650b310",
   "metadata": {},
   "outputs": [],
   "source": [
    "import pyarrow.compute as pc\n",
    "a = pc.sum(batch[0])\n",
    "\n",
    "b = pc.multiply(batch[0], batch[0])\n",
    "print(b)\n",
    "\n",
    "pc.add(batch[0], batch[0])\n",
    "\n",
    "pc.equal(batch[0],1)\n",
    "\n",
    "l = pc.SetLookupOptions(value_set=pa.array([1]))\n",
    "            \n",
    "pc.is_in(data[0], options=l)\n",
    "\n",
    "pa.scalar(1)\n",
    "           "
   ]
  },
  {
   "cell_type": "markdown",
   "id": "c6952aea",
   "metadata": {},
   "source": [
    "# Feather vs Parquet\n",
    "\n",
    "- https://stackoverflow.com/questions/48083405/what-are-the-differences-between-feather-and-parquet"
   ]
  },
  {
   "cell_type": "code",
   "execution_count": null,
   "id": "78ac06ad",
   "metadata": {},
   "outputs": [],
   "source": [
    "# Example\n",
    "\n",
    "schema = pa.schema([('sec1', pa.float64()),\n",
    "                    ('sec2', pa.float64()),\n",
    "                    ('sec3', pa.float64())])\n",
    "\n",
    "data = [pa.array([101, 102, 99]),\n",
    "        pa.array([201, 200, 195]),\n",
    "        pa.array([10, 20, 15])\n",
    "       ]\n",
    "\n",
    "batch = pa.RecordBatch.from_arrays(data, schema=schema)\n",
    "\n",
    "batch\n",
    "\n",
    "\n",
    "def compute_returns(old, new):\n",
    "        import pyarrow.compute as pc\n",
    "        return pc.subtract(pc.divide(new, old),1)\n",
    "        \n",
    "returns = []\n",
    "for i in range(batch.num_columns):\n",
    "    price = batch[0]\n",
    "    price1 = price[:-1]\n",
    "    price2 = price[1:]\n",
    "    z = compute_returns(price1, price2)\n",
    "    returns.append(z)\n",
    "    \n",
    "returns_table = pa.RecordBatch.from_arrays(returns, schema=schema)\n",
    "\n",
    "\n",
    "returns_table.to_pandas()"
   ]
  },
  {
   "cell_type": "markdown",
   "id": "26b7812d",
   "metadata": {},
   "source": [
    "https://arrow.apache.org/blog/2017/10/15/fast-python-serialization-with-ray-and-arrow/"
   ]
  },
  {
   "cell_type": "code",
   "execution_count": 34,
   "id": "eb9c9957",
   "metadata": {},
   "outputs": [],
   "source": [
    "import pickle\n",
    "import pyarrow\n",
    "import matplotlib.pyplot as plt\n",
    "import numpy as np\n",
    "import timeit\n",
    "\n",
    "def plot(data, labels, title, i):\n",
    "    fig, ax = plt.subplots()\n",
    "    #fig.set_size_inches(3.8, 2.7)\n",
    "\n",
    "    bar_width = 0.15\n",
    "    index = np.arange(len(labels))\n",
    "    opacity = 0.6\n",
    "\n",
    "    placement = 0\n",
    "    for k, v in data.items():\n",
    "        plt.bar(index+placement,\n",
    "                v,\n",
    "                bar_width,\n",
    "                alpha=opacity, \n",
    "                #color='r', \n",
    "                label=k)\n",
    "        placement += bar_width \n",
    "        \n",
    "\n",
    "    plt.title(title, fontweight='bold')\n",
    "    plt.ylabel('Time (seconds)', fontsize=10)\n",
    "    plt.xticks(index + placement / len(list(data.keys())), labels, fontsize=10)\n",
    "    plt.legend(fontsize=10, bbox_to_anchor=(1, 1))\n",
    "    #plt.tight_layout()\n",
    "    plt.yticks(fontsize=10)\n",
    "    plt.savefig('plot-' + str(i) + '.png', format='png')\n",
    "    \n",
    "\n",
    "\n",
    "\n",
    "\n"
   ]
  },
  {
   "cell_type": "code",
   "execution_count": 45,
   "id": "b2a6b165",
   "metadata": {},
   "outputs": [
    {
     "data": {
      "image/png": "[encoded data removed]",
      "text/plain": [
       "<Figure size 432x288 with 1 Axes>"
      ]
     },
     "metadata": {
      "needs_background": "light"
     },
     "output_type": "display_data"
    },
    {
     "data": {
      "image/png": "[encoded data removed]",
      "text/plain": [
       "<Figure size 432x288 with 1 Axes>"
      ]
     },
     "metadata": {
      "needs_background": "light"
     },
     "output_type": "display_data"
    },
    {
     "data": {
      "image/png": "[encoded data removed]",
      "text/plain": [
       "<Figure size 432x288 with 1 Axes>"
      ]
     },
     "metadata": {
      "needs_background": "light"
     },
     "output_type": "display_data"
    },
    {
     "data": {
      "image/png": "[encoded data removed]",
      "text/plain": [
       "<Figure size 432x288 with 1 Axes>"
      ]
     },
     "metadata": {
      "needs_background": "light"
     },
     "output_type": "display_data"
    }
   ],
   "source": [
    "import pandas as pd\n",
    "def plot_test(filename, title):\n",
    "    df = pd.read_csv(filename)\n",
    "    df['method']=df['label'].map(lambda z: z.split('_')[0])\n",
    "    df['rows']=df['label'].map(lambda z: tuple(map(int, z.split('_')[1:])))\n",
    "    data = dict()\n",
    "    df = df.sort_values('rows')\n",
    "    for k, v2 in df.groupby('method'):\n",
    "        g = v2.sort_index()['duration'].values.tolist()\n",
    "        data[k]=g\n",
    "    labels = []\n",
    "    for k, _ in df.groupby('rows'):\n",
    "        labels.append(str(k))\n",
    "    #print(labels)\n",
    "    #print(data)\n",
    "    plot(data, labels, title, 0)\n",
    "\n",
    "plot_test('/tmp/test1.txt', 'batch_vs_numpy_only_numeric')\n",
    "plot_test('/tmp/test2.txt', 'batch_vs_numpy_with_python_objects')\n",
    "plot_test('/tmp/test3.txt', 'batch_vs_pandas_vs_staticframe')\n",
    "plot_test('/tmp/test4.txt', 'arrow_file_vs_mapped_arrow_file')\n",
    "\n"
   ]
  },
  {
   "cell_type": "code",
   "execution_count": null,
   "id": "4dd86790",
   "metadata": {},
   "outputs": [],
   "source": []
  },
  {
   "cell_type": "code",
   "execution_count": null,
   "id": "55dfdaea",
   "metadata": {},
   "outputs": [],
   "source": []
  },
  {
   "cell_type": "code",
   "execution_count": null,
   "id": "15006875",
   "metadata": {},
   "outputs": [],
   "source": []
  },
  {
   "cell_type": "code",
   "execution_count": null,
   "id": "2d6ef112",
   "metadata": {},
   "outputs": [],
   "source": []
  },
  {
   "cell_type": "code",
   "execution_count": null,
   "id": "c95e66f3",
   "metadata": {},
   "outputs": [],
   "source": []
  },
  {
   "cell_type": "code",
   "execution_count": null,
   "id": "8354d0b4",
   "metadata": {},
   "outputs": [],
   "source": []
  },
  {
   "cell_type": "code",
   "execution_count": null,
   "id": "5981e057",
   "metadata": {},
   "outputs": [],
   "source": []
  },
  {
   "cell_type": "code",
   "execution_count": null,
   "id": "6eb37d1b",
   "metadata": {},
   "outputs": [],
   "source": []
  },
  {
   "cell_type": "code",
   "execution_count": null,
   "id": "b9655768",
   "metadata": {},
   "outputs": [],
   "source": []
  },
  {
   "cell_type": "code",
   "execution_count": null,
   "id": "b078cf18",
   "metadata": {},
   "outputs": [],
   "source": []
  },
  {
   "cell_type": "code",
   "execution_count": null,
   "id": "b6d9dfe9",
   "metadata": {},
   "outputs": [],
   "source": []
  },
  {
   "cell_type": "code",
   "execution_count": null,
   "id": "a1aa612b",
   "metadata": {},
   "outputs": [],
   "source": []
  }
 ],
 "metadata": {
  "kernelspec": {
   "display_name": "Python 3",
   "language": "python",
   "name": "python3"
  },
  "language_info": {
   "codemirror_mode": {
    "name": "ipython",
    "version": 3
   },
   "file_extension": ".py",
   "mimetype": "text/x-python",
   "name": "python",
   "nbconvert_exporter": "python",
   "pygments_lexer": "ipython3",
   "version": "3.8.3"
  }
 },
 "nbformat": 4,
 "nbformat_minor": 5
}
